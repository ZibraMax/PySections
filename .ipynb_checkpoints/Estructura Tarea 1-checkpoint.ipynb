{
 "cells": [
  {
   "cell_type": "code",
   "execution_count": 1,
   "metadata": {},
   "outputs": [],
   "source": [
    "import PySections import *"
   ]
  },
  {
   "cell_type": "code",
   "execution_count": 5,
   "metadata": {},
   "outputs": [
    {
     "name": "stdout",
     "output_type": "stream",
     "text": [
      "Se ha terminado de calcular, puedes examinar la variable de la estructura para consultar los resultados.\n",
      "Successfully created the directory C:\\Users\\david\\Desktop\\Analisis Avanzado\\Python/Resultados \n"
     ]
    }
   ],
   "source": [
    "estructura = Estructura()\n",
    "concreto = Material('CONCRETO', 1, 0.2, 9.9*10**-6, 23.54)\n",
    "seccion = Seccion('ELEMENTOS', TipoSeccion.GENERAL, [400000,9600], concreto)\n",
    "estructura.agregarNodo(3, 4)\n",
    "estructura.agregarNodo(7, 4)\n",
    "estructura.agregarNodo(0, 0, [False, False, False])\n",
    "estructura.agregarNodo(3, 0, [False, False, True])\n",
    "estructura.agregarNodo(7, 0, [False, False, True])\n",
    "\n",
    "estructura.agregarElemento(seccion, 2, 0, Tipo.UNO)\n",
    "estructura.agregarElemento(seccion, 0, 1, Tipo.UNO)\n",
    "estructura.agregarElemento(seccion, 3, 0, Tipo.UNO)\n",
    "estructura.agregarElemento(seccion, 4, 1, Tipo.UNO)\n",
    "\n",
    "estructura.agregarCargaElemento(elemento=0, wx=-100*np.sin(estructura.elementos[0].Angulo), wy=100*np.cos(estructura.elementos[0].Angulo))\n",
    "estructura.agregarCargaPuntual(1, 80*estructura.elementos[2].Longitud/2, estructura.elementos[2].Longitud/3)\n",
    "estructura.agregarCargaElemento(3, 0, 0, 300)\n",
    "estructura.agregarCargaNodo(1, 300, 0, 0)\n",
    "\n",
    "#estructura.agregarResorte(4, [1000,0,0])\n",
    "\n",
    "#estructura.agregarCargaPorTemperatura(1,-20,0)\n",
    "#estructura.agregarDefectoDeFabricacion(1,0.001,0.001)\n",
    "#estructura.agregarCargaPresfuerzoAxial(0,1000)\n",
    "#estructura.agregarCargaPostensadoFlexionYAxial(1,1000,0.01,0.01,0.01)\n",
    "\n",
    "#estructura.definirDesplazamientoRestringido(nodo=4, gdl=1, valor=-0.005)\n",
    "estructura.solucionar()\n",
    "estructura.pintar()\n",
    "estructura.guardarResultados()"
   ]
  },
  {
   "cell_type": "code",
   "execution_count": null,
   "metadata": {},
   "outputs": [],
   "source": []
  }
 ],
 "metadata": {
  "kernelspec": {
   "display_name": "Python 3",
   "language": "python",
   "name": "python3"
  },
  "language_info": {
   "codemirror_mode": {
    "name": "ipython",
    "version": 3
   },
   "file_extension": ".py",
   "mimetype": "text/x-python",
   "name": "python",
   "nbconvert_exporter": "python",
   "pygments_lexer": "ipython3",
   "version": "3.7.5"
  }
 },
 "nbformat": 4,
 "nbformat_minor": 4
}
