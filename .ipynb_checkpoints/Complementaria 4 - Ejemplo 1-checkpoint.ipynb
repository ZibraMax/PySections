{
 "cells": [
  {
   "cell_type": "code",
   "execution_count": 1,
   "metadata": {},
   "outputs": [],
   "source": [
    "from PySections import *"
   ]
  },
  {
   "cell_type": "code",
   "execution_count": 4,
   "metadata": {},
   "outputs": [],
   "source": [
    "estructura = Estructura()\n",
    "concreto = Material('CONCRETO', 25000000, 0.2, 9.9*10**-6, 23.54)\n",
    "seccion = Seccion('ELEMENTOS', TipoSeccion.RECTANGULAR, [0.3,0.4], concreto)\n",
    "estructura.agregarNodo(0, 0, [False, False, True])\n",
    "estructura.agregarNodo(0, 3.75, [True, True, True])\n",
    "estructura.agregarNodo(3.75, 3.75, [False, False, False])\n",
    "\n",
    "estructura.agregarElemento(seccion, 0, 1, Tipo.UNO)\n",
    "estructura.agregarElemento(seccion, 1, 2, Tipo.UNO)\n",
    "\n",
    "estructura.agregarResorte(0, [0,0,8000])\n",
    "\n",
    "estructura.agregarCargaElemento(1, 0, 25, 0)\n",
    "estructura.agregarCargaPuntual(0, 10, estructura.elementos[0].Longitud/2)\n",
    "estructura.agregarCargaNodo(1, 0, 0, 20)\n",
    "\n",
    "\n",
    "estructura.definirDesplazamientoRestringido(nodo=2, gdl=1, valor=-0.05)\n",
    "estructura.agregarCargaPorTemperatura(0,0,35/0.4)\n",
    "estructura.agregarCargaPorTemperatura(1,0,35/0.4)"
   ]
  },
  {
   "cell_type": "code",
   "execution_count": 5,
   "metadata": {},
   "outputs": [
    {
     "name": "stdout",
     "output_type": "stream",
     "text": [
      "Se ha terminado de calcular, puedes examinar la variable de la estructura para consultar los resultados.\n"
     ]
    }
   ],
   "source": [
    "estructura.solucionar(True)\n",
    "estructura.pintar()"
   ]
  }
 ],
 "metadata": {
  "kernelspec": {
   "display_name": "Python 3",
   "language": "python",
   "name": "python3"
  },
  "language_info": {
   "codemirror_mode": {
    "name": "ipython",
    "version": 3
   },
   "file_extension": ".py",
   "mimetype": "text/x-python",
   "name": "python",
   "nbconvert_exporter": "python",
   "pygments_lexer": "ipython3",
   "version": "3.7.5"
  }
 },
 "nbformat": 4,
 "nbformat_minor": 4
}
