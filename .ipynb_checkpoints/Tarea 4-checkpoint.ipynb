{
 "cells": [
  {
   "cell_type": "code",
   "execution_count": 1,
   "metadata": {},
   "outputs": [],
   "source": [
    "#Tarea 4"
   ]
  },
  {
   "cell_type": "code",
   "execution_count": 50,
   "metadata": {},
   "outputs": [
    {
     "name": "stdout",
     "output_type": "stream",
     "text": [
      "Se ha terminado de calcular, puedes examinar la variable de la estructura para consultar los resultados.\n"
     ]
    }
   ],
   "source": [
    "from PySections import *\n",
    "estructura = Estructura()\n",
    "\n",
    "area = 3.54/1550\n",
    "inercia = 53.8/(1550**2)\n",
    "\n",
    "h = 4\n",
    "l = 4\n",
    "dl = 1\n",
    "\n",
    "desplazamientosLibres=[55.3/1000,-15.1/1000,-0.00826,55.4/1000,-15.6/1000,-0.00829,0,0,0,0,0,0]\n",
    "\n",
    "acero = Material('CONCRETO', 200000000, 0.2, 9.9*10**-6, 23.54)\n",
    "seccion = Seccion('ELEMENTOS', TipoSeccion.GENERAL, [area,inercia], acero)\n",
    "\n",
    "\n",
    "estructura.agregarNodo(x=0,y=0,fix=[False,False,False])\n",
    "estructura.agregarNodo(x=dl,y=h)\n",
    "estructura.agregarNodo(x=l+dl,y=h)\n",
    "estructura.agregarNodo(x=l,y=0,fix=[False,False,False])\n",
    "\n",
    "estructura.agregarElemento(nodoInicial=0,nodoFinal=1,seccion=seccion,defCortante=False)\n",
    "estructura.agregarElemento(nodoInicial=1,nodoFinal=2,seccion=seccion,defCortante=False)\n",
    "estructura.agregarElemento(nodoInicial=2,nodoFinal=3,seccion=seccion,defCortante=False)\n",
    "\n",
    "estructura.agregarCargaNodo(nodo=1,py=-120)\n",
    "estructura.agregarCargaNodo(nodo=2,py=-120)\n",
    "\n",
    "estructura.solucionar(True,True)\n",
    "\n",
    "estructura.U = np.array(desplazamientosLibres)\n",
    "for i in estructura.elementos:\n",
    "    i.Ue = estructura.U[np.ix_(i.diccionario)]"
   ]
  },
  {
   "cell_type": "code",
   "execution_count": 51,
   "metadata": {},
   "outputs": [],
   "source": [
    "def determinacionDeEstado(this):\n",
    "    n=this.libres.size+this.restringidos.size\n",
    "    Kll = np.zeros([n,n])\n",
    "    Pl = np.zeros([n,1])\n",
    "    for i in this.elementos:\n",
    "        i.determinarV0()\n",
    "        i.calcularv()\n",
    "        i.fuerzasBasicas()\n",
    "        [Ke, P] = i.matrizYFuerzas()\n",
    "        Kll[np.ix_(i.diccionario,i.diccionario)] = Kll[np.ix_(i.diccionario,i.diccionario)] + Ke\n",
    "        Pl[np.ix_(i.diccionario)] = Pl[np.ix_(i.diccionario)] + P\n",
    "    return Kll[np.ix_(this.libres,this.libres)], Pl[np.ix_(this.libres)]\n",
    "K, P = determinacionDeEstado(estructura)"
   ]
  },
  {
   "cell_type": "code",
   "execution_count": 52,
   "metadata": {},
   "outputs": [
    {
     "data": {
      "text/plain": [
       "array([[ 1.21654291e+05,  2.73223210e+04,  4.51950706e+02,\n",
       "        -1.14190691e+05,  1.77762166e+01,  2.89651873e+00],\n",
       "       [ 2.73223210e+04,  1.03683295e+05,  1.82315175e+02,\n",
       "         1.77762166e+01, -1.60583406e+02,  3.29738397e+02],\n",
       "       [ 4.51950706e+02,  1.82315175e+02, -1.94030420e+02,\n",
       "         2.81480009e+00, -3.24027078e+02,  1.31041934e+03],\n",
       "       [-1.14190691e+05,  1.77762166e+01,  2.81480009e+00,\n",
       "         1.20296965e+05,  2.46839654e+04, -4.35647490e+02],\n",
       "       [ 1.77762166e+01, -1.60583406e+02, -3.24027078e+02,\n",
       "         2.46839654e+04,  1.05210028e+05, -1.51259782e+02],\n",
       "       [ 2.89651873e+00,  3.29738397e+02,  1.31041934e+03,\n",
       "        -4.35647490e+02, -1.51259782e+02,  5.92228824e+01]])"
      ]
     },
     "execution_count": 52,
     "metadata": {},
     "output_type": "execute_result"
    }
   ],
   "source": [
    "K"
   ]
  },
  {
   "cell_type": "code",
   "execution_count": 53,
   "metadata": {},
   "outputs": [
    {
     "data": {
      "text/plain": [
       "array([[ 25.98662899],\n",
       "       [-22.43316181],\n",
       "       [-18.72377991],\n",
       "       [ 23.91670988],\n",
       "       [105.23325659],\n",
       "       [ 39.88225951]])"
      ]
     },
     "execution_count": 53,
     "metadata": {},
     "output_type": "execute_result"
    }
   ],
   "source": [
    "estructura.Fn[np.ix_(estructura.libres)]-P"
   ]
  }
 ],
 "metadata": {
  "kernelspec": {
   "display_name": "Python 3",
   "language": "python",
   "name": "python3"
  },
  "language_info": {
   "codemirror_mode": {
    "name": "ipython",
    "version": 3
   },
   "file_extension": ".py",
   "mimetype": "text/x-python",
   "name": "python",
   "nbconvert_exporter": "python",
   "pygments_lexer": "ipython3",
   "version": "3.7.5"
  }
 },
 "nbformat": 4,
 "nbformat_minor": 4
}
