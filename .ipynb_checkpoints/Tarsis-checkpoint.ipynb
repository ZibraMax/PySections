{
 "cells": [
  {
   "cell_type": "code",
   "execution_count": 1,
   "metadata": {},
   "outputs": [],
   "source": [
    "from PySections import *"
   ]
  },
  {
   "cell_type": "code",
   "execution_count": 33,
   "metadata": {},
   "outputs": [
    {
     "name": "stdout",
     "output_type": "stream",
     "text": [
      "Se ha terminado de calcular, puedes examinar la variable de la estructura para consultar los resultados.\n"
     ]
    }
   ],
   "source": [
    "estructura = Estructura()\n",
    "ACERO = Material('ACERO', 200000000, 0.2, 9.9*10**-6, 23.54)\n",
    "COLUMNAS = Seccion('ELEMENTOS', TipoSeccion.GENERAL, [0.01445158,0.000874086], ACERO)\n",
    "VIGAS= Seccion('ELEMENTOS', TipoSeccion.GENERAL, [0.017032225,0.0015025954], ACERO)\n",
    "\n",
    "h=5.4\n",
    "l =25\n",
    "hh=h+2.204087259\n",
    "\n",
    "estructura.agregarNodo(x=l/2,y=hh)\n",
    "estructura.agregarNodo(x=0,y=h)\n",
    "estructura.agregarNodo(x=l,y=h)\n",
    "estructura.agregarNodo(x=0,y=0,fix=[False,False,False])\n",
    "estructura.agregarNodo(x=l,y=0,fix=[False,False,False])\n",
    "\n",
    "estructura.agregarCargaNodo(nodo=1,px=20)\n",
    "estructura.agregarCargaNodo(nodo=0,px=45)\n",
    "estructura.agregarCargaNodo(nodo=2,px=20)\n",
    "\n",
    "estructura.agregarElemento(nodoInicial=3,nodoFinal=1,seccion=COLUMNAS,tipo=Tipo.DOS)\n",
    "estructura.agregarElemento(nodoInicial=1,nodoFinal=0,seccion=VIGAS,tipo=Tipo.UNO)\n",
    "estructura.agregarElemento(nodoInicial=0,nodoFinal=2,seccion=VIGAS,tipo=Tipo.UNO)\n",
    "estructura.agregarElemento(nodoInicial=4,nodoFinal=2,seccion=COLUMNAS,tipo=Tipo.DOS)\n",
    "\n",
    "estructura.agregarCargaDistribuida(elemento=1,WY=15)\n",
    "estructura.agregarCargaDistribuida(elemento=2,WY=15)\n",
    "\n",
    "estructura.definirDesplazamientoRestringido(4,1,-0.04)\n",
    "estructura.solucionar(True,True)\n",
    "estructura.guardarResultados('ResultadosJhon')"
   ]
  }
 ],
 "metadata": {
  "kernelspec": {
   "display_name": "Python 3",
   "language": "python",
   "name": "python3"
  },
  "language_info": {
   "codemirror_mode": {
    "name": "ipython",
    "version": 3
   },
   "file_extension": ".py",
   "mimetype": "text/x-python",
   "name": "python",
   "nbconvert_exporter": "python",
   "pygments_lexer": "ipython3",
   "version": "3.7.5"
  }
 },
 "nbformat": 4,
 "nbformat_minor": 4
}
