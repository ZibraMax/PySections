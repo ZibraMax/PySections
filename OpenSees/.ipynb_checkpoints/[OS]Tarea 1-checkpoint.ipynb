{
 "cells": [
  {
   "cell_type": "code",
   "execution_count": 5,
   "metadata": {},
   "outputs": [
    {
     "name": "stdout",
     "output_type": "stream",
     "text": [
      "Análisis completado con éxito :D\n"
     ]
    }
   ],
   "source": [
    "import openseespy.opensees as ops\n",
    "ops.wipe()\n",
    "ops.model('basic','-ndm',2,'-ndf',3)\n",
    "\n",
    "ops.geomTransf('Linear',1)\n",
    "ops.timeSeries('Linear',1)\n",
    "ops.algorithm('Linear')\n",
    "ops.integrator('LoadControl',1)\n",
    "ops.constraints('Transformation')\n",
    "ops.numberer('RCM')\n",
    "ops.system('BandGeneral')\n",
    "ops.analysis('Static')\n",
    "\n",
    "ops.uniaxialMaterial('Elastic', 1, 1)\n",
    "ops.uniaxialMaterial('Elastic', 2, 1*10**10)\n",
    "ops.uniaxialMaterial('Elastic', 3, 1*10**(-10))\n",
    "\n",
    "\n",
    "ops.node(1,3,4,'-ndf',3)\n",
    "ops.node(2,7,4,'-ndf',3)\n",
    "ops.node(3,0,0,'-ndf',3)\n",
    "ops.node(4,3,0,'-ndf',3)\n",
    "ops.node(5,7,0,'-ndf',3)\n",
    "\n",
    "\n",
    "ops.fix(4,1,1,0)\n",
    "ops.fix(5,1,1,0)\n",
    "\n",
    "A=400000\n",
    "E=1\n",
    "I=9600\n",
    "\n",
    "ops.element('elasticBeamColumn', 1, 3, 1, A, E, I, 1)\n",
    "ops.element('elasticBeamColumn', 2, 1, 2, A, E, I, 1)\n",
    "ops.element('elasticBeamColumn', 3, 5, 2, A, E, I, 1)\n",
    "ops.element('elasticBeamColumn', 4, 4, 1, A, E, I, 1)\n",
    "\n",
    "\n",
    "ops.pattern('Plain',1,1)\n",
    "ops.load(2,300,0,0)\n",
    "ops.eleLoad('-ele', 1,'-type','-beamUniform',-100,0)\n",
    "ops.eleLoad('-ele', 2,'-type','-beamPoint',-160,1/3)\n",
    "\n",
    "ops.eleLoad('-ele', 3,'-type','-beamPoint',-300,1/3)\n",
    "ops.eleLoad('-ele', 3,'-type','-beamPoint',-300,2/3)\n",
    "\n",
    "a = ops.analyze(1)\n",
    "if a == 0:\n",
    "    print('Análisis completado con éxito :D')\n",
    "else:\n",
    "    print('El análisis ha fallado')"
   ]
  },
  {
   "cell_type": "code",
   "execution_count": 6,
   "metadata": {},
   "outputs": [],
   "source": [
    "ops.recorder('Node','-file','desplazamientos.txt','-time','-node', 1, 2, '-dof', 1, 2, 3, 'disp')\n",
    "ops.recorder('Node','-file','reacciones.txt','-time','-node', 3, 4, 5, '-dof', 1, 2, 3, 'reaction')\n",
    "ops.record()\n",
    "ops.remove('recorders')"
   ]
  },
  {
   "cell_type": "code",
   "execution_count": null,
   "metadata": {},
   "outputs": [],
   "source": []
  },
  {
   "cell_type": "code",
   "execution_count": null,
   "metadata": {},
   "outputs": [],
   "source": []
  }
 ],
 "metadata": {
  "kernelspec": {
   "display_name": "Python 3",
   "language": "python",
   "name": "python3"
  },
  "language_info": {
   "codemirror_mode": {
    "name": "ipython",
    "version": 3
   },
   "file_extension": ".py",
   "mimetype": "text/x-python",
   "name": "python",
   "nbconvert_exporter": "python",
   "pygments_lexer": "ipython3",
   "version": "3.7.5"
  }
 },
 "nbformat": 4,
 "nbformat_minor": 4
}
