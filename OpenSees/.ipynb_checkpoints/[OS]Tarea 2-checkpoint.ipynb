{
 "cells": [
  {
   "cell_type": "code",
   "execution_count": 4,
   "metadata": {},
   "outputs": [],
   "source": [
    "import openseespy.opensees as ops"
   ]
  },
  {
   "cell_type": "markdown",
   "metadata": {},
   "source": [
    "<h1>Cable Pretensado</h1>"
   ]
  },
  {
   "cell_type": "code",
   "execution_count": 6,
   "metadata": {},
   "outputs": [
    {
     "name": "stdout",
     "output_type": "stream",
     "text": [
      "Análisis completado con éxito :D\n"
     ]
    }
   ],
   "source": [
    "ops.wipe() #Comando que borra todo\n",
    "ops.model('basic','-ndm',2,'-ndf',3) #Definición del modelo\n",
    "\n",
    "#4015.644 -> 0.05 m\n",
    "f0 = 4015.644  #[kN]\n",
    "\n",
    "Av = 1\n",
    "Iv = 1\n",
    "Ev = 7814000\n",
    "Wv = 32\n",
    "\n",
    "Ac = 1\n",
    "Ic = 1\n",
    "Ec = 315840\n",
    "\n",
    "stress = f0/Ac\n",
    "strain = stress/Ec\n",
    "\n",
    "\n",
    "#Nodos \n",
    "ops.node(1,0,1.55,'-ndf',3)\n",
    "ops.node(2,17,1.55,'-ndf',3)\n",
    "ops.node(3,17,0,'-ndf',3)\n",
    "\n",
    "#constraints\n",
    "ops.fix(1,1,1,0)\n",
    "ops.fix(2,1,0,1)\n",
    "ops.fix(3,1,0,1)\n",
    "\n",
    "\n",
    "ops.uniaxialMaterial('Elastic', 1, Ec)\n",
    "ops.uniaxialMaterial('InitStrainMaterial', 2, 1, strain)\n",
    "\n",
    "\n",
    "ops.geomTransf('Linear',1)\n",
    "\n",
    "\n",
    "\n",
    "ops.element('elasticBeamColumn', 1, 1 ,2,Av,Ev,Iv, 1)\n",
    "ops.element('truss', 2, 1 ,3 ,Ac, 2)\n",
    "\n",
    "\n",
    "ops.timeSeries('Linear',1)\n",
    "\n",
    "ops.pattern('Plain',1,1)\n",
    "ops.eleLoad(1,'-type','beamUniform',-Wv,0)\n",
    "\n",
    "\n",
    "\n",
    "ops.recorder\n",
    "\n",
    "ops.recorder('Node','-file','desplazamientos.txt','-time','-nodeRange', 1, 3, '-dof', 1, 2, 3, 'disp')\n",
    "ops.recorder('Node','-file','reacciones.txt','-time','-nodeRange', 1, 3, '-dof', 1, 2, 3, 'reaction')\n",
    "ops.record()\n",
    "ops.remove('recorders')\n",
    "\n",
    "\n",
    "\n",
    "ops.constraints('Transformation')\n",
    "ops.numberer('RCM')\n",
    "ops.system('BandGeneral')\n",
    "ops.algorithm('Linear')\n",
    "ops.integrator('LoadControl',1,4,0,2)\n",
    "#ops.test('NormDispIncr', 1*10**(-12),25,0,2)\n",
    "ops.analysis('Static')\n",
    "\n",
    "a = ops.analyze(1)\n",
    "if a == 0:\n",
    "    print('Análisis completado con éxito :D')\n",
    "else:\n",
    "    print('El análisis ha fallado')"
   ]
  }
 ],
 "metadata": {
  "kernelspec": {
   "display_name": "Python 3",
   "language": "python",
   "name": "python3"
  },
  "language_info": {
   "codemirror_mode": {
    "name": "ipython",
    "version": 3
   },
   "file_extension": ".py",
   "mimetype": "text/x-python",
   "name": "python",
   "nbconvert_exporter": "python",
   "pygments_lexer": "ipython3",
   "version": "3.7.5"
  }
 },
 "nbformat": 4,
 "nbformat_minor": 4
}
