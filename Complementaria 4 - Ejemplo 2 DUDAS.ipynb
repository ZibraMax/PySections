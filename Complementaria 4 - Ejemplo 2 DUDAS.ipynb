{
 "cells": [
  {
   "cell_type": "code",
   "execution_count": 1,
   "metadata": {},
   "outputs": [],
   "source": [
    "from PySections import *"
   ]
  },
  {
   "cell_type": "code",
   "execution_count": 2,
   "metadata": {},
   "outputs": [],
   "source": [
    "estructura = Estructura()\n",
    "concreto = Material('CONCRETO', 1, 0.2, 9.9*10**-6, 23.54)\n",
    "seccion = Seccion('ELEMENTOS', TipoSeccion.GENERAL, [5.64,4.02], concreto)\n",
    "estructura.agregarNodo(0, 0, [True, False, True])\n",
    "estructura.agregarNodo(40, 0, [False, False, True])\n",
    "\n",
    "estructura.agregarElemento(seccion, 0, 1, Tipo.UNO)\n",
    "\n",
    "estructura.agregarCargaElemento(0, 0, 285, 0)\n",
    "estructura.agregarCargaPostensadoFlexionYAxial(0,20000,0,1.16,0.75)"
   ]
  },
  {
   "cell_type": "code",
   "execution_count": 3,
   "metadata": {},
   "outputs": [
    {
     "name": "stdout",
     "output_type": "stream",
     "text": [
      "Se ha terminado de calcular, puedes examinar la variable de la estructura para consultar los resultados.\n"
     ]
    }
   ],
   "source": [
    "estructura.solucionar()\n",
    "estructura.pintar()"
   ]
  }
 ],
 "metadata": {
  "kernelspec": {
   "display_name": "Python 3",
   "language": "python",
   "name": "python3"
  },
  "language_info": {
   "codemirror_mode": {
    "name": "ipython",
    "version": 3
   },
   "file_extension": ".py",
   "mimetype": "text/x-python",
   "name": "python",
   "nbconvert_exporter": "python",
   "pygments_lexer": "ipython3",
   "version": "3.7.5"
  }
 },
 "nbformat": 4,
 "nbformat_minor": 4
}
