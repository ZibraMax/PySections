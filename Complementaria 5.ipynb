{
 "cells": [
  {
   "cell_type": "code",
   "execution_count": 1,
   "metadata": {},
   "outputs": [],
   "source": [
    "from PySections import *\n",
    "import numpy as np"
   ]
  },
  {
   "cell_type": "code",
   "execution_count": 2,
   "metadata": {},
   "outputs": [
    {
     "name": "stdout",
     "output_type": "stream",
     "text": [
      "Se ha terminado de calcular, puedes examinar la variable de la estructura para consultar los resultados.\n"
     ]
    }
   ],
   "source": [
    "estructura = Estructura()\n",
    "\n",
    "concreto = Material('CONCRETO', 20000000, 0.2, 9.9*10**-6, 23.54)\n",
    "seccion = Seccion('ELEMENTOS', TipoSeccion.GENERAL, [0.075,0.0005625], concreto)\n",
    "\n",
    "estructura.agregarNodo(x=0, y=0, fix=[False,False,True])\n",
    "\n",
    "estructura.agregarNodo(x=7, y=0, fix=[False, False, True])\n",
    "\n",
    "estructura.agregarNodo(x=4, y=3)\n",
    "\n",
    "estructura.agregarNodo(x=7, y=3)\n",
    "\n",
    "\n",
    "estructura.agregarElemento(seccion=seccion, nodoInicial=0, nodoFinal=2, tipo=Tipo.UNO)\n",
    "estructura.agregarElemento(seccion=seccion, nodoInicial=2, nodoFinal=3, tipo=Tipo.UNO)\n",
    "estructura.agregarElemento(seccion=seccion, nodoInicial=3, nodoFinal=1, tipo=Tipo.UNO)\n",
    "\n",
    "estructura.agregarCargaDistribuida(elemento=0, WY=25)\n",
    "estructura.agregarCargaElemento(elemento=1,wy=25)\n",
    "\n",
    "estructura.solucionar(verbose=True,dibujar=True)"
   ]
  },
  {
   "cell_type": "code",
   "execution_count": null,
   "metadata": {},
   "outputs": [],
   "source": []
  }
 ],
 "metadata": {
  "kernelspec": {
   "display_name": "Python 3",
   "language": "python",
   "name": "python3"
  },
  "language_info": {
   "codemirror_mode": {
    "name": "ipython",
    "version": 3
   },
   "file_extension": ".py",
   "mimetype": "text/x-python",
   "name": "python",
   "nbconvert_exporter": "python",
   "pygments_lexer": "ipython3",
   "version": "3.7.5"
  }
 },
 "nbformat": 4,
 "nbformat_minor": 4
}
