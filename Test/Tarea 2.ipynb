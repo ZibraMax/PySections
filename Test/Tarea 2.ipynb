{
 "cells": [
  {
   "cell_type": "code",
   "execution_count": 2,
   "metadata": {},
   "outputs": [],
   "source": [
    "from PySections import *"
   ]
  },
  {
   "cell_type": "markdown",
   "metadata": {},
   "source": [
    "<h1>Cable Pretensado</h1>"
   ]
  },
  {
   "cell_type": "code",
   "execution_count": 6,
   "metadata": {},
   "outputs": [
    {
     "output_type": "stream",
     "name": "stdout",
     "text": [
      "El valor de la carga para que la deflexion sea 0.005 es de 4015.642184973073\n",
      "Se han guardado los resultados en: c:\\Users\\david\\Desktop\\PySections/Resultados \n"
     ]
    }
   ],
   "source": [
    "estructura = Estructura()\n",
    "\n",
    "concreto = Material('CONCRETO', 1, 0.2, 9.9*10**-6, 23.54)\n",
    "seccion = Seccion('ELEMENTOS', TipoSeccion.GENERAL, [315840,7814000], concreto)\n",
    "seccion2 = Seccion('ELEMENTOS', TipoSeccion.GENERAL, [9*10**9,1*10**-9], concreto)\n",
    "\n",
    "estructura.agregarNodo(x=0, y=1.55, fix=[False,False,False])\n",
    "estructura.agregarNodo(x=17, y=1.55, fix=[False,True,False])\n",
    "estructura.agregarNodo(x=17, y=0, fix=[False,True,False])\n",
    "\n",
    "\n",
    "estructura.agregarElemento(seccion=seccion, nodoInicial=0, nodoFinal=1, tipo=Tipo.DOS)\n",
    "estructura.agregarElemento(seccion=seccion, nodoInicial=0, nodoFinal=2, tipo=Tipo.CUATRO)\n",
    "estructura.agregarElemento(seccion=seccion2, nodoInicial=1, nodoFinal=2, tipo=Tipo.UNO)\n",
    "\n",
    "\n",
    "estructura.agregarCargaElemento(elemento=0, wy=32)\n",
    "\n",
    "\n",
    "error = 1\n",
    "sup = 6455.939\n",
    "inf = 0\n",
    "defl = 0.005\n",
    "for i in range(0,100):\n",
    "    xr = (sup + inf)/2\n",
    "    estructura.agregarCargaPresfuerzoAxial(elemento=1, q0=sup, remplazar=True)\n",
    "    estructura.solucionar(verbose=False)\n",
    "    fxsup = estructura.Ul[0]-defl\n",
    "    estructura.agregarCargaPresfuerzoAxial(elemento=1, q0=inf, remplazar=True)\n",
    "    estructura.solucionar(verbose=False)\n",
    "    fxinf = estructura.Ul[0]-defl\n",
    "    estructura.agregarCargaPresfuerzoAxial(elemento=1, q0=xr, remplazar=True)\n",
    "    estructura.solucionar(verbose=False)\n",
    "    fxr = estructura.Ul[0]-defl\n",
    "    if fxr*fxsup <0:\n",
    "        inf = xr\n",
    "    else:\n",
    "        sup = xr\n",
    "print('El valor de la carga para que la deflexion sea ' + format(defl) + ' es de ' + format(xr))\n",
    "estructura.pintar()\n",
    "estructura.guardarResultados('Resultados')"
   ]
  },
  {
   "cell_type": "markdown",
   "metadata": {},
   "source": [
    "<h1>Problema 5</h1>"
   ]
  },
  {
   "cell_type": "code",
   "execution_count": 4,
   "metadata": {},
   "outputs": [
    {
     "output_type": "stream",
     "name": "stdout",
     "text": [
      "Se ha terminado de calcular, puedes examinar la variable de la estructura para consultar los resultados.\n"
     ]
    }
   ],
   "source": [
    "estructura2 = Estructura()\n",
    "ACERO = Material('ASTM A9922', 200000000, 0.3, 1.17*10**-5, 76.9729)\n",
    "abed = Seccion('ELEMENTOS AB & ED', TipoSeccion.GENERAL, [(7.55*10**3)/(1000**2),(1.28*10**8)/(1000**4)], ACERO)\n",
    "h1 = 0.33\n",
    "bccd = Seccion('ELEMENTOS AB & ED', TipoSeccion.GENERAL, [(6.65*10**3)/(1000**2),(2.12*10**8)/(1000**4)], ACERO)\n",
    "h2 = 0.45\n",
    "\n",
    "interior = -15\n",
    "exterior = 45\n",
    "\n",
    "inicial = 25\n",
    "\n",
    "estructura2.agregarNodo(x=0, y=0, fix=[False,False,False])\n",
    "\n",
    "estructura2.agregarNodo(x=0, y=4)\n",
    "estructura2.agregarNodo(x=5.5*np.cos(30/180*np.pi), y=4+5.5*np.sin(30/180*np.pi))\n",
    "estructura2.agregarNodo(x=5.5*np.cos(30/180*np.pi)+5, y=4+5.5*np.sin(30/180*np.pi))\n",
    "\n",
    "estructura2.agregarNodo(x=5.5*np.cos(30/180*np.pi)+5, y=5.5*np.sin(30/180*np.pi), fix=[False,False,False])\n",
    "\n",
    "estructura2.agregarElemento(seccion=abed, nodoInicial=0, nodoFinal=1, tipo=Tipo.UNO)\n",
    "estructura2.agregarElemento(seccion=bccd, nodoInicial=1, nodoFinal=2, tipo=Tipo.UNO)\n",
    "estructura2.agregarElemento(seccion=bccd, nodoInicial=2, nodoFinal=3, tipo=Tipo.TRES)\n",
    "estructura2.agregarElemento(seccion=abed, nodoInicial=4, nodoFinal=3, tipo=Tipo.DOS)\n",
    "\n",
    "estructura2.definirCambiosTemperatura(inicial,interior,exterior,h1,elemento=0)\n",
    "estructura2.definirCambiosTemperatura(inicial,interior,exterior,h2,elemento=1)\n",
    "estructura2.definirCambiosTemperatura(inicial,interior,exterior,h2,elemento=2)\n",
    "estructura2.definirCambiosTemperatura(inicial,interior,exterior,-h1,elemento=3)\n",
    "\n",
    "estructura2.solucionar(verbose=True,dibujar=True)"
   ]
  },
  {
   "cell_type": "markdown",
   "metadata": {},
   "source": [
    "<h1>Problema 6</h1>"
   ]
  },
  {
   "cell_type": "code",
   "execution_count": 11,
   "metadata": {},
   "outputs": [
    {
     "output_type": "stream",
     "name": "stdout",
     "text": [
      "El valor de la carga para que la deflexion sea 0 es de 1028.4583940109137\nEl valor de la carga en el gato es -1028.4583940109137\n"
     ]
    }
   ],
   "source": [
    "from PySections import *\n",
    "estructura3 = Estructura()\n",
    "\n",
    "CONCRETO = Material('CONCRETO', 20000000, 0.2, 9.9*10**-6, 23.54)\n",
    "ACERO = Material('CONCRETO', 1, 0.2, 9.9*10**-6, 23.54)\n",
    "VIGA = Seccion('ELEMENTOS', TipoSeccion.RECTANGULAR, [0.3,0.45], CONCRETO)\n",
    "CABLE = Seccion('ELEMENTOS', TipoSeccion.GENERAL, [1*10**(-10),1], ACERO)\n",
    "\n",
    "estructura3.agregarNodo(x=0,y=0,fix=[False,False,False])\n",
    "estructura3.agregarNodo(x=7.5,y=0)\n",
    "estructura3.agregarNodo(x=2*7.5,y=0,fix=[True,False,True])\n",
    "estructura3.agregarNodo(x=0,y=6,fix=[False,False,False])\n",
    "\n",
    "estructura3.agregarElemento(seccion=VIGA, nodoInicial=0, nodoFinal=1, tipo=Tipo.UNO)\n",
    "estructura3.agregarElemento(seccion=VIGA, nodoInicial=1, nodoFinal=2, tipo=Tipo.UNO)\n",
    "estructura3.agregarElemento(seccion=CABLE, nodoInicial=3, nodoFinal=1, tipo=Tipo.CUATRO)\n",
    "\n",
    "\n",
    "estructura3.agregarCargaDistribuida(elemento=0, WY=75)\n",
    "estructura3.agregarCargaDistribuida(elemento=1, WY=75)\n",
    "\n",
    "estructura3.agregarResorte(nodo=2, rigidez=[10000,0,0])\n",
    "\n",
    "\n",
    "error = 1\n",
    "sup = 6455.939\n",
    "inf = 0\n",
    "defl = 0\n",
    "for i in range(0,100):\n",
    "    xr = (sup + inf)/2\n",
    "    estructura3.agregarCargaPresfuerzoAxial(elemento=2, q0=sup, remplazar=True)\n",
    "    estructura3.solucionar(verbose=False)\n",
    "    fxsup = estructura3.Ul[1]-defl\n",
    "    estructura3.agregarCargaPresfuerzoAxial(elemento=2, q0=inf, remplazar=True)\n",
    "    estructura3.solucionar(verbose=False)\n",
    "    fxinf = estructura3.Ul[1]-defl\n",
    "    estructura3.agregarCargaPresfuerzoAxial(elemento=2, q0=xr, remplazar=True)\n",
    "    estructura3.solucionar(verbose=False)\n",
    "    fxr = estructura3.Ul[1]-defl\n",
    "    if fxr*fxsup <0:\n",
    "        inf = xr\n",
    "    else:\n",
    "        sup = xr\n",
    "print('El valor de la carga para que la deflexion sea ' + format(defl) + ' es de ' + format(xr))\n",
    "print('El valor de la carga en el gato es ' + format(estructura3.elementos[2].p[0][0]))\n",
    "estructura3.pintar()"
   ]
  },
  {
   "cell_type": "code",
   "execution_count": 10,
   "metadata": {},
   "outputs": [
    {
     "output_type": "error",
     "ename": "AttributeError",
     "evalue": "'Elemento' object has no attribute 'solucionarFEM'",
     "traceback": [
      "\u001b[1;31m---------------------------------------------------------------------------\u001b[0m",
      "\u001b[1;31mAttributeError\u001b[0m                            Traceback (most recent call last)",
      "\u001b[1;32m<ipython-input-10-5a4183b9cc3c>\u001b[0m in \u001b[0;36m<module>\u001b[1;34m\u001b[0m\n\u001b[0;32m     11\u001b[0m \u001b[0mestructura\u001b[0m\u001b[1;33m.\u001b[0m\u001b[0magregarCargaDistribuida\u001b[0m\u001b[1;33m(\u001b[0m\u001b[0melemento\u001b[0m\u001b[1;33m=\u001b[0m\u001b[1;36m0\u001b[0m\u001b[1;33m,\u001b[0m \u001b[0mWY\u001b[0m\u001b[1;33m=\u001b[0m\u001b[1;36m75\u001b[0m\u001b[1;33m)\u001b[0m\u001b[1;33m\u001b[0m\u001b[1;33m\u001b[0m\u001b[0m\n\u001b[0;32m     12\u001b[0m \u001b[0mestructura\u001b[0m\u001b[1;33m.\u001b[0m\u001b[0msolucionar\u001b[0m\u001b[1;33m(\u001b[0m\u001b[0mverbose\u001b[0m\u001b[1;33m=\u001b[0m\u001b[1;32mFalse\u001b[0m\u001b[1;33m)\u001b[0m\u001b[1;33m\u001b[0m\u001b[1;33m\u001b[0m\u001b[0m\n\u001b[1;32m---> 13\u001b[1;33m \u001b[0mestructura\u001b[0m\u001b[1;33m.\u001b[0m\u001b[0melementos\u001b[0m\u001b[1;33m[\u001b[0m\u001b[1;36m0\u001b[0m\u001b[1;33m]\u001b[0m\u001b[1;33m.\u001b[0m\u001b[0msolucionarFEM\u001b[0m\u001b[1;33m(\u001b[0m\u001b[1;32mlambda\u001b[0m \u001b[0mx\u001b[0m\u001b[1;33m:\u001b[0m \u001b[1;33m-\u001b[0m\u001b[1;36m75\u001b[0m\u001b[1;33m,\u001b[0m\u001b[0mn\u001b[0m\u001b[1;33m=\u001b[0m\u001b[1;36m100\u001b[0m\u001b[1;33m)\u001b[0m\u001b[1;33m\u001b[0m\u001b[1;33m\u001b[0m\u001b[0m\n\u001b[0m\u001b[0;32m     14\u001b[0m \u001b[0mplt\u001b[0m\u001b[1;33m.\u001b[0m\u001b[0mplot\u001b[0m\u001b[1;33m(\u001b[0m\u001b[0mestructura\u001b[0m\u001b[1;33m.\u001b[0m\u001b[0melementos\u001b[0m\u001b[1;33m[\u001b[0m\u001b[1;36m0\u001b[0m\u001b[1;33m]\u001b[0m\u001b[1;33m.\u001b[0m\u001b[0mDMomentos\u001b[0m\u001b[1;33m)\u001b[0m\u001b[1;33m\u001b[0m\u001b[1;33m\u001b[0m\u001b[0m\n\u001b[0;32m     15\u001b[0m \u001b[0mprint\u001b[0m\u001b[1;33m(\u001b[0m\u001b[0mnp\u001b[0m\u001b[1;33m.\u001b[0m\u001b[0mmax\u001b[0m\u001b[1;33m(\u001b[0m\u001b[0mestructura\u001b[0m\u001b[1;33m.\u001b[0m\u001b[0melementos\u001b[0m\u001b[1;33m[\u001b[0m\u001b[1;36m0\u001b[0m\u001b[1;33m]\u001b[0m\u001b[1;33m.\u001b[0m\u001b[0mDMomentos\u001b[0m\u001b[1;33m)\u001b[0m\u001b[1;33m,\u001b[0m\u001b[0mnp\u001b[0m\u001b[1;33m.\u001b[0m\u001b[0mmin\u001b[0m\u001b[1;33m(\u001b[0m\u001b[0mestructura\u001b[0m\u001b[1;33m.\u001b[0m\u001b[0melementos\u001b[0m\u001b[1;33m[\u001b[0m\u001b[1;36m0\u001b[0m\u001b[1;33m]\u001b[0m\u001b[1;33m.\u001b[0m\u001b[0mDMomentos\u001b[0m\u001b[1;33m)\u001b[0m\u001b[1;33m)\u001b[0m\u001b[1;33m\u001b[0m\u001b[1;33m\u001b[0m\u001b[0m\n",
      "\u001b[1;31mAttributeError\u001b[0m: 'Elemento' object has no attribute 'solucionarFEM'"
     ]
    }
   ],
   "source": [
    "from PySections import *\n",
    "import matplotlib.pyplot as plt\n",
    "estructura = Estructura()\n",
    "\n",
    "CONCRETO = Material('CONCRETO', 20000000, 0.2, 9.9*10**-6, 23.54)\n",
    "VIGA = Seccion('ELEMENTOS', TipoSeccion.RECTANGULAR, [0.3,0.45], CONCRETO)\n",
    "\n",
    "estructura.agregarNodo(x=0,y=0,fix=[False,False,False])\n",
    "estructura.agregarNodo(x=5,y=0,fix=[False,False,False])\n",
    "estructura.agregarElemento(seccion=VIGA, nodoInicial=0, nodoFinal=1, tipo=Tipo.UNO)\n",
    "estructura.agregarCargaDistribuida(elemento=0, WY=75)\n",
    "estructura.solucionar(verbose=False)\n",
    "estructura.elementos[0].solucionarFEM(lambda x: -75,n=100)\n",
    "plt.plot(estructura.elementos[0].DMomentos)\n",
    "print(np.max(estructura.elementos[0].DMomentos),np.min(estructura.elementos[0].DMomentos))\n",
    "#estructura.elementos[0].cargasDistribuidas"
   ]
  },
  {
   "cell_type": "code",
   "execution_count": 3,
   "metadata": {},
   "outputs": [
    {
     "data": {
      "text/plain": [
       "array([[   0.  ],\n",
       "       [ 187.5 ],\n",
       "       [ 156.25],\n",
       "       [   0.  ],\n",
       "       [ 187.5 ],\n",
       "       [-156.25]])"
      ]
     },
     "execution_count": 3,
     "metadata": {},
     "output_type": "execute_result"
    }
   ],
   "source": [
    "estructura.elementos[0].p"
   ]
  },
  {
   "cell_type": "code",
   "execution_count": 4,
   "metadata": {},
   "outputs": [],
   "source": [
    "from PySections import *\n",
    "CONCRETO = Material('CONCRETO', 20000000, 0.2, 9.9*10**-6, 23.54)\n",
    "uyt = Seccion('ELEMENTOS1y3', TipoSeccion.GENERAL, [1.5,0.3], CONCRETO)\n",
    "dos = Seccion('ELEMENTO2', TipoSeccion.GENERAL, [1.45,0.25], CONCRETO)"
   ]
  },
  {
   "cell_type": "code",
   "execution_count": 5,
   "metadata": {},
   "outputs": [
    {
     "output_type": "stream",
     "name": "stdout",
     "text": [
      "Se ha terminado de calcular, puedes examinar la variable de la estructura para consultar los resultados.\n"
     ]
    }
   ],
   "source": [
    "estructura = Estructura()\n",
    "\n",
    "estructura.agregarNodo(x=0,y=5.85)\n",
    "estructura.agregarNodo(x=15.5,y=5.85)\n",
    "estructura.agregarNodo(fix=[False, False, False],x=0,y=0)\n",
    "estructura.agregarNodo(fix=[False, False, False],x=15.5,y=0)\n",
    "\n",
    "estructura.agregarElemento(seccion=uyt, nodoInicial=2, nodoFinal=0, tipo=Tipo.UNO)\n",
    "estructura.agregarElemento(seccion=dos, nodoInicial=0, nodoFinal=1, tipo=Tipo.UNO)\n",
    "estructura.agregarElemento(seccion=uyt, nodoInicial=3, nodoFinal=1, tipo=Tipo.UNO)\n",
    "\n",
    "estructura.agregarResorte(nodo=1,rigidez=[5000,0,0])\n",
    "estructura.agregarResorte(nodo=0,rigidez=[5000,0,0])\n",
    "\n",
    "estructura.agregarCargaNodo(nodo=0, px=3400, py=-3900, m=6500)\n",
    "estructura.agregarCargaNodo(nodo=1, px=3400, py=-3900, m=-6500)\n",
    "\n",
    "estructura.agregarCargaElemento(elemento=1, ftercios=1950)\n",
    "\n",
    "estructura.definirDesplazamientoRestringido(nodo=2, gdl=0, valor=-0.04)\n",
    "estructura.solucionar(True,True)"
   ]
  },
  {
   "cell_type": "code",
   "execution_count": 6,
   "metadata": {},
   "outputs": [
    {
     "output_type": "stream",
     "name": "stdout",
     "text": [
      "Se ha terminado de calcular, puedes examinar la variable de la estructura para consultar los resultados.\n"
     ]
    }
   ],
   "source": [
    "from PySections import *\n",
    "import matplotlib.pyplot as plt\n",
    "estructura = Estructura()\n",
    "\n",
    "CONCRETO = Material('CONCRETO', 25000000, 1, 1, 0)\n",
    "VIGA = Seccion('ELEMENTOS', TipoSeccion.GENERAL, [0.25,0.005,99999999999999], CONCRETO)\n",
    "\n",
    "estructura.agregarNodo(x=0,y=1,fix=[False,False,False])\n",
    "estructura.agregarNodo(x=6,y=1,fix=[True,True,True])\n",
    "estructura.agregarNodo(x=12,y=1,fix=[False,False,False])\n",
    "estructura.agregarElemento(seccion=VIGA, nodoInicial=0, nodoFinal=1, tipo=Tipo.UNO)\n",
    "estructura.agregarElemento(seccion=VIGA, nodoInicial=1, nodoFinal=2, tipo=Tipo.UNO)\n",
    "estructura.agregarCargaNodo(nodo=1, px=0, py=-80, m=0)\n",
    "estructura.agregarCargaElemento(elemento=1, ftercios=1950)\n",
    "estructura.solucionar(True,False)"
   ]
  },
  {
   "cell_type": "code",
   "execution_count": 2,
   "metadata": {},
   "outputs": [
    {
     "output_type": "stream",
     "name": "stdout",
     "text": [
      "Se ha terminado de calcular, puedes examinar la variable de la estructura para consultar los resultados.\n"
     ]
    }
   ],
   "source": [
    "from PySections import *\n",
    "import matplotlib.pyplot as plt\n",
    "estructura = Estructura()\n",
    "\n",
    "CONCRETO = Material('CONCRETO', 25000000, 1, 1, 0)\n",
    "VIGA = Seccion('ELEMENTOS', TipoSeccion.GENERAL, [0.25,0.005,99999999999999], CONCRETO)\n",
    "\n",
    "estructura.agregarNodo(x=0,y=0,fix=[False,False,False])\n",
    "estructura.agregarNodo(x=12,y=0,fix=[False,False,False])\n",
    "estructura.agregarElemento(seccion=VIGA, nodoInicial=0, nodoFinal=1, tipo=Tipo.UNO)\n",
    "estructura.agregarCargaElemento(elemento=0, wy=3.56)\n",
    "estructura.solucionar(True,False)"
   ]
  },
  {
   "cell_type": "code",
   "execution_count": 8,
   "metadata": {},
   "outputs": [
    {
     "output_type": "execute_result",
     "data": {
      "text/plain": [
       "array([[0.],\n",
       "       [0.],\n",
       "       [0.],\n",
       "       [0.],\n",
       "       [0.],\n",
       "       [0.]])"
      ]
     },
     "metadata": {},
     "execution_count": 8
    }
   ],
   "source": [
    "estructura.elementos[0].nodoI."
   ]
  },
  {
   "cell_type": "code",
   "execution_count": 9,
   "metadata": {},
   "outputs": [
    {
     "output_type": "stream",
     "name": "stdout",
     "text": [
      "Se ha terminado de calcular, puedes examinar la variable de la estructura para consultar los resultados.\n"
     ]
    },
    {
     "output_type": "error",
     "ename": "TypeError",
     "evalue": "diagramas() missing 1 required positional argument: 'Fn'",
     "traceback": [
      "\u001b[1;31m---------------------------------------------------------------------------\u001b[0m",
      "\u001b[1;31mTypeError\u001b[0m                                 Traceback (most recent call last)",
      "\u001b[1;32m<ipython-input-9-fb47b58e56b0>\u001b[0m in \u001b[0;36m<module>\u001b[1;34m\u001b[0m\n\u001b[0;32m     18\u001b[0m \u001b[0mestructura\u001b[0m\u001b[1;33m.\u001b[0m\u001b[0magregarCargaNodo\u001b[0m\u001b[1;33m(\u001b[0m\u001b[0mnodo\u001b[0m\u001b[1;33m=\u001b[0m\u001b[1;36m1\u001b[0m\u001b[1;33m,\u001b[0m \u001b[0mpx\u001b[0m\u001b[1;33m=\u001b[0m\u001b[1;36m0\u001b[0m\u001b[1;33m,\u001b[0m \u001b[0mpy\u001b[0m\u001b[1;33m=\u001b[0m\u001b[1;33m-\u001b[0m\u001b[1;36m80\u001b[0m\u001b[1;33m,\u001b[0m \u001b[0mm\u001b[0m\u001b[1;33m=\u001b[0m\u001b[1;36m0\u001b[0m\u001b[1;33m)\u001b[0m\u001b[1;33m\u001b[0m\u001b[1;33m\u001b[0m\u001b[0m\n\u001b[0;32m     19\u001b[0m \u001b[0mestructura\u001b[0m\u001b[1;33m.\u001b[0m\u001b[0msolucionar\u001b[0m\u001b[1;33m(\u001b[0m\u001b[1;32mTrue\u001b[0m\u001b[1;33m,\u001b[0m \u001b[1;32mFalse\u001b[0m\u001b[1;33m)\u001b[0m\u001b[1;33m\u001b[0m\u001b[1;33m\u001b[0m\u001b[0m\n\u001b[1;32m---> 20\u001b[1;33m \u001b[0mestructura\u001b[0m\u001b[1;33m.\u001b[0m\u001b[0melementos\u001b[0m\u001b[1;33m[\u001b[0m\u001b[1;36m0\u001b[0m\u001b[1;33m]\u001b[0m\u001b[1;33m.\u001b[0m\u001b[0mdiagramas\u001b[0m\u001b[1;33m(\u001b[0m\u001b[1;36m100\u001b[0m\u001b[1;33m)\u001b[0m\u001b[1;33m\u001b[0m\u001b[1;33m\u001b[0m\u001b[0m\n\u001b[0m",
      "\u001b[1;31mTypeError\u001b[0m: diagramas() missing 1 required positional argument: 'Fn'"
     ]
    }
   ],
   "source": [
    "from PySections import *\n",
    "import matplotlib.pyplot as plt\n",
    "estructura = Estructura()\n",
    "\n",
    "CONCRETO = Material('CONCRETO', 25000000, 1, 1, 0)\n",
    "VIGA = Seccion('ELEMENTOS', TipoSeccion.GENERAL, [\n",
    "               0.25, 0.005, 99999999999999], CONCRETO)\n",
    "\n",
    "estructura.agregarNodo(x=0, y=0, fix=[False, False, False])\n",
    "estructura.agregarNodo(x=6, y=0, fix=[True, True, True])\n",
    "estructura.agregarNodo(x=12, y=0, fix=[False, False, False])\n",
    "estructura.agregarElemento(\n",
    "    seccion=VIGA, nodoInicial=0, nodoFinal=1, tipo=Tipo.UNO, defCortante=False)\n",
    "estructura.agregarElemento(\n",
    "    seccion=VIGA, nodoInicial=1, nodoFinal=2, tipo=Tipo.UNO, defCortante=False)\n",
    "# estructura.agregarCargaElemento(elemento=0, wy=3.56)\n",
    "# estructura.agregarCargaElemento(elemento=1, wy=3.56)\n",
    "estructura.agregarCargaNodo(nodo=1, px=0, py=-80, m=0)\n",
    "estructura.solucionar(True, False)\n",
    "estructura.elementos[0].diagramas(100)"
   ]
  },
  {
   "cell_type": "code",
   "execution_count": 13,
   "metadata": {},
   "outputs": [
    {
     "output_type": "execute_result",
     "data": {
      "text/plain": [
       "array([[  0.],\n",
       "       [ 40.],\n",
       "       [120.],\n",
       "       [  0.],\n",
       "       [-40.],\n",
       "       [120.]])"
      ]
     },
     "metadata": {},
     "execution_count": 13
    }
   ],
   "source": [
    "estructura.elementos[0].p"
   ]
  }
 ],
 "metadata": {
  "kernelspec": {
   "name": "python379jvsc74a57bd00600588c3b5f4418cbe7b5ebc6825b479f3bc010269d8b60d75058cdd010adfe",
   "display_name": "Python 3.7.9 64-bit"
  },
  "language_info": {
   "codemirror_mode": {
    "name": "ipython",
    "version": 3
   },
   "file_extension": ".py",
   "mimetype": "text/x-python",
   "name": "python",
   "nbconvert_exporter": "python",
   "pygments_lexer": "ipython3",
   "version": "3.7.9-final"
  }
 },
 "nbformat": 4,
 "nbformat_minor": 4
}