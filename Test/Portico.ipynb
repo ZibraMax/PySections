{
 "cells": [
  {
   "cell_type": "code",
   "execution_count": 1,
   "metadata": {},
   "outputs": [],
   "source": [
    "from PySections import *\n",
    "import numpy as np"
   ]
  },
  {
   "cell_type": "code",
   "execution_count": 6,
   "metadata": {},
   "outputs": [
    {
     "output_type": "stream",
     "name": "stdout",
     "text": [
      "Se ha terminado de calcular, puedes examinar la variable de la estructura para consultar los resultados.\n"
     ]
    }
   ],
   "source": [
    "estructura = Estructura()\n",
    "numeroPisos = 5\n",
    "numeroVanos = 4\n",
    "alturaEntrepiso = 3\n",
    "sepColumnas = 6\n",
    "concreto = Material('CONCRETO', 20000000, 0.2, 9.9*10**-6, 23.54)\n",
    "seccionVigas = Seccion('ELEMENTOS', TipoSeccion.RECTANGULAR, [0.2,0.5], concreto)\n",
    "seccionColumnas = Seccion('ELEMENTOS', TipoSeccion.RECTANGULAR, [0.5,0.5], concreto)\n",
    "for j in range(0,numeroVanos):\n",
    "        estructura.agregarNodo(x=0+j*sepColumnas, y=0, fix=[False,False,False])\n",
    "        estructura.definirDesplazamientoRestringido(nodo=-1, gdl=1, valor=-np.random.random_sample())\n",
    "for i in range(0,numeroPisos):\n",
    "    for j in range(0,numeroVanos):\n",
    "        estructura.agregarNodo(x=0+j*sepColumnas, y=0+alturaEntrepiso*(i+1))\n",
    "for j in range(0,numeroPisos):\n",
    "    for i in range(0,numeroVanos):\n",
    "        estructura.agregarElemento(seccion=seccionColumnas,nodoInicial=i+numeroVanos*j,nodoFinal=i+numeroVanos+numeroVanos*j,tipo=Tipo.UNO)\n",
    "for j in range(1,numeroPisos+1):\n",
    "    for i in range(0,numeroVanos-1):\n",
    "        estructura.agregarElemento(seccion=seccionVigas,nodoInicial=i+numeroVanos*j,nodoFinal=i+numeroVanos*j+1,tipo=Tipo.UNO)\n",
    "for j in range(0,numeroVanos):\n",
    "        estructura.definirDesplazamientoRestringido(nodo=j, gdl=0, valor=-np.random.random_sample())\n",
    "estructura.definirFactorPesoPropio(f=1)\n",
    "estructura.solucionar(dibujar=True)"
   ]
  },
  {
   "cell_type": "code",
   "execution_count": null,
   "metadata": {},
   "outputs": [],
   "source": []
  }
 ],
 "metadata": {
  "kernelspec": {
   "name": "python379jvsc74a57bd00600588c3b5f4418cbe7b5ebc6825b479f3bc010269d8b60d75058cdd010adfe",
   "display_name": "Python 3.7.9 64-bit"
  },
  "language_info": {
   "codemirror_mode": {
    "name": "ipython",
    "version": 3
   },
   "file_extension": ".py",
   "mimetype": "text/x-python",
   "name": "python",
   "nbconvert_exporter": "python",
   "pygments_lexer": "ipython3",
   "version": "3.7.9-final"
  }
 },
 "nbformat": 4,
 "nbformat_minor": 4
}