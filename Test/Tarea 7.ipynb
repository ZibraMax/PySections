{
 "cells": [
  {
   "cell_type": "code",
   "execution_count": 1,
   "metadata": {},
   "outputs": [],
   "source": [
    "import numpy as np\n",
    "import matplotlib.pyplot as plt\n",
    "from numpy.polynomial.legendre import leggauss as roots\n",
    "\n",
    "from mpl_toolkits import mplot3d\n",
    "from matplotlib import tri\n",
    "import matplotlib as mpl\n",
    "from matplotlib.lines import Line2D\n",
    "from IPython.display import clear_output\n",
    "\n",
    "mpl.style.use('default')"
   ]
  },
  {
   "cell_type": "code",
   "execution_count": 2,
   "metadata": {},
   "outputs": [],
   "source": [
    "class Link():\n",
    "    def __init__(this,gdl,l,qy1,qy2,ke,kh):\n",
    "        this.ke = ke\n",
    "        this.kh = kh\n",
    "        this.gdl = gdl\n",
    "        this.ksh = (ke*kh)/(ke-kh)\n",
    "        this.qy1 = qy1\n",
    "        this.qy2 = qy2\n",
    "        this.vp = []\n",
    "        this.qsh = []\n",
    "        this.q = []\n",
    "        this.v = []\n",
    "        this.kbt = this.ke\n",
    "        this.l = l\n",
    "        \n",
    "        this.vp.append(0)\n",
    "        this.qsh.append(0)\n",
    "        this.q.append(0)\n",
    "        this.v.append(0)\n",
    "        \n",
    "        this.P = np.zeros([6,1])\n",
    "        this.Kb = np.array([[this.kbt,0,0],\n",
    "                            [0,0,0],\n",
    "                            [0,0,0]])\n",
    "        this.c = 1\n",
    "        this.s = 0\n",
    "        c = this.c\n",
    "        s = this.s\n",
    "        this.t = np.array([[-c,-s/l,-s/l],\n",
    "                           [-s,c/l,c/l],\n",
    "                           [0,1,0],\n",
    "                           [c,s/l,s/l],\n",
    "                           [s,-s/l,-c/l],\n",
    "                           [0,0,1]]).T\n",
    "        this.Ke = this.t.T @ this.Kb @ this.t\n",
    "        this.Kestado = np.array([[this.Ke[0,0],this.Ke[0,3]],[this.Ke[3,0],this.Ke[3,3]]])\n",
    "        \n",
    "        this.Pestado = np.array([[this.P[0][0]],\n",
    "                                 [this.P[3][0]]])\n",
    "    def determinarV(this,U):\n",
    "        this.Ue = U[np.ix_(this.gdl)]\n",
    "        this.v.append(this.Ue[1][0]-this.Ue[0][0])\n",
    "    def detEstado(this):\n",
    "        qtr = this.ke*(this.v[-1]-this.vp[-1])\n",
    "        fgorro = np.abs(qtr-this.qsh[-1])-this.qy1\n",
    "        if fgorro < 0:\n",
    "            this.kbt = this.ke\n",
    "            this.q.append(qtr)\n",
    "            this.vp.append(this.vp[-1])\n",
    "            this.qsh.append(this.qsh[-1])\n",
    "        else:\n",
    "            dvp = (fgorro/(this.ke+this.ksh))*np.sign(qtr-this.qsh[-1])\n",
    "            dqsh = this.ksh*dvp\n",
    "            this.kbt = this.kh\n",
    "            qi1 =  qtr-this.ke*dvp#this.q.append()\n",
    "            if np.abs(qi1) > this.qy2:\n",
    "                dvp = (fgorro-this.qy2+np.abs(this.q[-1]))/(this.ke)*np.sign(qtr-this.qsh[-1])\n",
    "                dqsh = (this.qy2-np.abs(this.q[-1]))*np.sign(dvp)\n",
    "                this.kbt = 0\n",
    "                qi1 = this.qy2*np.sign(qi1)\n",
    "            this.q.append(qi1)\n",
    "            this.vp.append(this.vp[-1]+dvp)\n",
    "            this.qsh.append(this.qsh[-1]+dqsh)\n",
    "        this.P = np.array([[-this.q[-1]],\n",
    "                           [0],\n",
    "                           [0],\n",
    "                           [this.q[-1]],\n",
    "                           [0],\n",
    "                           [0]])\n",
    "        this.Kb = np.array([[this.kbt,0,0],\n",
    "                            [0,0,0],\n",
    "                            [0,0,0]])\n",
    "        c = this.c\n",
    "        s = this.s\n",
    "        l = this.l\n",
    "        this.t = np.array([[-c,-s/l,-s/l],\n",
    "                           [-s,c/l,c/l],\n",
    "                           [0,1,0],\n",
    "                           [c,s/l,s/l],\n",
    "                           [s,-s/l,-c/l],\n",
    "                           [0,0,1]]).T\n",
    "        this.Ke = this.t.T @ this.Kb @ this.t\n",
    "        this.Kestado = np.array([[this.Ke[0,0],this.Ke[0,3]],[this.Ke[3,0],this.Ke[3,3]]])\n",
    "        this.Pestado = np.array([[this.P[0][0]],\n",
    "                                 [this.P[3][0]]])"
   ]
  },
  {
   "cell_type": "code",
   "execution_count": 80,
   "metadata": {},
   "outputs": [
    {
     "data": {
      "text/plain": [
       "[array([[0.],\n",
       "        [0.],\n",
       "        [0.],\n",
       "        [0.],\n",
       "        [0.]]),\n",
       " array([[-0.03398643],\n",
       "        [-0.03708711],\n",
       "        [-0.03705993],\n",
       "        [-0.03694225],\n",
       "        [-0.03690198]]),\n",
       " array([[-0.19386322],\n",
       "        [-0.21818908],\n",
       "        [-0.21848169],\n",
       "        [-0.21749566],\n",
       "        [-0.21711991]]),\n",
       " array([[-0.57463779],\n",
       "        [-0.67016662],\n",
       "        [-0.67387755],\n",
       "        [-0.66987012],\n",
       "        [-0.66811694]]),\n",
       " array([[-1.23036313],\n",
       "        [-1.48723191],\n",
       "        [-1.5053154 ],\n",
       "        [-1.4946789 ],\n",
       "        [-1.48915683]]),\n",
       " array([[-2.17720478],\n",
       "        [-2.72042789],\n",
       "        [-2.77718882],\n",
       "        [-2.75636667],\n",
       "        [-2.74304932]]),\n",
       " array([[-3.44596548],\n",
       "        [-4.36090504],\n",
       "        [-4.5034536 ],\n",
       "        [-4.47633623],\n",
       "        [-4.45140925]]),\n",
       " array([[-5.01342162],\n",
       "        [-6.36934022],\n",
       "        [-6.65112266],\n",
       "        [-6.63112162],\n",
       "        [-6.59289258]]),\n",
       " array([[-6.78576898],\n",
       "        [-8.67970227],\n",
       "        [-9.14857588],\n",
       "        [-9.15442715],\n",
       "        [-9.10436582]]),\n",
       " array([[ -8.65245654],\n",
       "        [-11.18486116],\n",
       "        [-11.87626728],\n",
       "        [-11.93799383],\n",
       "        [-11.88439276]]),\n",
       " array([[-10.48299237],\n",
       "        [-13.74182703],\n",
       "        [-14.68885498],\n",
       "        [-14.8410466 ],\n",
       "        [-14.79846581]]),\n",
       " array([[-12.15404082],\n",
       "        [-16.18554743],\n",
       "        [-17.42951134],\n",
       "        [-17.70241743],\n",
       "        [-17.68748853]]),\n",
       " array([[-13.53161354],\n",
       "        [-18.35183156],\n",
       "        [-19.92729407],\n",
       "        [-20.35056638],\n",
       "        [-20.38010762]]),\n",
       " array([[-14.50880468],\n",
       "        [-20.07035658],\n",
       "        [-22.03364112],\n",
       "        [-22.61558265],\n",
       "        [-22.70652974]]),\n",
       " array([[-14.98775343],\n",
       "        [-21.2070391 ],\n",
       "        [-23.60621628],\n",
       "        [-24.34723273],\n",
       "        [-24.51230047]]),\n",
       " array([[-14.9125338 ],\n",
       "        [-21.66703306],\n",
       "        [-24.51283915],\n",
       "        [-25.42588552],\n",
       "        [-25.67176928]]),\n",
       " array([[-14.27365142],\n",
       "        [-21.41355595],\n",
       "        [-24.66608647],\n",
       "        [-25.76330769],\n",
       "        [-26.09745853]]),\n",
       " array([[-13.09844044],\n",
       "        [-20.44696356],\n",
       "        [-24.02265269],\n",
       "        [-25.31095561],\n",
       "        [-25.74199274]]),\n",
       " array([[-11.47911375],\n",
       "        [-18.77247592],\n",
       "        [-22.59166513],\n",
       "        [-24.07280628],\n",
       "        [-24.59764107]]),\n",
       " array([[ -9.43458863],\n",
       "        [-16.44996732],\n",
       "        [-20.41924314],\n",
       "        [-22.08940441],\n",
       "        [-22.69671306]]),\n",
       " array([[ -7.00561084],\n",
       "        [-13.53034232],\n",
       "        [-17.58938256],\n",
       "        [-19.42333036],\n",
       "        [-20.1057469 ]]),\n",
       " array([[ -4.28725769],\n",
       "        [-10.09735379],\n",
       "        [-14.20137963],\n",
       "        [-16.16422901],\n",
       "        [-16.91237729]])]"
      ]
     },
     "execution_count": 80,
     "metadata": {},
     "output_type": "execute_result"
    }
   ],
   "source": [
    "#problema\n",
    "t = 0\n",
    "dt = 0.05\n",
    "masa = 0.259\n",
    "\n",
    "g = 385.996\n",
    "\n",
    "cosita = False\n",
    "\n",
    "z = 0.05\n",
    "\n",
    "qy1 = 125\n",
    "qy2 = 125\n",
    "\n",
    "p1 = -1\n",
    "p2 = -2\n",
    "\n",
    "KE = 100#175.2*100\n",
    "KH = 0#150*100\n",
    "tiempos = 21\n",
    "n = 5\n",
    "L = 4\n",
    "M = np.identity(n)*masa\n",
    "uug = lambda t: 0.5*g*np.sin(2*np.pi*t)\n",
    "ITERNEWT  = 2\n",
    "\n",
    "diccionarios = []\n",
    "for i in range(n):\n",
    "    diccionarios.append([i,i+1])\n",
    "\n",
    "\n",
    "l = np.zeros([n,1])+1\n",
    "U = []\n",
    "U.append(np.zeros([n,1]))\n",
    "vel = []\n",
    "vel.append(np.zeros([n,1]))\n",
    "acel = []\n",
    "acel.append(np.zeros([n,1]))\n",
    "Fn = []\n",
    "Fn.append(np.zeros([n,1]))\n",
    "F = []\n",
    "F.append(np.zeros([n,1]))\n",
    "Pl = []\n",
    "Pl.append(np.zeros([n,1]))\n",
    "#EnsamblarKll\n",
    "Kll = []\n",
    "k = np.zeros([n+1,n+1])\n",
    "p = np.zeros([n+1,1])\n",
    "libres = []\n",
    "for i in range(n):\n",
    "    libres.append(i+1)\n",
    "elementos = []\n",
    "for i in diccionarios:\n",
    "    elementos.append(Link(i,L,qy1,qy2,KE,KH))\n",
    "    e = elementos[-1]\n",
    "    k[np.ix_(e.gdl,e.gdl)]+=e.Kestado\n",
    "    p[np.ix_(e.gdl)]+=e.Pestado\n",
    "klll = k[np.ix_(libres,libres)]\n",
    "Kll.append(klll)\n",
    "Pl.append(p[np.ix_(libres)])\n",
    "\n",
    "eigvl, eigv = np.linalg.eig(np.linalg.inv(M)@Kll)\n",
    "periodos = np.sqrt(eigvl)\n",
    "\n",
    "a0 = periodos[0][p1]*periodos[0][p2]/(periodos[0][p1]+periodos[0][p2])*2*z\n",
    "a1 = z*2/(periodos[0][p1]+periodos[0][p2])\n",
    "\n",
    "C = a0*M+a1*Kll[-1]\n",
    "\n",
    "if cosita:\n",
    "    C = np.array([[64.76535872,-19.97492748,17.48975326,-13.65919406,37.23424098,14.24011698],\n",
    "     [-19.97492748,82.6602836,-33.81267853,-3.919500626,-65.75142611,-7.189213805],\n",
    "     [17.48975326,-33.81267853,61.88213369,-19.89199051,27.58662128,-20.76155363],\n",
    "     [-13.65919406,-3.919500626,-19.89199051,75.57021012,6.554937669,-3.72182691],\n",
    "     [37.23424098,-65.75142611,27.58662128,6.554937669,62.42013311,9.565010318],\n",
    "     [14.24011698,-7.189213805,-20.76155363,-3.72182691,9.565010318,41.30117891]])\n",
    "\n",
    "A = 4/dt*M+C\n",
    "\n",
    "B = 4/(dt**2)*M+2/dt*C\n",
    "for i in range(tiempos):\n",
    "    t = t+dt\n",
    "    Fn.append(-M@l*uug(t))\n",
    "    F.append(Fn[-1] + M@acel[-1]+A@vel[-1]+B@U[-1])\n",
    "    US = U[-1]\n",
    "    Klll = Kll[-1]\n",
    "    Pll = Pl[-1]\n",
    "    for J in range(ITERNEWT):\n",
    "        Re = F[-1]-Pll[-1]-B@US\n",
    "        du = np.linalg.pinv(Klll+B)@Re\n",
    "        US = US+du\n",
    "        print(np.linalg.norm(Re),'\\n',Re,'\\n',du,'\\n',US)\n",
    "        clear_output(wait=True)\n",
    "        k = np.zeros([n+1,n+1])\n",
    "        p = np.zeros([n+1,1])\n",
    "        for e in elementos:\n",
    "            QU = np.array([0]+US.reshape([1,n])[0].tolist()).reshape([n+1,1])\n",
    "            e.determinarV(QU)\n",
    "            e.detEstado()\n",
    "            k[np.ix_(e.gdl,e.gdl)]+=e.Kestado\n",
    "            p[np.ix_(e.gdl)]+=e.Pestado\n",
    "        klll = k[np.ix_(libres,libres)]\n",
    "        Pll = p[np.ix_(libres)]\n",
    "    U.append(US)\n",
    "    Kll.append(klll)\n",
    "    Pl.append(Pll)\n",
    "    vel.append(2/(dt)*(U[-1]-U[-2])-vel[-1])\n",
    "    acel.append(4/(dt**2)*(U[-1]-U[-2])-4/dt*vel[-2]-acel[-1])\n",
    "U"
   ]
  },
  {
   "cell_type": "code",
   "execution_count": 123,
   "metadata": {},
   "outputs": [
    {
     "data": {
      "image/png": "[encoded data removed]",
      "text/plain": [
       "<Figure size 640x480 with 1 Axes>"
      ]
     },
     "metadata": {},
     "output_type": "display_data"
    }
   ],
   "source": [
    "#problema PARAMETROS\n",
    "t = 0 #Tiempo Inicial, siempre es 0\n",
    "dt = 0.05 #Paso en el tiempo\n",
    "masa = 45.63 #Masa por piso\n",
    "\n",
    "g = 9.81 #Gravedad\n",
    "\n",
    "cosita = False #Usar matriz C definida por usuario\n",
    "\n",
    "z = 0.03 #Amortiguamiento objetivo\n",
    "\n",
    "qy1 = 500 #Primer qy de modelo trilineal\n",
    "qy2 = 750 #Segundo qy de modelo trilineal\n",
    "\n",
    "p1 = -2 #Posicion en el arreglo del primer modo\n",
    "p2 = -1 #Posicion en el arreglo del segundo modo\n",
    "\n",
    "KE = 40000 #Primera pendiente de la grafica\n",
    "KH = 15000 #Segunda pendiente de la grafica\n",
    "tiempoObjetivo = 1#en segundos\n",
    "tiempos = int(tiempoObjetivo/dt) #Numero de avances en el tiempo a realizar\n",
    "n = 6 #Numero de pisos\n",
    "L = 4 #Longitud de piso (no es relevante)\n",
    "\n",
    "uug = lambda t: 6*g*np.sin(2*np.pi*t) #Funcion de aceleracion en funcion del tiempo\n",
    "ITERNEWT  = 100 #Numero de iteraciones de Newton por paso\n",
    "\n",
    "pisoGrafica = 1\n",
    "\n",
    "#Programa\n",
    "M = np.identity(n)*masa\n",
    "diccionarios = []\n",
    "for i in range(n):\n",
    "    diccionarios.append([i,i+1])\n",
    "l = np.zeros([n,1])+1\n",
    "U = []\n",
    "U.append(np.zeros([n,1]))\n",
    "vel = []\n",
    "vel.append(np.zeros([n,1]))\n",
    "acel = []\n",
    "acel.append(np.zeros([n,1]))\n",
    "Fn = []\n",
    "Fn.append(np.zeros([n,1]))\n",
    "F = []\n",
    "F.append(np.zeros([n,1]))\n",
    "Pl = []\n",
    "Pl.append(np.zeros([n,1]))\n",
    "#EnsamblarKll\n",
    "Kll = []\n",
    "k = np.zeros([n+1,n+1])\n",
    "p = np.zeros([n+1,1])\n",
    "libres = []\n",
    "for i in range(n):\n",
    "    libres.append(i+1)\n",
    "elementos = []\n",
    "for i in diccionarios:\n",
    "    elementos.append(Link(i,L,qy1,qy2,KE,KH))\n",
    "    e = elementos[-1]\n",
    "    k[np.ix_(e.gdl,e.gdl)]+=e.Kestado\n",
    "    p[np.ix_(e.gdl)]+=e.Pestado\n",
    "klll = k[np.ix_(libres,libres)]\n",
    "Kll.append(klll)\n",
    "Pl.append(p[np.ix_(libres)])\n",
    "\n",
    "eigvl, eigv = np.linalg.eig(np.linalg.inv(M)@Kll)\n",
    "periodos = np.sqrt(eigvl)\n",
    "\n",
    "a0 = periodos[0][p1]*periodos[0][p2]/(periodos[0][p1]+periodos[0][p2])*2*z\n",
    "a1 = z*2/(periodos[0][p1]+periodos[0][p2])\n",
    "\n",
    "C = a0*M+a1*Kll[-1]\n",
    "\n",
    "if cosita:\n",
    "    C = np.array([[64.76535872,-19.97492748,17.48975326,-13.65919406,37.23424098,14.24011698],\n",
    "     [-19.97492748,82.6602836,-33.81267853,-3.919500626,-65.75142611,-7.189213805],\n",
    "     [17.48975326,-33.81267853,61.88213369,-19.89199051,27.58662128,-20.76155363],\n",
    "     [-13.65919406,-3.919500626,-19.89199051,75.57021012,6.554937669,-3.72182691],\n",
    "     [37.23424098,-65.75142611,27.58662128,6.554937669,62.42013311,9.565010318],\n",
    "     [14.24011698,-7.189213805,-20.76155363,-3.72182691,9.565010318,41.30117891]])\n",
    "\n",
    "A = 4/dt*M+C\n",
    "\n",
    "B = 4/(dt**2)*M+2/dt*C\n",
    "for i in range(tiempos):\n",
    "    t = t+dt\n",
    "    Fn.append(-M@l*uug(t))\n",
    "    F.append(Fn[-1] + M@acel[-1]+A@vel[-1]+B@U[-1])\n",
    "    US = U[-1]\n",
    "    Klll = Kll[-1]\n",
    "    Pll = Pl[-1]\n",
    "    for J in range(ITERNEWT):\n",
    "        Re = F[-1]-Pll[-1]-B@US\n",
    "        du = np.linalg.pinv(Klll+B)@Re\n",
    "        US = US+du\n",
    "        print(np.linalg.norm(Re),'\\n',Re,'\\n',du,'\\n',US)\n",
    "        clear_output(wait=True)\n",
    "        k = np.zeros([n+1,n+1])\n",
    "        p = np.zeros([n+1,1])\n",
    "        for e in elementos:\n",
    "            QU = np.array([0]+US.reshape([1,n])[0].tolist()).reshape([n+1,1])\n",
    "            e.determinarV(QU)\n",
    "            e.detEstado()\n",
    "            k[np.ix_(e.gdl,e.gdl)]+=e.Kestado\n",
    "            p[np.ix_(e.gdl)]+=e.Pestado\n",
    "        klll = k[np.ix_(libres,libres)]\n",
    "        Pll = p[np.ix_(libres)]\n",
    "    U.append(US)\n",
    "    Kll.append(klll)\n",
    "    Pl.append(Pll)\n",
    "    vel.append(2/(dt)*(U[-1]-U[-2])-vel[-1])\n",
    "    acel.append(4/(dt**2)*(U[-1]-U[-2])-4/dt*vel[-2]-acel[-1])\n",
    "fig = plt.figure()\n",
    "ax=fig.add_subplot()\n",
    "l = []\n",
    "_X = np.linspace(0,tiempos*dt,tiempos+1)\n",
    "for i in range(0,n):\n",
    "    l.append('Piso '+ format(i+1))\n",
    "    ax.plot(_X,np.array(U).reshape([tiempos+1,6])[:,i])\n",
    "ax.legend(l)\n",
    "ax.set_xlabel('Tiempo [s]')\n",
    "ax.set_ylabel('Desplazamiento [cm]')\n",
    "ax.set_title('Desplazamiento de la estructura')\n",
    "ax.grid()\n",
    "plt.savefig('DespPisos.svg')"
   ]
  },
  {
   "cell_type": "code",
   "execution_count": 137,
   "metadata": {},
   "outputs": [
    {
     "name": "stderr",
     "output_type": "stream",
     "text": [
      "c:\\program files\\python37\\lib\\site-packages\\ipykernel_launcher.py:108: RuntimeWarning: More than 20 figures have been opened. Figures created through the pyplot interface (`matplotlib.pyplot.figure`) are retained until explicitly closed and may consume too much memory. (To control this warning, see the rcParam `figure.max_open_warning`).\n"
     ]
    },
    {
     "ename": "KeyboardInterrupt",
     "evalue": "",
     "output_type": "error",
     "traceback": [
      "\u001b[1;31m---------------------------------------------------------------------------\u001b[0m",
      "\u001b[1;31mKeyboardInterrupt\u001b[0m                         Traceback (most recent call last)",
      "\u001b[1;32m<ipython-input-137-6c8bacf4a02f>\u001b[0m in \u001b[0;36m<module>\u001b[1;34m\u001b[0m\n\u001b[0;32m    112\u001b[0m     \u001b[1;32mfor\u001b[0m \u001b[0mj\u001b[0m \u001b[1;32min\u001b[0m \u001b[0mrange\u001b[0m\u001b[1;33m(\u001b[0m\u001b[1;36m0\u001b[0m\u001b[1;33m,\u001b[0m\u001b[0mn\u001b[0m\u001b[1;33m)\u001b[0m\u001b[1;33m:\u001b[0m\u001b[1;33m\u001b[0m\u001b[1;33m\u001b[0m\u001b[0m\n\u001b[0;32m    113\u001b[0m         \u001b[0mleg\u001b[0m\u001b[1;33m.\u001b[0m\u001b[0mappend\u001b[0m\u001b[1;33m(\u001b[0m\u001b[1;34m'Piso '\u001b[0m\u001b[1;33m+\u001b[0m \u001b[0mformat\u001b[0m\u001b[1;33m(\u001b[0m\u001b[0mj\u001b[0m\u001b[1;33m+\u001b[0m\u001b[1;36m1\u001b[0m\u001b[1;33m)\u001b[0m\u001b[1;33m)\u001b[0m\u001b[1;33m\u001b[0m\u001b[1;33m\u001b[0m\u001b[0m\n\u001b[1;32m--> 114\u001b[1;33m         \u001b[0max\u001b[0m\u001b[1;33m.\u001b[0m\u001b[0mplot\u001b[0m\u001b[1;33m(\u001b[0m\u001b[0m_X\u001b[0m\u001b[1;33m,\u001b[0m\u001b[0mnp\u001b[0m\u001b[1;33m.\u001b[0m\u001b[0marray\u001b[0m\u001b[1;33m(\u001b[0m\u001b[0mU\u001b[0m\u001b[1;33m)\u001b[0m\u001b[1;33m.\u001b[0m\u001b[0mreshape\u001b[0m\u001b[1;33m(\u001b[0m\u001b[1;33m[\u001b[0m\u001b[0mi\u001b[0m\u001b[1;33m+\u001b[0m\u001b[1;36m2\u001b[0m\u001b[1;33m,\u001b[0m\u001b[1;36m6\u001b[0m\u001b[1;33m]\u001b[0m\u001b[1;33m)\u001b[0m\u001b[1;33m[\u001b[0m\u001b[1;33m:\u001b[0m\u001b[1;33m,\u001b[0m\u001b[0mj\u001b[0m\u001b[1;33m]\u001b[0m\u001b[1;33m)\u001b[0m\u001b[1;33m\u001b[0m\u001b[1;33m\u001b[0m\u001b[0m\n\u001b[0m\u001b[0;32m    115\u001b[0m     \u001b[0max\u001b[0m\u001b[1;33m.\u001b[0m\u001b[0mlegend\u001b[0m\u001b[1;33m(\u001b[0m\u001b[0ml\u001b[0m\u001b[1;33m)\u001b[0m\u001b[1;33m\u001b[0m\u001b[1;33m\u001b[0m\u001b[0m\n\u001b[0;32m    116\u001b[0m     \u001b[0max\u001b[0m\u001b[1;33m.\u001b[0m\u001b[0mset_xlabel\u001b[0m\u001b[1;33m(\u001b[0m\u001b[1;34m'Tiempo [s]'\u001b[0m\u001b[1;33m)\u001b[0m\u001b[1;33m\u001b[0m\u001b[1;33m\u001b[0m\u001b[0m\n",
      "\u001b[1;31mKeyboardInterrupt\u001b[0m: "
     ]
    },
    {
     "data": {
      "text/plain": [
       "<Figure size 640x480 with 0 Axes>"
      ]
     },
     "metadata": {},
     "output_type": "display_data"
    },
    {
     "data": {
      "text/plain": [
       "<Figure size 640x480 with 0 Axes>"
      ]
     },
     "metadata": {},
     "output_type": "display_data"
    },
    {
     "data": {
      "text/plain": [
       "<Figure size 640x480 with 0 Axes>"
      ]
     },
     "metadata": {},
     "output_type": "display_data"
    },
    {
     "data": {
      "text/plain": [
       "<Figure size 640x480 with 0 Axes>"
      ]
     },
     "metadata": {},
     "output_type": "display_data"
    },
    {
     "data": {
      "text/plain": [
       "<Figure size 640x480 with 0 Axes>"
      ]
     },
     "metadata": {},
     "output_type": "display_data"
    },
    {
     "data": {
      "text/plain": [
       "<Figure size 640x480 with 0 Axes>"
      ]
     },
     "metadata": {},
     "output_type": "display_data"
    },
    {
     "data": {
      "text/plain": [
       "<Figure size 640x480 with 0 Axes>"
      ]
     },
     "metadata": {},
     "output_type": "display_data"
    },
    {
     "data": {
      "text/plain": [
       "<Figure size 640x480 with 0 Axes>"
      ]
     },
     "metadata": {},
     "output_type": "display_data"
    },
    {
     "data": {
      "text/plain": [
       "<Figure size 640x480 with 0 Axes>"
      ]
     },
     "metadata": {},
     "output_type": "display_data"
    },
    {
     "data": {
      "text/plain": [
       "<Figure size 640x480 with 0 Axes>"
      ]
     },
     "metadata": {},
     "output_type": "display_data"
    },
    {
     "data": {
      "text/plain": [
       "<Figure size 640x480 with 0 Axes>"
      ]
     },
     "metadata": {},
     "output_type": "display_data"
    },
    {
     "data": {
      "text/plain": [
       "<Figure size 640x480 with 0 Axes>"
      ]
     },
     "metadata": {},
     "output_type": "display_data"
    },
    {
     "data": {
      "text/plain": [
       "<Figure size 640x480 with 0 Axes>"
      ]
     },
     "metadata": {},
     "output_type": "display_data"
    },
    {
     "data": {
      "text/plain": [
       "<Figure size 640x480 with 0 Axes>"
      ]
     },
     "metadata": {},
     "output_type": "display_data"
    },
    {
     "data": {
      "text/plain": [
       "<Figure size 640x480 with 0 Axes>"
      ]
     },
     "metadata": {},
     "output_type": "display_data"
    },
    {
     "data": {
      "text/plain": [
       "<Figure size 640x480 with 0 Axes>"
      ]
     },
     "metadata": {},
     "output_type": "display_data"
    },
    {
     "data": {
      "text/plain": [
       "<Figure size 640x480 with 0 Axes>"
      ]
     },
     "metadata": {},
     "output_type": "display_data"
    },
    {
     "data": {
      "text/plain": [
       "<Figure size 640x480 with 0 Axes>"
      ]
     },
     "metadata": {},
     "output_type": "display_data"
    },
    {
     "data": {
      "text/plain": [
       "<Figure size 640x480 with 0 Axes>"
      ]
     },
     "metadata": {},
     "output_type": "display_data"
    },
    {
     "data": {
      "text/plain": [
       "<Figure size 640x480 with 0 Axes>"
      ]
     },
     "metadata": {},
     "output_type": "display_data"
    },
    {
     "data": {
      "text/plain": [
       "<Figure size 640x480 with 0 Axes>"
      ]
     },
     "metadata": {},
     "output_type": "display_data"
    },
    {
     "data": {
      "text/plain": [
       "<Figure size 640x480 with 0 Axes>"
      ]
     },
     "metadata": {},
     "output_type": "display_data"
    },
    {
     "data": {
      "text/plain": [
       "<Figure size 640x480 with 0 Axes>"
      ]
     },
     "metadata": {},
     "output_type": "display_data"
    },
    {
     "data": {
      "text/plain": [
       "<Figure size 640x480 with 0 Axes>"
      ]
     },
     "metadata": {},
     "output_type": "display_data"
    },
    {
     "data": {
      "text/plain": [
       "<Figure size 640x480 with 0 Axes>"
      ]
     },
     "metadata": {},
     "output_type": "display_data"
    },
    {
     "data": {
      "text/plain": [
       "<Figure size 640x480 with 0 Axes>"
      ]
     },
     "metadata": {},
     "output_type": "display_data"
    },
    {
     "data": {
      "text/plain": [
       "<Figure size 640x480 with 0 Axes>"
      ]
     },
     "metadata": {},
     "output_type": "display_data"
    },
    {
     "data": {
      "text/plain": [
       "<Figure size 640x480 with 0 Axes>"
      ]
     },
     "metadata": {},
     "output_type": "display_data"
    },
    {
     "data": {
      "text/plain": [
       "<Figure size 640x480 with 0 Axes>"
      ]
     },
     "metadata": {},
     "output_type": "display_data"
    },
    {
     "data": {
      "text/plain": [
       "<Figure size 640x480 with 0 Axes>"
      ]
     },
     "metadata": {},
     "output_type": "display_data"
    },
    {
     "data": {
      "text/plain": [
       "<Figure size 640x480 with 0 Axes>"
      ]
     },
     "metadata": {},
     "output_type": "display_data"
    },
    {
     "data": {
      "text/plain": [
       "<Figure size 640x480 with 0 Axes>"
      ]
     },
     "metadata": {},
     "output_type": "display_data"
    },
    {
     "data": {
      "text/plain": [
       "<Figure size 640x480 with 0 Axes>"
      ]
     },
     "metadata": {},
     "output_type": "display_data"
    },
    {
     "data": {
      "text/plain": [
       "<Figure size 640x480 with 0 Axes>"
      ]
     },
     "metadata": {},
     "output_type": "display_data"
    },
    {
     "data": {
      "text/plain": [
       "<Figure size 640x480 with 0 Axes>"
      ]
     },
     "metadata": {},
     "output_type": "display_data"
    },
    {
     "data": {
      "text/plain": [
       "<Figure size 640x480 with 0 Axes>"
      ]
     },
     "metadata": {},
     "output_type": "display_data"
    },
    {
     "data": {
      "text/plain": [
       "<Figure size 640x480 with 0 Axes>"
      ]
     },
     "metadata": {},
     "output_type": "display_data"
    },
    {
     "data": {
      "text/plain": [
       "<Figure size 640x480 with 0 Axes>"
      ]
     },
     "metadata": {},
     "output_type": "display_data"
    },
    {
     "data": {
      "text/plain": [
       "<Figure size 640x480 with 0 Axes>"
      ]
     },
     "metadata": {},
     "output_type": "display_data"
    },
    {
     "data": {
      "text/plain": [
       "<Figure size 640x480 with 0 Axes>"
      ]
     },
     "metadata": {},
     "output_type": "display_data"
    },
    {
     "data": {
      "text/plain": [
       "<Figure size 640x480 with 0 Axes>"
      ]
     },
     "metadata": {},
     "output_type": "display_data"
    },
    {
     "data": {
      "text/plain": [
       "<Figure size 640x480 with 0 Axes>"
      ]
     },
     "metadata": {},
     "output_type": "display_data"
    },
    {
     "data": {
      "text/plain": [
       "<Figure size 640x480 with 0 Axes>"
      ]
     },
     "metadata": {},
     "output_type": "display_data"
    },
    {
     "data": {
      "text/plain": [
       "<Figure size 640x480 with 0 Axes>"
      ]
     },
     "metadata": {},
     "output_type": "display_data"
    },
    {
     "data": {
      "text/plain": [
       "<Figure size 640x480 with 0 Axes>"
      ]
     },
     "metadata": {},
     "output_type": "display_data"
    },
    {
     "data": {
      "text/plain": [
       "<Figure size 640x480 with 0 Axes>"
      ]
     },
     "metadata": {},
     "output_type": "display_data"
    },
    {
     "data": {
      "text/plain": [
       "<Figure size 640x480 with 0 Axes>"
      ]
     },
     "metadata": {},
     "output_type": "display_data"
    },
    {
     "data": {
      "text/plain": [
       "<Figure size 640x480 with 0 Axes>"
      ]
     },
     "metadata": {},
     "output_type": "display_data"
    },
    {
     "data": {
      "text/plain": [
       "<Figure size 640x480 with 0 Axes>"
      ]
     },
     "metadata": {},
     "output_type": "display_data"
    },
    {
     "data": {
      "text/plain": [
       "<Figure size 640x480 with 0 Axes>"
      ]
     },
     "metadata": {},
     "output_type": "display_data"
    },
    {
     "data": {
      "text/plain": [
       "<Figure size 640x480 with 0 Axes>"
      ]
     },
     "metadata": {},
     "output_type": "display_data"
    },
    {
     "data": {
      "text/plain": [
       "<Figure size 640x480 with 0 Axes>"
      ]
     },
     "metadata": {},
     "output_type": "display_data"
    },
    {
     "data": {
      "text/plain": [
       "<Figure size 640x480 with 0 Axes>"
      ]
     },
     "metadata": {},
     "output_type": "display_data"
    },
    {
     "data": {
      "text/plain": [
       "<Figure size 640x480 with 0 Axes>"
      ]
     },
     "metadata": {},
     "output_type": "display_data"
    },
    {
     "data": {
      "text/plain": [
       "<Figure size 640x480 with 0 Axes>"
      ]
     },
     "metadata": {},
     "output_type": "display_data"
    },
    {
     "data": {
      "text/plain": [
       "<Figure size 640x480 with 0 Axes>"
      ]
     },
     "metadata": {},
     "output_type": "display_data"
    },
    {
     "data": {
      "text/plain": [
       "<Figure size 640x480 with 0 Axes>"
      ]
     },
     "metadata": {},
     "output_type": "display_data"
    },
    {
     "data": {
      "text/plain": [
       "<Figure size 640x480 with 0 Axes>"
      ]
     },
     "metadata": {},
     "output_type": "display_data"
    },
    {
     "data": {
      "text/plain": [
       "<Figure size 640x480 with 0 Axes>"
      ]
     },
     "metadata": {},
     "output_type": "display_data"
    },
    {
     "data": {
      "text/plain": [
       "<Figure size 640x480 with 0 Axes>"
      ]
     },
     "metadata": {},
     "output_type": "display_data"
    },
    {
     "data": {
      "text/plain": [
       "<Figure size 640x480 with 0 Axes>"
      ]
     },
     "metadata": {},
     "output_type": "display_data"
    },
    {
     "data": {
      "text/plain": [
       "<Figure size 640x480 with 0 Axes>"
      ]
     },
     "metadata": {},
     "output_type": "display_data"
    },
    {
     "data": {
      "text/plain": [
       "<Figure size 640x480 with 0 Axes>"
      ]
     },
     "metadata": {},
     "output_type": "display_data"
    },
    {
     "data": {
      "text/plain": [
       "<Figure size 640x480 with 0 Axes>"
      ]
     },
     "metadata": {},
     "output_type": "display_data"
    },
    {
     "data": {
      "text/plain": [
       "<Figure size 640x480 with 0 Axes>"
      ]
     },
     "metadata": {},
     "output_type": "display_data"
    },
    {
     "data": {
      "text/plain": [
       "<Figure size 640x480 with 0 Axes>"
      ]
     },
     "metadata": {},
     "output_type": "display_data"
    },
    {
     "data": {
      "text/plain": [
       "<Figure size 640x480 with 0 Axes>"
      ]
     },
     "metadata": {},
     "output_type": "display_data"
    },
    {
     "data": {
      "text/plain": [
       "<Figure size 640x480 with 0 Axes>"
      ]
     },
     "metadata": {},
     "output_type": "display_data"
    },
    {
     "data": {
      "text/plain": [
       "<Figure size 640x480 with 0 Axes>"
      ]
     },
     "metadata": {},
     "output_type": "display_data"
    },
    {
     "data": {
      "text/plain": [
       "<Figure size 640x480 with 0 Axes>"
      ]
     },
     "metadata": {},
     "output_type": "display_data"
    },
    {
     "data": {
      "text/plain": [
       "<Figure size 640x480 with 0 Axes>"
      ]
     },
     "metadata": {},
     "output_type": "display_data"
    },
    {
     "data": {
      "text/plain": [
       "<Figure size 640x480 with 0 Axes>"
      ]
     },
     "metadata": {},
     "output_type": "display_data"
    },
    {
     "data": {
      "text/plain": [
       "<Figure size 640x480 with 0 Axes>"
      ]
     },
     "metadata": {},
     "output_type": "display_data"
    },
    {
     "data": {
      "text/plain": [
       "<Figure size 640x480 with 0 Axes>"
      ]
     },
     "metadata": {},
     "output_type": "display_data"
    },
    {
     "data": {
      "text/plain": [
       "<Figure size 640x480 with 0 Axes>"
      ]
     },
     "metadata": {},
     "output_type": "display_data"
    },
    {
     "data": {
      "text/plain": [
       "<Figure size 640x480 with 0 Axes>"
      ]
     },
     "metadata": {},
     "output_type": "display_data"
    },
    {
     "data": {
      "text/plain": [
       "<Figure size 640x480 with 0 Axes>"
      ]
     },
     "metadata": {},
     "output_type": "display_data"
    },
    {
     "data": {
      "text/plain": [
       "<Figure size 640x480 with 0 Axes>"
      ]
     },
     "metadata": {},
     "output_type": "display_data"
    },
    {
     "data": {
      "text/plain": [
       "<Figure size 640x480 with 0 Axes>"
      ]
     },
     "metadata": {},
     "output_type": "display_data"
    },
    {
     "data": {
      "text/plain": [
       "<Figure size 640x480 with 0 Axes>"
      ]
     },
     "metadata": {},
     "output_type": "display_data"
    },
    {
     "data": {
      "text/plain": [
       "<Figure size 640x480 with 0 Axes>"
      ]
     },
     "metadata": {},
     "output_type": "display_data"
    },
    {
     "data": {
      "text/plain": [
       "<Figure size 640x480 with 0 Axes>"
      ]
     },
     "metadata": {},
     "output_type": "display_data"
    },
    {
     "data": {
      "text/plain": [
       "<Figure size 640x480 with 0 Axes>"
      ]
     },
     "metadata": {},
     "output_type": "display_data"
    },
    {
     "data": {
      "text/plain": [
       "<Figure size 640x480 with 0 Axes>"
      ]
     },
     "metadata": {},
     "output_type": "display_data"
    },
    {
     "data": {
      "text/plain": [
       "<Figure size 640x480 with 0 Axes>"
      ]
     },
     "metadata": {},
     "output_type": "display_data"
    },
    {
     "data": {
      "text/plain": [
       "<Figure size 640x480 with 0 Axes>"
      ]
     },
     "metadata": {},
     "output_type": "display_data"
    },
    {
     "data": {
      "text/plain": [
       "<Figure size 640x480 with 0 Axes>"
      ]
     },
     "metadata": {},
     "output_type": "display_data"
    },
    {
     "data": {
      "text/plain": [
       "<Figure size 640x480 with 0 Axes>"
      ]
     },
     "metadata": {},
     "output_type": "display_data"
    },
    {
     "data": {
      "text/plain": [
       "<Figure size 640x480 with 0 Axes>"
      ]
     },
     "metadata": {},
     "output_type": "display_data"
    },
    {
     "data": {
      "text/plain": [
       "<Figure size 640x480 with 0 Axes>"
      ]
     },
     "metadata": {},
     "output_type": "display_data"
    },
    {
     "data": {
      "text/plain": [
       "<Figure size 640x480 with 0 Axes>"
      ]
     },
     "metadata": {},
     "output_type": "display_data"
    },
    {
     "data": {
      "text/plain": [
       "<Figure size 640x480 with 0 Axes>"
      ]
     },
     "metadata": {},
     "output_type": "display_data"
    },
    {
     "data": {
      "text/plain": [
       "<Figure size 640x480 with 0 Axes>"
      ]
     },
     "metadata": {},
     "output_type": "display_data"
    },
    {
     "data": {
      "text/plain": [
       "<Figure size 640x480 with 0 Axes>"
      ]
     },
     "metadata": {},
     "output_type": "display_data"
    },
    {
     "data": {
      "text/plain": [
       "<Figure size 640x480 with 0 Axes>"
      ]
     },
     "metadata": {},
     "output_type": "display_data"
    },
    {
     "data": {
      "text/plain": [
       "<Figure size 640x480 with 0 Axes>"
      ]
     },
     "metadata": {},
     "output_type": "display_data"
    },
    {
     "data": {
      "text/plain": [
       "<Figure size 640x480 with 0 Axes>"
      ]
     },
     "metadata": {},
     "output_type": "display_data"
    },
    {
     "data": {
      "text/plain": [
       "<Figure size 640x480 with 0 Axes>"
      ]
     },
     "metadata": {},
     "output_type": "display_data"
    },
    {
     "data": {
      "text/plain": [
       "<Figure size 640x480 with 0 Axes>"
      ]
     },
     "metadata": {},
     "output_type": "display_data"
    },
    {
     "data": {
      "text/plain": [
       "<Figure size 640x480 with 0 Axes>"
      ]
     },
     "metadata": {},
     "output_type": "display_data"
    },
    {
     "data": {
      "text/plain": [
       "<Figure size 640x480 with 0 Axes>"
      ]
     },
     "metadata": {},
     "output_type": "display_data"
    },
    {
     "data": {
      "text/plain": [
       "<Figure size 640x480 with 0 Axes>"
      ]
     },
     "metadata": {},
     "output_type": "display_data"
    },
    {
     "data": {
      "text/plain": [
       "<Figure size 640x480 with 0 Axes>"
      ]
     },
     "metadata": {},
     "output_type": "display_data"
    },
    {
     "data": {
      "text/plain": [
       "<Figure size 640x480 with 0 Axes>"
      ]
     },
     "metadata": {},
     "output_type": "display_data"
    },
    {
     "data": {
      "text/plain": [
       "<Figure size 640x480 with 0 Axes>"
      ]
     },
     "metadata": {},
     "output_type": "display_data"
    },
    {
     "data": {
      "text/plain": [
       "<Figure size 640x480 with 0 Axes>"
      ]
     },
     "metadata": {},
     "output_type": "display_data"
    },
    {
     "data": {
      "text/plain": [
       "<Figure size 640x480 with 0 Axes>"
      ]
     },
     "metadata": {},
     "output_type": "display_data"
    },
    {
     "data": {
      "text/plain": [
       "<Figure size 640x480 with 0 Axes>"
      ]
     },
     "metadata": {},
     "output_type": "display_data"
    },
    {
     "data": {
      "text/plain": [
       "<Figure size 640x480 with 0 Axes>"
      ]
     },
     "metadata": {},
     "output_type": "display_data"
    },
    {
     "data": {
      "text/plain": [
       "<Figure size 640x480 with 0 Axes>"
      ]
     },
     "metadata": {},
     "output_type": "display_data"
    },
    {
     "data": {
      "text/plain": [
       "<Figure size 640x480 with 0 Axes>"
      ]
     },
     "metadata": {},
     "output_type": "display_data"
    },
    {
     "data": {
      "text/plain": [
       "<Figure size 640x480 with 0 Axes>"
      ]
     },
     "metadata": {},
     "output_type": "display_data"
    },
    {
     "data": {
      "text/plain": [
       "<Figure size 640x480 with 0 Axes>"
      ]
     },
     "metadata": {},
     "output_type": "display_data"
    },
    {
     "data": {
      "text/plain": [
       "<Figure size 640x480 with 0 Axes>"
      ]
     },
     "metadata": {},
     "output_type": "display_data"
    },
    {
     "data": {
      "text/plain": [
       "<Figure size 640x480 with 0 Axes>"
      ]
     },
     "metadata": {},
     "output_type": "display_data"
    },
    {
     "data": {
      "text/plain": [
       "<Figure size 640x480 with 0 Axes>"
      ]
     },
     "metadata": {},
     "output_type": "display_data"
    },
    {
     "data": {
      "text/plain": [
       "<Figure size 640x480 with 0 Axes>"
      ]
     },
     "metadata": {},
     "output_type": "display_data"
    },
    {
     "data": {
      "text/plain": [
       "<Figure size 640x480 with 0 Axes>"
      ]
     },
     "metadata": {},
     "output_type": "display_data"
    },
    {
     "data": {
      "text/plain": [
       "<Figure size 640x480 with 0 Axes>"
      ]
     },
     "metadata": {},
     "output_type": "display_data"
    },
    {
     "data": {
      "text/plain": [
       "<Figure size 640x480 with 0 Axes>"
      ]
     },
     "metadata": {},
     "output_type": "display_data"
    },
    {
     "data": {
      "text/plain": [
       "<Figure size 640x480 with 0 Axes>"
      ]
     },
     "metadata": {},
     "output_type": "display_data"
    },
    {
     "data": {
      "text/plain": [
       "<Figure size 640x480 with 0 Axes>"
      ]
     },
     "metadata": {},
     "output_type": "display_data"
    },
    {
     "data": {
      "text/plain": [
       "<Figure size 640x480 with 0 Axes>"
      ]
     },
     "metadata": {},
     "output_type": "display_data"
    },
    {
     "data": {
      "text/plain": [
       "<Figure size 640x480 with 0 Axes>"
      ]
     },
     "metadata": {},
     "output_type": "display_data"
    },
    {
     "data": {
      "text/plain": [
       "<Figure size 640x480 with 0 Axes>"
      ]
     },
     "metadata": {},
     "output_type": "display_data"
    },
    {
     "data": {
      "text/plain": [
       "<Figure size 640x480 with 0 Axes>"
      ]
     },
     "metadata": {},
     "output_type": "display_data"
    },
    {
     "data": {
      "text/plain": [
       "<Figure size 640x480 with 0 Axes>"
      ]
     },
     "metadata": {},
     "output_type": "display_data"
    },
    {
     "data": {
      "text/plain": [
       "<Figure size 640x480 with 0 Axes>"
      ]
     },
     "metadata": {},
     "output_type": "display_data"
    },
    {
     "data": {
      "text/plain": [
       "<Figure size 640x480 with 0 Axes>"
      ]
     },
     "metadata": {},
     "output_type": "display_data"
    },
    {
     "data": {
      "text/plain": [
       "<Figure size 640x480 with 0 Axes>"
      ]
     },
     "metadata": {},
     "output_type": "display_data"
    },
    {
     "data": {
      "text/plain": [
       "<Figure size 640x480 with 0 Axes>"
      ]
     },
     "metadata": {},
     "output_type": "display_data"
    },
    {
     "data": {
      "text/plain": [
       "<Figure size 640x480 with 0 Axes>"
      ]
     },
     "metadata": {},
     "output_type": "display_data"
    },
    {
     "data": {
      "text/plain": [
       "<Figure size 640x480 with 0 Axes>"
      ]
     },
     "metadata": {},
     "output_type": "display_data"
    },
    {
     "data": {
      "image/png": "[encoded data removed]",
      "text/plain": [
       "<Figure size 640x480 with 1 Axes>"
      ]
     },
     "metadata": {},
     "output_type": "display_data"
    }
   ],
   "source": [
    "#problema PARAMETROS\n",
    "t = 0 #Tiempo Inicial, siempre es 0\n",
    "dt = 0.05 #Paso en el tiempo\n",
    "masa = 45.63 #Masa por piso\n",
    "\n",
    "g = 9.81 #Gravedad\n",
    "\n",
    "cosita = False #Usar matriz C definida por usuario\n",
    "\n",
    "z = 0.03 #Amortiguamiento objetivo\n",
    "\n",
    "qy1 = 500 #Primer qy de modelo trilineal\n",
    "qy2 = 750 #Segundo qy de modelo trilineal\n",
    "\n",
    "p1 = -2 #Posicion en el arreglo del primer modo\n",
    "p2 = -1 #Posicion en el arreglo del segundo modo\n",
    "\n",
    "KE = 40000 #Primera pendiente de la grafica\n",
    "KH = 15000 #Segunda pendiente de la grafica\n",
    "tiempoObjetivo = 10#en segundos\n",
    "tiempos = int(tiempoObjetivo/dt) #Numero de avances en el tiempo a realizar\n",
    "n = 6 #Numero de pisos\n",
    "L = 4 #Longitud de piso (no es relevante)\n",
    "\n",
    "uug = lambda t: 6*g*np.sin(2*np.pi*t) #Funcion de aceleracion en funcion del tiempo\n",
    "ITERNEWT  = 100 #Numero de iteraciones de Newton por paso\n",
    "\n",
    "#Programa\n",
    "M = np.identity(n)*masa\n",
    "diccionarios = []\n",
    "for i in range(n):\n",
    "    diccionarios.append([i,i+1])\n",
    "l = np.zeros([n,1])+1\n",
    "U = []\n",
    "U.append(np.zeros([n,1]))\n",
    "vel = []\n",
    "vel.append(np.zeros([n,1]))\n",
    "acel = []\n",
    "acel.append(np.zeros([n,1]))\n",
    "Fn = []\n",
    "Fn.append(np.zeros([n,1]))\n",
    "F = []\n",
    "F.append(np.zeros([n,1]))\n",
    "Pl = []\n",
    "Pl.append(np.zeros([n,1]))\n",
    "#EnsamblarKll\n",
    "Kll = []\n",
    "k = np.zeros([n+1,n+1])\n",
    "p = np.zeros([n+1,1])\n",
    "libres = []\n",
    "for i in range(n):\n",
    "    libres.append(i+1)\n",
    "elementos = []\n",
    "for i in diccionarios:\n",
    "    elementos.append(Link(i,L,qy1,qy2,KE,KH))\n",
    "    e = elementos[-1]\n",
    "    k[np.ix_(e.gdl,e.gdl)]+=e.Kestado\n",
    "    p[np.ix_(e.gdl)]+=e.Pestado\n",
    "klll = k[np.ix_(libres,libres)]\n",
    "Kll.append(klll)\n",
    "Pl.append(p[np.ix_(libres)])\n",
    "\n",
    "eigvl, eigv = np.linalg.eig(np.linalg.inv(M)@Kll)\n",
    "periodos = np.sqrt(eigvl)\n",
    "\n",
    "a0 = periodos[0][p1]*periodos[0][p2]/(periodos[0][p1]+periodos[0][p2])*2*z\n",
    "a1 = z*2/(periodos[0][p1]+periodos[0][p2])\n",
    "\n",
    "C = a0*M+a1*Kll[-1]\n",
    "\n",
    "if cosita:\n",
    "    C = np.array([[64.76535872,-19.97492748,17.48975326,-13.65919406,37.23424098,14.24011698],\n",
    "     [-19.97492748,82.6602836,-33.81267853,-3.919500626,-65.75142611,-7.189213805],\n",
    "     [17.48975326,-33.81267853,61.88213369,-19.89199051,27.58662128,-20.76155363],\n",
    "     [-13.65919406,-3.919500626,-19.89199051,75.57021012,6.554937669,-3.72182691],\n",
    "     [37.23424098,-65.75142611,27.58662128,6.554937669,62.42013311,9.565010318],\n",
    "     [14.24011698,-7.189213805,-20.76155363,-3.72182691,9.565010318,41.30117891]])\n",
    "\n",
    "A = 4/dt*M+C\n",
    "\n",
    "B = 4/(dt**2)*M+2/dt*C\n",
    "for i in range(tiempos):\n",
    "    t = t+dt\n",
    "    Fn.append(-M@l*uug(t))\n",
    "    F.append(Fn[-1] + M@acel[-1]+A@vel[-1]+B@U[-1])\n",
    "    US = U[-1]\n",
    "    Klll = Kll[-1]\n",
    "    Pll = Pl[-1]\n",
    "    for J in range(ITERNEWT):\n",
    "        Re = F[-1]-Pll[-1]-B@US\n",
    "        du = np.linalg.pinv(Klll+B)@Re\n",
    "        US = US+du\n",
    "        k = np.zeros([n+1,n+1])\n",
    "        p = np.zeros([n+1,1])\n",
    "        for e in elementos:\n",
    "            QU = np.array([0]+US.reshape([1,n])[0].tolist()).reshape([n+1,1])\n",
    "            e.determinarV(QU)\n",
    "            e.detEstado()\n",
    "            k[np.ix_(e.gdl,e.gdl)]+=e.Kestado\n",
    "            p[np.ix_(e.gdl)]+=e.Pestado\n",
    "        klll = k[np.ix_(libres,libres)]\n",
    "        Pll = p[np.ix_(libres)]\n",
    "    U.append(US)\n",
    "    Kll.append(klll)\n",
    "    Pl.append(Pll)\n",
    "    vel.append(2/(dt)*(U[-1]-U[-2])-vel[-1])\n",
    "    acel.append(4/(dt**2)*(U[-1]-U[-2])-4/dt*vel[-2]-acel[-1])\n",
    "    fig = plt.figure()\n",
    "    ax=fig.add_subplot()\n",
    "    leg = []\n",
    "    _X = np.linspace(0,i*dt,i+2)\n",
    "    for j in range(0,n):\n",
    "        leg.append('Piso '+ format(j+1))\n",
    "        ax.plot(_X,np.array(U).reshape([i+2,6])[:,j])\n",
    "    ax.legend(l)\n",
    "    ax.set_xlabel('Tiempo [s]')\n",
    "    ax.set_ylabel('Desplazamiento [cm]')\n",
    "    ax.set_title('Desplazamiento de la estructura')\n",
    "    ax.grid()\n",
    "    print('Tiempo: ' + format(dt*i))\n",
    "    plt.clf()\n",
    "    clear_output(wait=True)\n",
    "plt.savefig('DespPisos.svg')"
   ]
  }
 ],
 "metadata": {
  "kernelspec": {
   "display_name": "Python 3",
   "language": "python",
   "name": "python3"
  },
  "language_info": {
   "codemirror_mode": {
    "name": "ipython",
    "version": 3
   },
   "file_extension": ".py",
   "mimetype": "text/x-python",
   "name": "python",
   "nbconvert_exporter": "python",
   "pygments_lexer": "ipython3",
   "version": "3.7.5"
  }
 },
 "nbformat": 4,
 "nbformat_minor": 4
}
