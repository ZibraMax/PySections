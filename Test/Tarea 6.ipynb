{
 "cells": [
  {
   "cell_type": "code",
   "execution_count": 1,
   "metadata": {},
   "outputs": [],
   "source": [
    "import numpy as np\n",
    "import matplotlib.pyplot as plt\n",
    "from numpy.polynomial.legendre import leggauss as raices\n",
    "from IPython.display import clear_output\n",
    "from PySections import *\n",
    "import quadpy"
   ]
  },
  {
   "cell_type": "markdown",
   "metadata": {},
   "source": [
    "# Punto 2"
   ]
  },
  {
   "cell_type": "code",
   "execution_count": 2,
   "metadata": {},
   "outputs": [
    {
     "name": "stdout",
     "output_type": "stream",
     "text": [
      "Error q: 0.004339668361730001 iteracion 2\n",
      "Error q: 0.012562847222222236 iteracion 3\n",
      "Error q: 1.3904866443919908e-17 iteracion 4\n",
      "\n",
      "Vector {v}:\n",
      "[[0.   ]\n",
      " [0.003]\n",
      " [0.002]]\n",
      "\n",
      "Vector {q}:\n",
      "[[  0.        ]\n",
      " [442.73362688]\n",
      " [284.94677668]]\n",
      "\n",
      "Matriz [Kb]:\n",
      "[[1.17647059e-01 0.00000000e+00 0.00000000e+00]\n",
      " [0.00000000e+00 8.20793434e+03 4.10396717e+03]\n",
      " [0.00000000e+00 4.10396717e+03 9.02872777e+04]]\n",
      "\n",
      "Vector {ve}:\n",
      "[[0.        ]\n",
      " [0.00340295]\n",
      " [0.00072057]]\n",
      "\n",
      "Vector {vp}:\n",
      "[[0.        ]\n",
      " [0.00087648]\n",
      " [0.        ]]\n",
      "\n",
      "Vector {v0}:\n",
      "[[ 0.        ]\n",
      " [-0.00127943]\n",
      " [ 0.00127943]]\n"
     ]
    }
   ],
   "source": [
    "from PySections import *\n",
    "\n",
    "desp = np.array([0,0,3*10**-3,0,0,2*10**-3])\n",
    "sh = 0.05\n",
    "qy = [[1100],[435],[435]]\n",
    "I = 250000\n",
    "A = 1\n",
    "E = 1\n",
    "l = 8.5\n",
    "\n",
    "\n",
    "W = 12.5\n",
    "\n",
    "\n",
    "estructura = Estructura()\n",
    "\n",
    "acero = Material('Acero', E, 0.2, 9.9*10**-6, 23.54,sh=sh)\n",
    "seccion = Seccion('Elementos', TipoSeccion.GENERAL, [A,I], acero,qy=qy)\n",
    "\n",
    "estructura.agregarNodo(x=0,y=0,fix=[False,False,False])\n",
    "estructura.agregarNodo(x=l,y=0,fix=[False,False,False])\n",
    "estructura.agregarElemento(nodoInicial=0,nodoFinal=1,seccion=seccion,tipo=Tipo.UNO,defCortante=False)\n",
    "estructura.agregarCargaDistribuida(WY=-W, elemento=-1)\n",
    "\n",
    "for i in estructura.elementos:\n",
    "    i.Ue = desp[np.ix_(i.diccionario)]\n",
    "\n",
    "KLL,P = estructura.determinacionDeEstado()\n",
    "\n",
    "print('\\nVector {v}:')\n",
    "print(estructura.elementos[0].v)\n",
    "print('\\nVector {q}:')\n",
    "print(estructura.elementos[0].q)\n",
    "print('\\nMatriz [Kb]:')\n",
    "print(estructura.elementos[0].kb)\n",
    "print('\\nVector {ve}:')\n",
    "print(estructura.elementos[0].ve)\n",
    "print('\\nVector {vp}:')\n",
    "print(estructura.elementos[0].vp)\n",
    "print('\\nVector {v0}:')\n",
    "print(estructura.elementos[0].v0)\n",
    "#estructura.solucionar(True,True)"
   ]
  },
  {
   "cell_type": "markdown",
   "metadata": {},
   "source": [
    "# Punto 3"
   ]
  },
  {
   "cell_type": "code",
   "execution_count": 3,
   "metadata": {},
   "outputs": [],
   "source": [
    "from PySections import *\n",
    "from IPython.display import clear_output\n",
    "desp = np.array([0.2056,-0.0055,-0.0409,0.2029,-0.0058,-0.0305,0.2024,-0.0057,0,0,0,0,0,0,0,0,0,0]) #Desplazamietos\n",
    "    \n",
    "sh = 0.0345\n",
    "\n",
    "qy = [[9*10**9],[187],[187]]\n",
    "\n",
    "IV = 0.00048699076842\n",
    "AV = 0.01077417\n",
    "\n",
    "IC = 0.00044537\n",
    "AC = 0.02277415\n",
    "\n",
    "IR = 1\n",
    "AR = 0.00064516\n",
    "\n",
    "E = 200000000\n",
    "\n",
    "l = 8\n",
    "ll = 4\n",
    "\n",
    "W = 10\n",
    "\n",
    "estructura = Estructura()\n",
    "\n",
    "acero = Material('Acero', E, 0.2, 9.9*10**-6,1,sh=sh)\n",
    "\n",
    "\n",
    "VIGA1 = Seccion('Elementos', TipoSeccion.GENERAL, [AV,IV], acero, qy=qy)\n",
    "RIOSTRA = Seccion('Elementos', TipoSeccion.GENERAL, [AR,IR], acero, qy=[[187],[0],[0]])\n",
    "COLUMNA = Seccion('Elementos', TipoSeccion.GENERAL, [AC,IC], acero)\n",
    "\n",
    "estructura.agregarNodo(x=0,y=0,fix=[False,False,False])\n",
    "estructura.agregarNodo(x=l,y=0,fix=[False,False,False])\n",
    "estructura.agregarNodo(x=2*l,y=0,fix=[False,False,False])\n",
    "\n",
    "estructura.agregarNodo(x=0,y=ll)\n",
    "estructura.agregarNodo(x=l,y=ll)\n",
    "estructura.agregarNodo(x=2*l,y=ll)\n",
    "\n",
    "estructura.agregarElemento(nodoInicial=0,nodoFinal=3,seccion=COLUMNA,tipo=Tipo.DOS,defCortante=False)\n",
    "\n",
    "estructura.agregarElemento(nodoInicial=1,nodoFinal=4,seccion=COLUMNA,tipo=Tipo.DOS,defCortante=False)\n",
    "\n",
    "estructura.agregarElemento(nodoInicial=2,nodoFinal=5,seccion=COLUMNA,tipo=Tipo.CUATRO,defCortante=False)\n",
    "\n",
    "\n",
    "#\n",
    "estructura.agregarElemento(nodoInicial=3,nodoFinal=4,seccion=VIGA1,tipo=Tipo.UNO,defCortante=False)\n",
    "\n",
    "estructura.agregarElemento(nodoInicial=4,nodoFinal=5,seccion=VIGA1,tipo=Tipo.TRES,defCortante=False)\n",
    "\n",
    "estructura.agregarElemento(nodoInicial=0,nodoFinal=4,seccion=RIOSTRA,tipo=Tipo.CUATRO,defCortante=False)\n",
    "\n",
    "estructura.agregarElemento(nodoInicial=1,nodoFinal=5,seccion=RIOSTRA,tipo=Tipo.CUATRO,defCortante=False)\n",
    "\n",
    "estructura.agregarCargaDistribuida(WY=-W, elemento=3)\n",
    "estructura.agregarCargaDistribuida(WY=-W, elemento=4)\n",
    "\n",
    "estructura.agregarCargaNodo(nodo=3, px=100, py=-450)\n",
    "estructura.agregarCargaNodo(nodo=4, py=-450)\n",
    "estructura.agregarCargaNodo(nodo=5, py=-450)\n",
    "\n",
    "estructura.solucionar(True,False)\n",
    "\n",
    "for i in estructura.elementos:\n",
    "    i.Ue = desp[np.ix_(i.diccionario)]\n",
    "KLL, PL = estructura.determinacionDeEstado()\n",
    "clear_output()\n",
    "import os\n",
    "cwd = os.getcwd()\n",
    "np.savetxt(cwd+'/KLL.csv',KLL,delimiter=',')\n",
    "np.savetxt(cwd+'/PL.csv',PL,delimiter=',')"
   ]
  },
  {
   "cell_type": "markdown",
   "metadata": {},
   "source": [
    "## Para elementos no columnas, es decir i = [3,4,5,6]"
   ]
  },
  {
   "cell_type": "code",
   "execution_count": 4,
   "metadata": {},
   "outputs": [
    {
     "name": "stdout",
     "output_type": "stream",
     "text": [
      "Error q: 0.1789839918157199 iteracion 2\n",
      "Vector {v}\n",
      "[[0.17898399]\n",
      " [0.        ]\n",
      " [0.        ]]\n",
      "Vector v0 {v0}\n",
      "[[0.]\n",
      " [0.]\n",
      " [0.]]\n",
      "\n",
      "Matriz [kb]\n",
      "[[0. 0. 0.]\n",
      " [0. 0. 0.]\n",
      " [0. 0. 0.]]\n",
      "\n",
      "Vector {Re}\n",
      "[[0.]\n",
      " [0.]\n",
      " [0.]]\n",
      "\n",
      "Vector q {q}\n",
      "[[187]\n",
      " [  0]\n",
      " [  0]]\n",
      "\n",
      "Vector vp {vp}\n",
      "[[0.166]\n",
      " [0.   ]\n",
      " [0.   ]]\n",
      "\n",
      "Vector ve {ve}\n",
      "[[0.013]\n",
      " [0.   ]\n",
      " [0.   ]]\n"
     ]
    }
   ],
   "source": [
    "i = 6\n",
    "EA = estructura.elementos[i].E*estructura.elementos[i].Area\n",
    "EI =  estructura.elementos[i].E*estructura.elementos[i].Inercia\n",
    "l = estructura.elementos[i].Longitud\n",
    "sh = 0.0345\n",
    "qy = estructura.elementos[i].seccion.qy\n",
    "tipo = estructura.elementos[i].Tipo\n",
    "v = estructura.elementos[i].v\n",
    "v0 = estructura.elementos[i].v0\n",
    "sh = estructura.elementos[i].seccion.material.sh\n",
    "Re,v,q,kb,ve,vp = estadoPlasticidadConcentrada(v,sh,qy,EI,l,EA,tipo,v0)\n",
    "print('Vector {v}')\n",
    "print(v)\n",
    "print('Vector v0 {v0}')\n",
    "print(v0)\n",
    "print('\\nMatriz [kb]')\n",
    "print(np.round(kb,3))\n",
    "print('\\nVector {Re}')\n",
    "print(Re)\n",
    "print('\\nVector q {q}')\n",
    "print(np.round(q,3))\n",
    "print('\\nVector vp {vp}')\n",
    "print(np.round(vp,3))\n",
    "print('\\nVector ve {ve}')\n",
    "print(np.round(ve,3))"
   ]
  },
  {
   "cell_type": "markdown",
   "metadata": {},
   "source": [
    "## Para elementos de columnas i = [0,1,2]"
   ]
  },
  {
   "cell_type": "code",
   "execution_count": 5,
   "metadata": {},
   "outputs": [
    {
     "name": "stdout",
     "output_type": "stream",
     "text": [
      "Vector {v}\n",
      "[[-0.00057526]\n",
      " [ 0.        ]\n",
      " [ 0.        ]]\n",
      "Vector v0 {v0}\n",
      "[[0.]\n",
      " [0.]\n",
      " [0.]]\n",
      "\n",
      "Matriz [kb]\n",
      "[[1138707.5       0.        0. ]\n",
      " [      0.        0.        0. ]\n",
      " [      0.        0.        0. ]]\n",
      "\n",
      "Vector q {q}\n",
      "[[-655.053]\n",
      " [   0.   ]\n",
      " [   0.   ]]\n"
     ]
    }
   ],
   "source": [
    "i = 2\n",
    "EA = estructura.elementos[i].E*estructura.elementos[i].Area\n",
    "EI =  estructura.elementos[i].E*estructura.elementos[i].Inercia\n",
    "l = estructura.elementos[i].Longitud\n",
    "sh = 0.0345\n",
    "qy = estructura.elementos[i].seccion.qy\n",
    "tipo = estructura.elementos[i].Tipo\n",
    "v = estructura.elementos[i].v\n",
    "v0 = estructura.elementos[i].v0\n",
    "kb = estructura.elementos[i].kb\n",
    "q = estructura.elementos[i].q\n",
    "#sh = estructura.elementos[i].seccion.material.sh\n",
    "#Re,v,q,kb,ve,vp = estadoPlasticidadConcentrada(v,sh,qy,EI,l,EA,tipo,v0)\n",
    "print('Vector {v}')\n",
    "print(v)\n",
    "print('Vector v0 {v0}')\n",
    "print(v0)\n",
    "print('\\nMatriz [kb]')\n",
    "print(np.round(kb,3))\n",
    "print('\\nVector q {q}')\n",
    "print(np.round(q,3))"
   ]
  },
  {
   "cell_type": "markdown",
   "metadata": {},
   "source": [
    "# Punto 4"
   ]
  },
  {
   "cell_type": "code",
   "execution_count": 56,
   "metadata": {},
   "outputs": [
    {
     "name": "stdout",
     "output_type": "stream",
     "text": [
      "Error s: 6.498131201576575e-19 iteracion 4,2\n",
      "Error q: 4.336808689942018e-18 iteracion 5\n",
      "Vector {v}\n",
      "[[-0.001076]\n",
      " [ 0.05186 ]\n",
      " [-0.01091 ]]\n",
      "\n",
      "Matriz [kb]\n",
      "[[ 3.29931100e+05  7.54203438e-11 -3.60476975e-11]\n",
      " [-4.78638967e-13  2.75135060e+03  1.37567530e+03]\n",
      " [ 2.94712293e-12  1.37567530e+03  2.98521540e+04]]\n",
      "\n",
      "Vector {Re}\n",
      "[[ 4.33680869e-18]\n",
      " [-3.46944695e-17]\n",
      " [ 0.00000000e+00]]\n",
      "\n",
      "Vector q {q}\n",
      "[[-355.00586403]\n",
      " [1085.73391106]\n",
      " [ 224.68426459]]\n",
      "\n",
      "Vector e {e}\n",
      "[[[-8.98899087e-04]\n",
      "  [-5.34846720e-02]]\n",
      "\n",
      " [[-7.85374750e-05]\n",
      "  [-9.82318996e-03]]\n",
      "\n",
      " [[-7.85374750e-05]\n",
      "  [-4.92068022e-03]]\n",
      "\n",
      " [[-7.85374750e-05]\n",
      "  [-1.81704792e-05]]\n",
      "\n",
      " [[-7.85374750e-05]\n",
      "  [ 2.56802711e-03]]]\n",
      "\n",
      "Vector Et {Et}\n",
      "[[[3.e+06]\n",
      "  [3.e+06]\n",
      "  [3.e+06]\n",
      "  [2.e+08]\n",
      "  [3.e+06]\n",
      "  [3.e+06]\n",
      "  [3.e+06]]\n",
      "\n",
      " [[2.e+08]\n",
      "  [2.e+08]\n",
      "  [2.e+08]\n",
      "  [2.e+08]\n",
      "  [2.e+08]\n",
      "  [2.e+08]\n",
      "  [2.e+08]]\n",
      "\n",
      " [[2.e+08]\n",
      "  [2.e+08]\n",
      "  [2.e+08]\n",
      "  [2.e+08]\n",
      "  [2.e+08]\n",
      "  [2.e+08]\n",
      "  [2.e+08]]\n",
      "\n",
      " [[2.e+08]\n",
      "  [2.e+08]\n",
      "  [2.e+08]\n",
      "  [2.e+08]\n",
      "  [2.e+08]\n",
      "  [2.e+08]\n",
      "  [2.e+08]]\n",
      "\n",
      " [[2.e+08]\n",
      "  [2.e+08]\n",
      "  [2.e+08]\n",
      "  [2.e+08]\n",
      "  [2.e+08]\n",
      "  [2.e+08]\n",
      "  [2.e+08]]]\n"
     ]
    }
   ],
   "source": [
    "def estadoPlasticidadDistribuida(vt, l, v0=[[0], [0], [0]],q=[[0], [0], [0]],n=5):\n",
    "    vt = np.array(vt)\n",
    "    v0 = np.array(v0)\n",
    "    q = np.array(q)\n",
    "    i = 0\n",
    "    error = 1\n",
    "    while error > 1*10**-10:\n",
    "        v, kb, e, S = _vkb(l, q,n)\n",
    "        Re = vt - v0 - v\n",
    "        dq = kb @ Re\n",
    "        q = q + dq\n",
    "        i +=1\n",
    "        error = np.max(Re)\n",
    "        print('Error q: ' + format(error) + ' iteracion ' + format(i))\n",
    "    return Re, v, q, kb, e, S\n",
    "\n",
    "def _vkb(L, q, n):\n",
    "    s = quadpy.line_segment.gauss_lobatto(n)\n",
    "    X = (np.array(s.points)/2+1/2)*L\n",
    "    W = np.array(s.weights)/2*L\n",
    "    print(W)\n",
    "    v = np.zeros([3, 1])\n",
    "    kb = np.zeros([3, 3])\n",
    "    Eg = []\n",
    "    Sg = []\n",
    "    for i in range(0, len(X)):\n",
    "        x = X[i]\n",
    "        b = np.array([[1, 0, 0], [0, x / L - 1, x / L]])\n",
    "        St = b @ q\n",
    "        e = np.zeros([2, 1])\n",
    "        fibras = crearFibras()\n",
    "        error = 1\n",
    "        j = 1\n",
    "        while error > 1*10**-6 and j < 30:\n",
    "            S, Ks,FIG = _estadoSeccion(e, fibras)\n",
    "            Rs = St - S\n",
    "            de = np.linalg.pinv(Ks) @ Rs\n",
    "            e = e + de\n",
    "            error = np.linalg.norm(de)\n",
    "            clear_output(wait=True)\n",
    "            print('Error s: ' + format(error) + ' iteracion ' + format(i) + ',' + format(j))\n",
    "            j += 1\n",
    "        v = v + W[i] * (b.T @ e)\n",
    "        kb = kb + W[i] * (b.T @ np.linalg.pinv(Ks) @ b)\n",
    "        Eg.append(e)\n",
    "        Sg.append(FIG)\n",
    "    kb = np.linalg.pinv(kb)\n",
    "    return v, kb, Eg,Sg\n",
    "\n",
    "def _estadoSeccion(e, fibras):\n",
    "    n = fibras.shape[0]\n",
    "    ea = e[0][0]\n",
    "    phi = e[1][0]\n",
    "    ys = fibras[:, 0].reshape(n, 1)\n",
    "    ai = fibras[:, 1].reshape(n, 1)\n",
    "\n",
    "    epsilon = ea - ys * phi\n",
    "    sigma, Et = _esfdeft(epsilon)\n",
    "    Sm = sigma * ai\n",
    "    C = (Et * ai).T[0]\n",
    "    km = np.diag(C)\n",
    "    As = np.array([np.zeros([n]) + 1, -ys.T[0]]).T\n",
    "    S = As.T @ Sm\n",
    "\n",
    "    Ks = As.T @ km @ As\n",
    "    return S, Ks, Et\n",
    "\n",
    "def _esfdeft(epsilon, sh=0.015,ey = 0.001725,E=200000000):  # CURVA ESFUERZO DEFORMACION\n",
    "    sh = 1-sh\n",
    "    et = E - sh * E * (np.abs(epsilon) > ey)\n",
    "    s = et * (epsilon-ey*np.sign(epsilon)*(np.abs(epsilon) > ey)) + ey*np.sign(epsilon)*E*(np.abs(epsilon) > ey)\n",
    "    return s, et\n",
    "\n",
    "\n",
    "#Cambair la seccion transversar es cuestion del usuario\n",
    "def crearFibras():\n",
    "    tf = 1.41*2/100\n",
    "    th = 1.803/100\n",
    "    a = 31.24/100\n",
    "    b = 9.21*3/100\n",
    "    \n",
    "    a1 = a*tf/2\n",
    "    a2 = b*th/3\n",
    "    \n",
    "    d1 = tf/2\n",
    "    d2 = b/3\n",
    "    fibras = [[-(d2/2+d2+d1+d1/2),a1],\n",
    "              [-(d2/2+d2+d1/2),a1],\n",
    "              [-(d2),a2],\n",
    "              [0,a2],\n",
    "              [(d2),a2],\n",
    "              [(d2/2+d2+d1/2),a1],\n",
    "              [(d2/2+d2+d1+d1/2),a1]]\n",
    "    return np.array(fibras)\n",
    "\n",
    "vt = [[-0.001076],[0.05186],[-0.01091]]\n",
    "l = 9\n",
    "\n",
    "Re, v, q, kb, e, S = estadoPlasticidadDistribuida(vt, l, v0=[[0], [0], [0]],n=5)\n",
    "print('Vector {v}')\n",
    "print(v)\n",
    "print('\\nMatriz [kb]')\n",
    "print(kb)\n",
    "print('\\nVector {Re}')\n",
    "print(Re)\n",
    "print('\\nVector q {q}')\n",
    "print(q)\n",
    "print('\\nVector e {e}')\n",
    "print(np.array(e))\n",
    "print('\\nVector Et {Et}')\n",
    "print(np.array(S))\n"
   ]
  },
  {
   "cell_type": "code",
   "execution_count": 60,
   "metadata": {},
   "outputs": [
    {
     "name": "stdout",
     "output_type": "stream",
     "text": [
      "[0.225 1.225 1.6   1.225 0.225]\n",
      "[0.    0.777 2.25  3.723 4.5  ]\n"
     ]
    }
   ],
   "source": [
    "L = 4.5\n",
    "\n",
    "s = quadpy.line_segment.gauss_lobatto(5)\n",
    "X = (np.array(s.points)/2+1/2)*L\n",
    "W = np.array(s.weights)/2*L\n",
    "print(W)\n",
    "print(np.round(X,3))"
   ]
  },
  {
   "cell_type": "code",
   "execution_count": 62,
   "metadata": {},
   "outputs": [],
   "source": [
    "phis = np.array([-0.2664,-0.0123,-0.0015,0.0077,0.0463])"
   ]
  },
  {
   "cell_type": "code",
   "execution_count": 71,
   "metadata": {},
   "outputs": [
    {
     "data": {
      "text/plain": [
       "0.07197700746617224"
      ]
     },
     "execution_count": 71,
     "metadata": {},
     "output_type": "execute_result"
    }
   ],
   "source": [
    "np.sum(((X/L-1)*phis)*W)"
   ]
  },
  {
   "cell_type": "code",
   "execution_count": null,
   "metadata": {},
   "outputs": [],
   "source": []
  },
  {
   "cell_type": "code",
   "execution_count": 2,
   "metadata": {},
   "outputs": [
    {
     "name": "stdout",
     "output_type": "stream",
     "text": [
      "[[ 1595.23029321]\n",
      " [ 1583.24961295]\n",
      " [  579.85380398]\n",
      " [ -578.24955068]\n",
      " [ -607.75126238]\n",
      " [-1657.25092495]\n",
      " [-1669.23160521]]\n",
      "[[ 1.      0.1593]\n",
      " [ 1.      0.1452]\n",
      " [ 1.      0.0921]\n",
      " [ 1.     -0.    ]\n",
      " [ 1.     -0.0921]\n",
      " [ 1.     -0.1452]\n",
      " [ 1.     -0.1593]]\n"
     ]
    }
   ],
   "source": [
    "def crearFibras():\n",
    "    tf = 1.41*2/100\n",
    "    th = 1.803/100\n",
    "    a = 31.24/100\n",
    "    b = 9.21*3/100\n",
    "    \n",
    "    a1 = a*tf/2\n",
    "    a2 = b*th/3\n",
    "    \n",
    "    d1 = tf/2\n",
    "    d2 = b/3\n",
    "    fibras = [[-(d2/2+d2+d1+d1/2),a1],\n",
    "              [-(d2/2+d2+d1/2),a1],\n",
    "              [-(d2),a2],\n",
    "              [0,a2],\n",
    "              [(d2),a2],\n",
    "              [(d2/2+d2+d1/2),a1],\n",
    "              [(d2/2+d2+d1+d1/2),a1]]\n",
    "    return np.array(fibras)\n",
    "def _esfdeft(epsilon, sh=0.015,ey = 0.001725,E=200000000):  # CURVA ESFUERZO DEFORMACION\n",
    "    sh = 1-sh\n",
    "    et = E - sh * E * (np.abs(epsilon) > ey)\n",
    "    s = et * (epsilon-ey*np.sign(epsilon)*(np.abs(epsilon) > ey)) + ey*np.sign(epsilon)*E*(np.abs(epsilon) > ey)\n",
    "    return s, et\n",
    "def _estadoSeccion(e, fibras):\n",
    "    n = fibras.shape[0]\n",
    "    ea = e[0][0]\n",
    "    phi = e[1][0]\n",
    "    ys = fibras[:, 0].reshape(n, 1)\n",
    "    ai = fibras[:, 1].reshape(n, 1)\n",
    "\n",
    "    epsilon = ea - ys * phi\n",
    "    sigma, Et = _esfdeft(epsilon)\n",
    "    Sm = sigma * ai\n",
    "    print(Sm)\n",
    "    C = (Et * ai).T[0]\n",
    "    km = np.diag(C)\n",
    "    As = np.array([np.zeros([n]) + 1, -ys.T[0]]).T\n",
    "    S = As.T @ Sm\n",
    "    print(As)\n",
    "    Ks = As.T @ km @ As\n",
    "    return S, Ks, Et\n",
    "S,Ks,Et=_estadoSeccion(np.array([[-0.0028],[0.0643]]), crearFibras())"
   ]
  },
  {
   "cell_type": "code",
   "execution_count": 3,
   "metadata": {},
   "outputs": [
    {
     "data": {
      "text/plain": [
       "array([[-754.14963308],\n",
       "       [1099.92788513]])"
      ]
     },
     "execution_count": 3,
     "metadata": {},
     "output_type": "execute_result"
    }
   ],
   "source": [
    "S"
   ]
  },
  {
   "cell_type": "code",
   "execution_count": 44,
   "metadata": {},
   "outputs": [],
   "source": [
    "ys = crearFibras()[:,0]"
   ]
  },
  {
   "cell_type": "code",
   "execution_count": 46,
   "metadata": {},
   "outputs": [
    {
     "data": {
      "text/plain": [
       "array([ 0.00744299,  0.00653636,  0.00312203, -0.0028    , -0.00872203,\n",
       "       -0.01213636, -0.01304299])"
      ]
     },
     "execution_count": 46,
     "metadata": {},
     "output_type": "execute_result"
    }
   ],
   "source": [
    "-0.0028-ys*0.0643"
   ]
  },
  {
   "cell_type": "code",
   "execution_count": 49,
   "metadata": {},
   "outputs": [
    {
     "data": {
      "text/plain": [
       "array([[3000000.],\n",
       "       [3000000.],\n",
       "       [3000000.],\n",
       "       [3000000.],\n",
       "       [3000000.],\n",
       "       [3000000.],\n",
       "       [3000000.]])"
      ]
     },
     "execution_count": 49,
     "metadata": {},
     "output_type": "execute_result"
    }
   ],
   "source": [
    "Et"
   ]
  },
  {
   "cell_type": "code",
   "execution_count": 47,
   "metadata": {},
   "outputs": [
    {
     "data": {
      "text/plain": [
       "array([-0.1593, -0.1452, -0.0921,  0.    ,  0.0921,  0.1452,  0.1593])"
      ]
     },
     "execution_count": 47,
     "metadata": {},
     "output_type": "execute_result"
    }
   ],
   "source": [
    "ys"
   ]
  },
  {
   "cell_type": "markdown",
   "metadata": {},
   "source": [
    "# Graficas Punto 4"
   ]
  },
  {
   "cell_type": "code",
   "execution_count": 7,
   "metadata": {},
   "outputs": [
    {
     "data": {
      "text/plain": [
       "Text(0.5, 1.0, 'Modulo Tangente')"
      ]
     },
     "execution_count": 7,
     "metadata": {},
     "output_type": "execute_result"
    },
    {
     "data": {
      "image/png": "[encoded data removed]",
      "text/plain": [
       "<Figure size 1152x576 with 2 Axes>"
      ]
     },
     "metadata": {
      "needs_background": "light"
     },
     "output_type": "display_data"
    }
   ],
   "source": [
    "import numpy as np\n",
    "import matplotlib.pyplot as plt\n",
    "ey = 0.001725\n",
    "l = []\n",
    "fig,axes = plt.subplots(1,2,figsize=[16,8])\n",
    "ax = axes[0]\n",
    "for i in np.linspace(0,.5,5):\n",
    "    _X = np.linspace(0,2*ey,100)\n",
    "    _Y = _esfdeft(_X, sh=i,ey=ey)[0]\n",
    "    l.append(r'$\\alpha_{sh}='+format(np.round(i,2))+'$')\n",
    "    ax.plot(_X,_Y)\n",
    "ax.legend(l)\n",
    "ax.grid()\n",
    "ax.set_xlabel(r'$\\varepsilon$')\n",
    "ax.set_ylabel(r'$\\sigma$')\n",
    "ax.set_title('Curvas esfuerzo - deformación')\n",
    "ax = axes[1]\n",
    "for i in np.linspace(0,.5,5):\n",
    "    _X = np.linspace(0,2*ey,300)\n",
    "    _Y = _esfdeft(_X, sh=i,ey=ey)[1]\n",
    "    l.append(r'$\\alpha_{sh}='+format(np.round(i,2))+'$')\n",
    "    ax.plot(_X,_Y)\n",
    "ax.legend(l)\n",
    "ax.grid()\n",
    "ax.set_xlabel(r'$\\varepsilon$')\n",
    "ax.set_ylabel(r'$E_T$')\n",
    "ax.set_title('Modulo Tangente')"
   ]
  },
  {
   "cell_type": "code",
   "execution_count": 4,
   "metadata": {},
   "outputs": [
    {
     "name": "stdout",
     "output_type": "stream",
     "text": [
      "Error q: 0.022343639126405697 iteracion 2\n",
      "Error q: 0.06344760675583892 iteracion 3\n",
      "Error q: 1.761086112377678e-17 iteracion 4\n",
      "\n",
      "Vector {v}:\n",
      "[[-0.00026244]\n",
      " [-0.00246563]\n",
      " [-0.02220563]]\n",
      "\n",
      "Vector {q}:\n",
      "[[  -83.90620588]\n",
      " [ -601.67293321]\n",
      " [-1018.96199179]]\n",
      "\n",
      "Matriz [Kb]:\n",
      "[[319711.111      0.         0.   ]\n",
      " [     0.     37287.539   1062.667]\n",
      " [     0.      1062.667   2118.81 ]]\n",
      "\n",
      "Vector {ve}:\n",
      "[[-0.00026244]\n",
      " [-0.00246563]\n",
      " [-0.0195132 ]]\n",
      "\n",
      "Vector {vp}:\n",
      "[[ 0.        ]\n",
      " [ 0.        ]\n",
      " [-0.00269243]]\n",
      "\n",
      "Vector {v0}:\n",
      "[[0.]\n",
      " [0.]\n",
      " [0.]]\n"
     ]
    }
   ],
   "source": [
    "from PySections import *\n",
    "\n",
    "desp = np.array([0,-0.02219,0,-0.02898/100,0,-0.01974])\n",
    "sh = 0.03\n",
    "qy = [[9999999],[1013],[1013]]\n",
    "I = 110717.6\n",
    "A = 2877400\n",
    "E = 1\n",
    "l = 9\n",
    "\n",
    "\n",
    "estructura = Estructura()\n",
    "acero = Material('Acero', E, 0.2, 9.9*10**-6, 23.54,sh=sh)\n",
    "seccion = Seccion('Elementos', TipoSeccion.GENERAL, [A,I], acero,qy=qy)\n",
    "\n",
    "estructura.agregarNodo(x=0,y=0)\n",
    "estructura.agregarNodo(x=l,y=0)\n",
    "estructura.agregarElemento(nodoInicial=0,nodoFinal=1,seccion=seccion,tipo=Tipo.UNO,defCortante=False)\n",
    "\n",
    "for i in estructura.elementos:\n",
    "    i.Ue = desp[np.ix_(i.diccionario)]\n",
    "KLL,P = estructura.determinacionDeEstado()\n",
    "\n",
    "print('\\nVector {v}:')\n",
    "print(estructura.elementos[0].v)\n",
    "print('\\nVector {q}:')\n",
    "print(estructura.elementos[0].q)\n",
    "print('\\nMatriz [Kb]:')\n",
    "print(np.round(estructura.elementos[0].kb,3))\n",
    "print('\\nVector {ve}:')\n",
    "print(estructura.elementos[0].ve)\n",
    "print('\\nVector {vp}:')\n",
    "print(estructura.elementos[0].vp)\n",
    "print('\\nVector {v0}:')\n",
    "print(estructura.elementos[0].v0)\n",
    "#estructura.solucionar(True,True)"
   ]
  },
  {
   "cell_type": "code",
   "execution_count": 19,
   "metadata": {},
   "outputs": [
    {
     "name": "stdout",
     "output_type": "stream",
     "text": [
      "Error q: 0.02972801068016493 iteracion 2\n",
      "Error q: 0.5132914314346299 iteracion 3\n",
      "Error q: 7.911556306605241e-17 iteracion 4\n"
     ]
    }
   ],
   "source": [
    "Re,v,q,kb,ve,vp = estadoPlasticidadConcentrada([[-0.000289],[-0.02219],[-0.01974]],0.02,qy,I,l,A,tipo = Tipo.UNO,v0=[[0],[-0.002743],[0.002743]],q=[[0],[0],[0]])"
   ]
  },
  {
   "cell_type": "code",
   "execution_count": 31,
   "metadata": {},
   "outputs": [
    {
     "data": {
      "text/plain": [
       "array([[ 0.        ],\n",
       "       [-0.00565196],\n",
       "       [-0.00851519]])"
      ]
     },
     "execution_count": 31,
     "metadata": {},
     "output_type": "execute_result"
    }
   ],
   "source": [
    "vp"
   ]
  }
 ],
 "metadata": {
  "kernelspec": {
   "display_name": "Python 3",
   "language": "python",
   "name": "python3"
  },
  "language_info": {
   "codemirror_mode": {
    "name": "ipython",
    "version": 3
   },
   "file_extension": ".py",
   "mimetype": "text/x-python",
   "name": "python",
   "nbconvert_exporter": "python",
   "pygments_lexer": "ipython3",
   "version": "3.7.5"
  }
 },
 "nbformat": 4,
 "nbformat_minor": 4
}
