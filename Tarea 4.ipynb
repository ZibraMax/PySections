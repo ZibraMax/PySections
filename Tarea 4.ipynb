{
 "cells": [
  {
   "cell_type": "code",
   "execution_count": 1,
   "metadata": {},
   "outputs": [
    {
     "name": "stdout",
     "output_type": "stream",
     "text": [
      "Se ha terminado de calcular, puedes examinar la variable de la estructura para consultar los resultados.\n"
     ]
    }
   ],
   "source": [
    "#Modelado inicial del problema y solucion por analisis estatico lineal.\n",
    "from PySections import *\n",
    "estructura = Estructura()\n",
    "\n",
    "area = 3.54/1550\n",
    "inercia = 53.8/(1550**2)\n",
    "\n",
    "h = 4\n",
    "l = 4\n",
    "dl = 1\n",
    "\n",
    "desplazamientosLibres=[55.3/1000,-15.1/1000,-0.00826,55.4/1000,-15.6/1000,-0.00829,0,0,0,0,0,0]\n",
    "\n",
    "acero = Material('Acero', 200000000, 0.2, 9.9*10**-6, 23.54)\n",
    "seccion = Seccion('Elementos', TipoSeccion.GENERAL, [area,inercia], acero)\n",
    "\n",
    "estructura.agregarNodo(x=dl,y=h)\n",
    "estructura.agregarNodo(x=l+dl,y=h)\n",
    "estructura.agregarNodo(x=0,y=0,fix=[False,False,False])\n",
    "estructura.agregarNodo(x=l,y=0,fix=[False,False,False])\n",
    "\n",
    "estructura.agregarElemento(nodoInicial=2,nodoFinal=0,seccion=seccion,defCortante=False)\n",
    "estructura.agregarElemento(nodoInicial=0,nodoFinal=1,seccion=seccion,defCortante=False)\n",
    "estructura.agregarElemento(nodoInicial=3,nodoFinal=1,seccion=seccion,defCortante=False)\n",
    "\n",
    "estructura.agregarCargaNodo(nodo=0,py=-120)\n",
    "estructura.agregarCargaNodo(nodo=1,py=-120)\n",
    "\n",
    "estructura.solucionar(True,True)"
   ]
  },
  {
   "cell_type": "code",
   "execution_count": 50,
   "metadata": {},
   "outputs": [
    {
     "data": {
      "text/plain": [
       "array([ 0.05529981, -0.01505167, -0.00825451,  0.05536322, -0.01559654,\n",
       "       -0.00829264])"
      ]
     },
     "execution_count": 50,
     "metadata": {},
     "output_type": "execute_result"
    }
   ],
   "source": [
    "#Analisis no lineal con un solo intervalo de carga\n",
    "estructura.solucionar(analisis='CR')[:,0] #Hace newton para una mejor solucion"
   ]
  },
  {
   "cell_type": "code",
   "execution_count": 48,
   "metadata": {},
   "outputs": [
    {
     "data": {
      "text/plain": [
       "array([[ 5.50949442],\n",
       "       [ 5.03741279],\n",
       "       [ 0.10400099],\n",
       "       [-4.38009762],\n",
       "       [-0.68384394],\n",
       "       [ 0.00669309]])"
      ]
     },
     "execution_count": 48,
     "metadata": {},
     "output_type": "execute_result"
    }
   ],
   "source": [
    "#Hace el analisis no lineal para el elemento 1 con los desplazamientos propuestos en el enunciado\n",
    "def guardarCSV(arreglo,nombre):\n",
    "    import os\n",
    "    path = os.getcwd()\n",
    "    np.savetxt(path + \"/\"+nombre+\".csv\", arreglo, delimiter=\",\")\n",
    "\n",
    "for i in estructura.elementos:\n",
    "    i.Ue = np.array(desplazamientosLibres)[np.ix_(i.diccionario)]\n",
    "i = estructura.elementos[0]\n",
    "i.determinarV0()\n",
    "i.calcularv()\n",
    "i.fuerzasBasicas()\n",
    "[Ke, P] = i.matrizYFuerzas()\n",
    "K, PL = estructura.determinacionDeEstado()\n",
    "try:\n",
    "    guardarCSV(i.T,'T')\n",
    "    guardarCSV(i.kb,'Kb')\n",
    "    guardarCSV(i.T,'T')\n",
    "    guardarCSV(Ke,'Ke')\n",
    "    guardarCSV(P,'Pl')\n",
    "except:\n",
    "    print('error guardadno los archivos')\n",
    "print('Residuo')\n",
    "estructura.Fn[np.ix_(estructura.libres)]-PL"
   ]
  },
  {
   "cell_type": "code",
   "execution_count": 49,
   "metadata": {},
   "outputs": [
    {
     "data": {
      "text/plain": [
       "array([[-3.46254967e-04],\n",
       "       [-2.10039529e-04],\n",
       "       [ 1.87349241e-05],\n",
       "       [ 2.55083036e-04],\n",
       "       [-1.42851103e-04],\n",
       "       [-7.36906827e-07]])"
      ]
     },
     "execution_count": 49,
     "metadata": {},
     "output_type": "execute_result"
    }
   ],
   "source": [
    "#Realiza determinacion de estado con los nuevos desplazamientos\n",
    "UlPrueba = [0.05529981, -0.01505167, -0.00825451,  0.05536322, -0.01559654 ,-0.00829264,0,0,0,0,0,0]\n",
    "for i in estructura.elementos:\n",
    "    i.Ue = np.array(UlPrueba)[np.ix_(i.diccionario)]\n",
    "K, PL = estructura.determinacionDeEstado()\n",
    "guardarCSV(K,'K')\n",
    "guardarCSV(PL,'PL')\n",
    "print('Residuo')\n",
    "estructura.Fn[np.ix_(estructura.libres)]-PL"
   ]
  },
  {
   "cell_type": "code",
   "execution_count": 40,
   "metadata": {},
   "outputs": [
    {
     "data": {
      "text/plain": [
       "<matplotlib.legend.Legend at 0x2ca01568588>"
      ]
     },
     "execution_count": 40,
     "metadata": {},
     "output_type": "execute_result"
    },
    {
     "name": "stderr",
     "output_type": "stream",
     "text": [
      "c:\\program files\\python37\\lib\\site-packages\\IPython\\core\\pylabtools.py:132: UserWarning: Creating legend with loc=\"best\" can be slow with large amounts of data.\n",
      "  fig.canvas.print_figure(bytes_io, **kw)\n"
     ]
    },
    {
     "data": {
      "image/png": "[encoded data removed]",
      "text/plain": [
       "<Figure size 432x288 with 1 Axes>"
      ]
     },
     "metadata": {
      "needs_background": "light"
     },
     "output_type": "display_data"
    }
   ],
   "source": [
    "#Graficas de las funciones de aproximacion\n",
    "\n",
    "import matplotlib.pyplot as plt\n",
    "kb1 = lambda psi,E,I,L: ((E*I)/(L))*((psi*(np.sin(psi)-psi*np.cos(psi)))/(2-2*np.cos(psi)-psi*np.sin(psi)))\n",
    "kb2 = lambda psi,E,I,L: ((E*I)/(L))*((psi*(psi-np.sin(psi)))/(2-2*np.cos(psi)-psi*np.sin(psi)))\n",
    "kb3 = lambda psi,E,I,L: ((E*I)/(L))*((psi**2*np.sin(psi))/(np.sin(psi)-psi*np.cos(psi)))\n",
    "x = np.arange(0.001,np.pi,0.00001)\n",
    "plt.plot(x,kb1(x,estructura.elementos[1].E,estructura.elementos[1].Inercia,estructura.elementos[1].Longitud))\n",
    "plt.plot(x,kb2(x,estructura.elementos[1].E,estructura.elementos[1].Inercia,estructura.elementos[1].Longitud))\n",
    "plt.plot(x,kb3(x,estructura.elementos[1].E,estructura.elementos[1].Inercia,estructura.elementos[1].Longitud))\n",
    "plt.legend(['kb1','kb2','kb3'])"
   ]
  }
 ],
 "metadata": {
  "kernelspec": {
   "display_name": "Python 3",
   "language": "python",
   "name": "python3"
  },
  "language_info": {
   "codemirror_mode": {
    "name": "ipython",
    "version": 3
   },
   "file_extension": ".py",
   "mimetype": "text/x-python",
   "name": "python",
   "nbconvert_exporter": "python",
   "pygments_lexer": "ipython3",
   "version": "3.7.5"
  }
 },
 "nbformat": 4,
 "nbformat_minor": 4
}
