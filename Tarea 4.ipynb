{
 "cells": [
  {
   "cell_type": "code",
   "execution_count": 1,
   "metadata": {},
   "outputs": [
    {
     "name": "stdout",
     "output_type": "stream",
     "text": [
      "Se ha terminado de calcular, puedes examinar la variable de la estructura para consultar los resultados.\n"
     ]
    }
   ],
   "source": [
    "from PySections import *\n",
    "estructura = Estructura()\n",
    "\n",
    "area = 3.54/1550\n",
    "inercia = 53.8/(1550**2)\n",
    "\n",
    "h = 4\n",
    "l = 4\n",
    "dl = 1\n",
    "\n",
    "desplazamientosLibres=[55.3/1000,-15.1/1000,-0.00826,55.4/1000,-15.6/1000,-0.00829,0,0,0,0,0,0]\n",
    "\n",
    "acero = Material('Acero', 200000000, 0.2, 9.9*10**-6, 23.54)\n",
    "seccion = Seccion('Elementos', TipoSeccion.GENERAL, [area,inercia], acero)\n",
    "\n",
    "estructura.agregarNodo(x=dl,y=h)\n",
    "estructura.agregarNodo(x=l+dl,y=h)\n",
    "estructura.agregarNodo(x=0,y=0,fix=[False,False,False])\n",
    "estructura.agregarNodo(x=l,y=0,fix=[False,False,False])\n",
    "\n",
    "estructura.agregarElemento(nodoInicial=2,nodoFinal=0,seccion=seccion,defCortante=False)\n",
    "estructura.agregarElemento(nodoInicial=0,nodoFinal=1,seccion=seccion,defCortante=False)\n",
    "estructura.agregarElemento(nodoInicial=3,nodoFinal=1,seccion=seccion,defCortante=False)\n",
    "\n",
    "estructura.agregarCargaNodo(nodo=0,py=-120)\n",
    "estructura.agregarCargaNodo(nodo=1,py=-120)\n",
    "\n",
    "estructura.solucionar(True,True)"
   ]
  },
  {
   "cell_type": "code",
   "execution_count": 24,
   "metadata": {},
   "outputs": [
    {
     "data": {
      "text/plain": [
       "array([[ 0.05529981],\n",
       "       [-0.01505167],\n",
       "       [-0.00825451],\n",
       "       [ 0.05536322],\n",
       "       [-0.01559654],\n",
       "       [-0.00829264]])"
      ]
     },
     "execution_count": 24,
     "metadata": {},
     "output_type": "execute_result"
    }
   ],
   "source": [
    "estructura.solucionar(analisis='CR')"
   ]
  },
  {
   "cell_type": "code",
   "execution_count": 10,
   "metadata": {},
   "outputs": [],
   "source": [
    "def guardarCSV(arreglo,nombre):\n",
    "    import os\n",
    "    path = os.getcwd()\n",
    "    np.savetxt(path + \"/\"+nombre+\".csv\", arreglo, delimiter=\",\")"
   ]
  },
  {
   "cell_type": "code",
   "execution_count": 23,
   "metadata": {},
   "outputs": [
    {
     "name": "stdout",
     "output_type": "stream",
     "text": [
      "error\n"
     ]
    },
    {
     "data": {
      "text/plain": [
       "0.5938065354437346"
      ]
     },
     "execution_count": 23,
     "metadata": {},
     "output_type": "execute_result"
    }
   ],
   "source": [
    "for i in estructura.elementos:\n",
    "    i.Ue = np.array(desplazamientosLibres)[np.ix_(i.diccionario)]\n",
    "i = estructura.elementos[0]\n",
    "i.determinarV0()\n",
    "i.calcularv()\n",
    "i.fuerzasBasicas()\n",
    "[Ke, P] = i.matrizYFuerzas()\n",
    "try:\n",
    "    guardarCSV(i.kb,'Kb')\n",
    "    guardarCSV(i.kb0,'Kb0')\n",
    "    guardarCSV(Ke,'Ke')\n",
    "    guardarCSV(P,'Pl')\n",
    "except:\n",
    "    print('error')\n",
    "i.psi"
   ]
  },
  {
   "cell_type": "code",
   "execution_count": 13,
   "metadata": {},
   "outputs": [
    {
     "data": {
      "text/plain": [
       "[<matplotlib.lines.Line2D at 0x28b541bfb48>]"
      ]
     },
     "execution_count": 13,
     "metadata": {},
     "output_type": "execute_result"
    },
    {
     "data": {
      "image/png": "[encoded data removed]",
      "text/plain": [
       "<Figure size 432x288 with 1 Axes>"
      ]
     },
     "metadata": {
      "needs_background": "light"
     },
     "output_type": "display_data"
    }
   ],
   "source": [
    "import matplotlib.pyplot as plt\n",
    "kb1 = lambda psi,E,I,L: ((E*I)/(L))*((psi*(np.sin(psi)-psi*np.cos(psi)))/(2-2*np.cos(psi)-psi*np.sin(psi)))\n",
    "x = np.arange(0.005,0.02,0.0001)\n",
    "plt.plot(x,kb1(x,estructura.elementos[1].E,estructura.elementos[1].Inercia,estructura.elementos[1].Longitud))"
   ]
  }
 ],
 "metadata": {
  "kernelspec": {
   "display_name": "Python 3",
   "language": "python",
   "name": "python3"
  },
  "language_info": {
   "codemirror_mode": {
    "name": "ipython",
    "version": 3
   },
   "file_extension": ".py",
   "mimetype": "text/x-python",
   "name": "python",
   "nbconvert_exporter": "python",
   "pygments_lexer": "ipython3",
   "version": "3.7.5"
  }
 },
 "nbformat": 4,
 "nbformat_minor": 4
}
