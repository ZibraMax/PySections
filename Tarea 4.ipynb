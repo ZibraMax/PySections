{
 "cells": [
  {
   "cell_type": "code",
   "execution_count": null,
   "metadata": {},
   "outputs": [],
   "source": [
    "from PySections import *\n",
    "import matplotlib.pyplot as plt"
   ]
  },
  {
   "cell_type": "markdown",
   "metadata": {},
   "source": [
    "<h1>Punto 1</h1>"
   ]
  },
  {
   "cell_type": "markdown",
   "metadata": {},
   "source": [
    "<h4>A. Formulacion Corrotacional</h4>"
   ]
  },
  {
   "cell_type": "code",
   "execution_count": null,
   "metadata": {},
   "outputs": [],
   "source": [
    "DX0 = 0.05\n",
    "DY0 = 1.5/2\n",
    "L0 = np.sqrt(DX0**2+DY0**2)\n",
    "fea = lambda ux,q: 4*((DX0-ux)/L0)/L0*(np.sqrt(DY0**2+(DX0-ux)**2)-L0+q)\n",
    "qea = lambda ux,q: (np.sqrt(DY0**2+(DX0-ux)**2)-L0+q)/L0\n",
    "x = np.arange(0,0.126,0.001)\n",
    "fig, ax = plt.subplots(2,1,figsize=(10, 12))\n",
    "legenda = np.array([])\n",
    "n = 10\n",
    "h=L0/100/n\n",
    "for j in range(0,n+1):\n",
    "    i=j*h\n",
    "    ax[0].plot(x,-fea(x,i))\n",
    "    lbda = i/(L0/100)\n",
    "    legenda = np.append(legenda,r'$q_0=\\frac{EA}{100}'+format(np.round(lbda,2))+'$')\n",
    "#ax.plot(x,-fea(x,L0/100))\n",
    "ax[0].legend(legenda,borderaxespad=-10,loc='center right')\n",
    "ax[0].grid(True)\n",
    "ax[0].set_xlabel(r'$|U|$ [m]')\n",
    "ax[0].set_ylabel(r'$\\frac{q_1}{EA}$')\n",
    "fig.savefig('Prueba.jpg')\n",
    "\n",
    "for j in range(0,n+1):\n",
    "    i=j*h\n",
    "    ax[1].plot(x,qea(x,i))\n",
    "    lbda = i/(L0/100)\n",
    "    legenda = np.append(legenda,r'$q_0=\\frac{EA}{100}'+format(np.round(lbda,2))+'$')\n",
    "#ax.plot(x,-fea(x,L0/100))\n",
    "ax[1].legend(legenda,borderaxespad=-10,loc='center right')\n",
    "ax[1].grid(True)\n",
    "ax[1].set_xlabel(r'$|U|$ [m]')\n",
    "ax[1].set_ylabel(r'$\\frac{q_1}{EA}$')\n",
    "fig.savefig('Prueba.jpg')"
   ]
  },
  {
   "cell_type": "markdown",
   "metadata": {},
   "source": [
    "<h4>C. Análisis con diferentes formulaciones</h4>"
   ]
  },
  {
   "cell_type": "code",
   "execution_count": null,
   "metadata": {},
   "outputs": [],
   "source": [
    "DX0 = 0.05\n",
    "DY0 = 1.5/2\n",
    "C0 = DX0/L0\n",
    "L0 = np.sqrt(DX0**2+DY0**2)\n",
    "feaEL = lambda ux,q: (4*C0**2)/L0*ux+(4*C0)*(q)\n",
    "feaPD = lambda ux,q: ux*(4*C0**2/L0+(4*q)/(np.sqrt(DY0**2+(DX0-ux)**2))*(1-C0**2))+4*C0*q\n",
    "feaCR = lambda ux,q: 4*((DX0-ux)/L0)/L0*(np.sqrt(DY0**2+(DX0-ux)**2)-L0+q)\n",
    "x = np.arange(0,0.01+0.0001,0.0001)\n",
    "fig, ax = plt.subplots(figsize=(10, 6))\n",
    "legenda = np.array([])\n",
    "ax.plot(x,feaEL(x,-7.9*10**-4)) \n",
    "ax.plot(x,-feaCR(x,7.9*10**-4)) #Esta ecuacion se hallo en funcion de la carga de preesfuerzo\n",
    "ax.plot(x,feaPD(x,-7.9*10**-4)) \n",
    "ax.legend(['Estatico Lineal','Corrotacional','P-Delta'])\n",
    "ax.grid(True)\n",
    "ax.set_xlabel(r'$|U|$ [m]')\n",
    "ax.set_ylabel(r'$f_b$')\n",
    "fig.savefig('Prueba.jpg')"
   ]
  },
  {
   "cell_type": "markdown",
   "metadata": {},
   "source": [
    "<h1>Punto 2</h1>"
   ]
  },
  {
   "cell_type": "code",
   "execution_count": null,
   "metadata": {},
   "outputs": [],
   "source": [
    "#Modelado inicial del problema y solucion por analisis estatico lineal.\n",
    "from PySections import *\n",
    "estructura = Estructura()\n",
    "    \n",
    "area = 3.54/1550\n",
    "inercia = 53.8/(1550**2)\n",
    "\n",
    "h = 4\n",
    "l = 4\n",
    "dl = 1\n",
    "\n",
    "desplazamientosLibres=[55.3/1000,-15.1/1000,-0.00826,55.4/1000,-15.6/1000,-0.00829,0,0,0,0,0,0]\n",
    "\n",
    "acero = Material('Acero', 200000000, 0.2, 9.9*10**-6, 23.54)\n",
    "seccion = Seccion('Elementos', TipoSeccion.GENERAL, [area,inercia], acero)\n",
    "\n",
    "estructura.agregarNodo(x=dl,y=h)\n",
    "estructura.agregarNodo(x=l+dl,y=h)\n",
    "estructura.agregarNodo(x=0,y=0,fix=[False,False,False])\n",
    "estructura.agregarNodo(x=l,y=0,fix=[False,False,False])\n",
    "\n",
    "estructura.agregarElemento(nodoInicial=2,nodoFinal=0,seccion=seccion,defCortante=False)\n",
    "estructura.agregarElemento(nodoInicial=0,nodoFinal=1,seccion=seccion,defCortante=False)\n",
    "estructura.agregarElemento(nodoInicial=3,nodoFinal=1,seccion=seccion,defCortante=False)\n",
    "\n",
    "estructura.agregarCargaNodo(nodo=0,py=-120)\n",
    "estructura.agregarCargaNodo(nodo=1,py=-120)\n",
    "\n",
    "estructura.solucionar(True,True)"
   ]
  },
  {
   "cell_type": "code",
   "execution_count": null,
   "metadata": {},
   "outputs": [],
   "source": [
    "#Analisis no lineal con un solo intervalo de carga\n",
    "estructura.solucionar(analisis='CR')[:,0] #Hace newton para una mejor solucion"
   ]
  },
  {
   "cell_type": "code",
   "execution_count": 4,
   "metadata": {},
   "outputs": [
    {
     "name": "stdout",
     "output_type": "stream",
     "text": [
      "Residuo\n"
     ]
    },
    {
     "data": {
      "text/plain": [
       "array([[ 5.50949442],\n",
       "       [ 5.03741279],\n",
       "       [ 0.10400099],\n",
       "       [-4.38009762],\n",
       "       [-0.68384394],\n",
       "       [ 0.00669309]])"
      ]
     },
     "execution_count": 4,
     "metadata": {},
     "output_type": "execute_result"
    }
   ],
   "source": [
    "#Hace el analisis no lineal para el elemento 1 con los desplazamientos propuestos en el enunciado\n",
    "def guardarCSV(arreglo,nombre):\n",
    "    import os\n",
    "    path = os.getcwd()\n",
    "    np.savetxt(path + \"/\"+nombre+\".csv\", arreglo, delimiter=\",\")\n",
    "\n",
    "for i in estructura.elementos:\n",
    "    i.Ue = np.array(desplazamientosLibres)[np.ix_(i.diccionario)]\n",
    "i = estructura.elementos[0]\n",
    "i.determinarV0()\n",
    "i.calcularv()\n",
    "i.fuerzasBasicas()\n",
    "[Ke, P] = i.matrizYFuerzas()\n",
    "K, PL = estructura.determinacionDeEstado()\n",
    "try:\n",
    "    guardarCSV(i.T,'T')\n",
    "    guardarCSV(i.kb,'Kb')\n",
    "    guardarCSV(i.T,'T')\n",
    "    guardarCSV(Ke,'Ke')\n",
    "    guardarCSV(P,'Pl')\n",
    "except:\n",
    "    print('error guardadno los archivos')\n",
    "print('Residuo')\n",
    "estructura.Fn[np.ix_(estructura.libres)]-PL"
   ]
  },
  {
   "cell_type": "code",
   "execution_count": null,
   "metadata": {},
   "outputs": [],
   "source": [
    "#Realiza determinacion de estado con los nuevos desplazamientos\n",
    "UlPrueba = [0.05529981, -0.01505167, -0.00825451,  0.05536322, -0.01559654 ,-0.00829264,0,0,0,0,0,0]\n",
    "for i in estructura.elementos:\n",
    "    i.Ue = np.array(UlPrueba)[np.ix_(i.diccionario)]\n",
    "K, PL = estructura.determinacionDeEstado()\n",
    "guardarCSV(K,'K')\n",
    "guardarCSV(PL,'PL')\n",
    "print('Residuo')\n",
    "estructura.Fn[np.ix_(estructura.libres)]-PL"
   ]
  },
  {
   "cell_type": "code",
   "execution_count": null,
   "metadata": {},
   "outputs": [],
   "source": [
    "#Graficas de las funciones de aproximacion\n",
    "import matplotlib.pyplot as plt\n",
    "kb1 = lambda psi,E,I,L: ((E*I)/(L))*((psi*(np.sin(psi)-psi*np.cos(psi)))/(2-2*np.cos(psi)-psi*np.sin(psi)))\n",
    "kb2 = lambda psi,E,I,L: ((E*I)/(L))*((psi*(psi-np.sin(psi)))/(2-2*np.cos(psi)-psi*np.sin(psi)))\n",
    "kb3 = lambda psi,E,I,L: ((E*I)/(L))*((psi**2*np.sin(psi))/(np.sin(psi)-psi*np.cos(psi)))\n",
    "x = np.arange(0.001,np.pi,0.00001)\n",
    "plt.plot(x,kb1(x,estructura.elementos[1].E,estructura.elementos[1].Inercia,estructura.elementos[1].Longitud))\n",
    "plt.plot(x,kb2(x,estructura.elementos[1].E,estructura.elementos[1].Inercia,estructura.elementos[1].Longitud))\n",
    "plt.plot(x,kb3(x,estructura.elementos[1].E,estructura.elementos[1].Inercia,estructura.elementos[1].Longitud))\n",
    "plt.legend(['kb1','kb2','kb3'])"
   ]
  }
 ],
 "metadata": {
  "kernelspec": {
   "display_name": "Python 3",
   "language": "python",
   "name": "python3"
  },
  "language_info": {
   "codemirror_mode": {
    "name": "ipython",
    "version": 3
   },
   "file_extension": ".py",
   "mimetype": "text/x-python",
   "name": "python",
   "nbconvert_exporter": "python",
   "pygments_lexer": "ipython3",
   "version": "3.7.5"
  }
 },
 "nbformat": 4,
 "nbformat_minor": 4
}
