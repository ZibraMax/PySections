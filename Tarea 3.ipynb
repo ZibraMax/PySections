{
 "cells": [
  {
   "cell_type": "code",
   "execution_count": 1,
   "metadata": {},
   "outputs": [],
   "source": [
    "from PySections import *\n",
    "import os"
   ]
  },
  {
   "cell_type": "markdown",
   "metadata": {},
   "source": [
    "<h1>PUNTO 1</h1>"
   ]
  },
  {
   "cell_type": "markdown",
   "metadata": {},
   "source": [
    "<h3>A</h3>"
   ]
  },
  {
   "cell_type": "code",
   "execution_count": 10,
   "metadata": {},
   "outputs": [
    {
     "name": "stdout",
     "output_type": "stream",
     "text": [
      "Se ha terminado de calcular, puedes examinar la variable de la estructura para consultar los resultados.\n",
      "Se han guardado los resultados en: C:\\Users\\david\\Desktop\\Analisis Avanzado\\Python/PUNTO1_RESULTADOS \n",
      "La matriz de rigidez de la estructura se guardo como archivo csv en la carpeta PUNTO1_RESULTADOS en el mismo directorio donde se encuentra este archivo\n"
     ]
    }
   ],
   "source": [
    "estructura = Estructura()\n",
    "EI = 10000\n",
    "EA = 65*EI\n",
    "CONCRETO = Material('CONCRETO', 1, 0.2, 9.9*10**-6, 23.54)\n",
    "SECCION = Seccion('ELEMENTOS', TipoSeccion.GENERAL, [EA,EI], CONCRETO)\n",
    "\n",
    "estructura.agregarNodo(x=0,y=0,fix=[False,False,False])\n",
    "estructura.agregarNodo(x=0,y=5)\n",
    "estructura.agregarNodo(x=5,y=7)\n",
    "estructura.agregarNodo(x=9,y=4)\n",
    "estructura.agregarNodo(x=9,y=0,fix=[False,False,False])\n",
    "estructura.agregarElemento(seccion=SECCION, nodoInicial=0, nodoFinal=1, tipo=Tipo.UNO, defCortante=False)\n",
    "estructura.agregarElemento(seccion=SECCION, nodoInicial=1, nodoFinal=2, tipo=Tipo.UNO, defCortante=False)\n",
    "estructura.agregarElemento(seccion=SECCION, nodoInicial=2, nodoFinal=3, tipo=Tipo.UNO, defCortante=False)\n",
    "estructura.agregarElemento(seccion=SECCION, nodoInicial=3, nodoFinal=4, tipo=Tipo.UNO, defCortante=False)\n",
    "estructura.agregarCargaNodo(nodo=1, px=10)\n",
    "estructura.agregarCargaNodo(nodo=2, px=20)\n",
    "estructura.agregarCargaNodo(nodo=3, px=20)\n",
    "estructura.agregarCargaDistribuida(elemento=1,WY=50)\n",
    "estructura.agregarCargaDistribuida(elemento=2,WY=40)\n",
    "estructura.solucionar(verbose=True,dibujar=True,guardar=True,carpeta='PUNTO1_RESULTADOS')\n",
    "print('La matriz de rigidez de la estructura se guardo como archivo csv en la carpeta PUNTO1_RESULTADOS en el mismo directorio donde se encuentra este archivo')"
   ]
  },
  {
   "cell_type": "markdown",
   "metadata": {},
   "source": [
    "<h3>B y C</h3>"
   ]
  },
  {
   "cell_type": "markdown",
   "metadata": {},
   "source": [
    "<h3>D</h3>"
   ]
  },
  {
   "cell_type": "code",
   "execution_count": 101,
   "metadata": {},
   "outputs": [
    {
     "name": "stdout",
     "output_type": "stream",
     "text": [
      "Se ha terminado de calcular, puedes examinar la variable de la estructura para consultar los resultados.\n",
      "Se han guardado los resultados en: C:\\Users\\david\\Desktop\\Analisis Avanzado\\Python/PUNTO1_RESULTADOS \n",
      "Matriz KGorrito: \n",
      "[[ 2.73275e+03 -1.78000e+02]\n",
      " [-1.77938e+02  1.30000e+15]]\n",
      "Vector FGorrito: \n",
      "[[-180.413]\n",
      " [-211.168]]\n"
     ]
    }
   ],
   "source": [
    "estructura = Estructura()\n",
    "EI = 10000\n",
    "EA = 65*EI\n",
    "CONCRETO = Material('CONCRETO', 1, 0.2, 9.9*10**-6, 23.54)\n",
    "SECCION = Seccion('ELEMENTOS', TipoSeccion.GENERAL, [EA*10**10,EI], CONCRETO)\n",
    "\n",
    "estructura.agregarNodo(x=0,y=0,fix=[False,False,False])\n",
    "estructura.agregarNodo(x=0,y=5)\n",
    "estructura.agregarNodo(x=5,y=7)\n",
    "estructura.agregarNodo(x=9,y=4)\n",
    "estructura.agregarNodo(x=9,y=0,fix=[False,False,False])\n",
    "\n",
    "estructura.agregarElemento(seccion=SECCION, nodoInicial=0, nodoFinal=1, tipo=Tipo.UNO, defCortante=False)\n",
    "estructura.agregarElemento(seccion=SECCION, nodoInicial=1, nodoFinal=2, tipo=Tipo.UNO, defCortante=False)\n",
    "estructura.agregarElemento(seccion=SECCION, nodoInicial=2, nodoFinal=3, tipo=Tipo.UNO, defCortante=False)\n",
    "estructura.agregarElemento(seccion=SECCION, nodoInicial=3, nodoFinal=4, tipo=Tipo.UNO, defCortante=False)\n",
    "\n",
    "estructura.agregarCargaNodo(nodo=1, px=10)\n",
    "estructura.agregarCargaNodo(nodo=2, px=20)\n",
    "estructura.agregarCargaNodo(nodo=3, px=20)\n",
    "\n",
    "estructura.agregarCargaDistribuida(elemento=1,WY=50)\n",
    "estructura.agregarCargaDistribuida(elemento=2,WY=40)\n",
    "\n",
    "estructura.definirConstraint('ROD',2,3)\n",
    "estructura.definirConstraint('ROD',1,2)\n",
    "estructura.definirConstraint('ROD',0,4)\n",
    "\n",
    "superElemento = estructura.hacerSuperElemento(gdlVisibles=[0,1],gdlInvisibles=[2,3,4,5])\n",
    "KGorro = superElemento[1]\n",
    "FGorro = superElemento[0]\n",
    "estructura.solucionar(verbose=True,dibujar=False,guardar=True,carpeta='PUNTO1_RESULTADOS')\n",
    "print('Matriz KGorrito: \\n'+format(np.round(KGorro,3)))\n",
    "print('Vector FGorrito: \\n'+format(np.round(FGorro,3)))"
   ]
  },
  {
   "cell_type": "markdown",
   "metadata": {},
   "source": [
    "<h1>PUNTO 2</h1>"
   ]
  },
  {
   "cell_type": "code",
   "execution_count": 2,
   "metadata": {},
   "outputs": [
    {
     "name": "stdout",
     "output_type": "stream",
     "text": [
      "Se han guardado los resultados en: C:\\Users\\david\\Desktop\\Analisis Avanzado\\Python/PUNTO2_RESULTADOS_arco \n"
     ]
    }
   ],
   "source": [
    "from PySections import *\n",
    "estructura = Estructura()\n",
    "EI = 105*10**3\n",
    "EA = 50*EI\n",
    "CONCRETO = Material('CONCRETO', 1, 0.2, 9.9*10**-6, 23.54)\n",
    "SECCION = Seccion('ELEMENTOS', TipoSeccion.GENERAL, [EA,EI], CONCRETO)\n",
    "\n",
    "estructura.agregarNodo(x=0,y=0,fix=[False,False,False])\n",
    "r = 8\n",
    "n = 4\n",
    "h = r/n\n",
    "estructura.agregarResorte(nodo=-1,rigidez=[1000,0,0])\n",
    "for i in range(1,2*n):\n",
    "    estructura.agregarNodo(x=i*h,y=(r**2-((i*h)-r)**2)**(1/2))\n",
    "    estructura.agregarElemento(seccion=SECCION, nodoInicial=-2, nodoFinal=-1, tipo=Tipo.UNO, defCortante=False)\n",
    "    estructura.agregarDefectoDeFabricacion(fi0=-1.2*10**-4)\n",
    "estructura.agregarNodo(x=2*r,y=0,fix=[False,False,False])\n",
    "estructura.agregarResorte(rigidez=[1000,0,0])\n",
    "estructura.agregarElemento(seccion=SECCION, nodoInicial=-2, nodoFinal=-1, tipo=Tipo.UNO, defCortante=False)\n",
    "estructura.agregarDefectoDeFabricacion(fi0=-1.2*10**-4)\n",
    "superElemento = estructura.hacerSuperElemento(gdlVisibles=[0,1,2,18,19,2],gdlInvisibles=[3,4,5,6,7,8,9,10,11,12,13,14,15,16,17])\n",
    "KGorro = superElemento[1]\n",
    "FGorro = superElemento[0]\n",
    "estructura.solucionar(verbose=False,dibujar=True,guardar=True,carpeta='PUNTO2_RESULTADOS_arco')\n",
    "path = os.getcwd() + '/' + 'PUNTO2_RESULTADOS_arco' \n",
    "np.savetxt(path+\"/KGorro.csv\", KGorro, delimiter=\",\")\n",
    "np.savetxt(path+\"/FGorro.csv\", FGorro, delimiter=\",\")"
   ]
  },
  {
   "cell_type": "code",
   "execution_count": 3,
   "metadata": {},
   "outputs": [
    {
     "name": "stdout",
     "output_type": "stream",
     "text": [
      "Se han guardado los resultados en: C:\\Users\\david\\Desktop\\Analisis Avanzado\\Python/PUNTO2_RESULTADOS_ensamblado \n",
      "Se guardo la matriz del resorte acoplado en lacarpeta: PUNTO2_RESULTADOS_ensamblado\n"
     ]
    }
   ],
   "source": [
    "estructura = Estructura()\n",
    "EI = 105*10**3\n",
    "EA = 50*EI\n",
    "CONCRETO = Material('CONCRETO', 1, 0.2, 9.9*10**-6, 23.54)\n",
    "SECCION = Seccion('ELEMENTOS', TipoSeccion.GENERAL, [EA,EI], CONCRETO)\n",
    "\n",
    "estructura.agregarNodo(x=0,y=0,fix=[False,False,False])\n",
    "estructura.agregarNodo(x=0,y=8)\n",
    "estructura.agregarNodo(x=16,y=8)\n",
    "estructura.agregarNodo(x=16,y=0,fix=[False,False,False])\n",
    "estructura.agregarCargaNodo(nodo=2, px=-40,py=-55)\n",
    "KCOLUMNA = np.array([[380109.19,0,-1773758,-380109,0,-1267116],[0,4615283,0,0,-4615283,0],[-1773758,0,9983464,1773758,0,4206600],[-380109,0,1773758,380109.19,0,1267115.6],[0,-4615283,0,0,4615283,0],[-1267115.6,0,4206600,1267116,0,5930324]])\n",
    "FCOLUMNA = np.array([0,0,0,0,0,0]).reshape([6,1])\n",
    "estructura.agregarSuperElementos(KGorro,FGorro,[0,1,2,3,4,5])\n",
    "estructura.agregarSuperElementos(KCOLUMNA,FCOLUMNA,[6,7,8,0,1,2])\n",
    "estructura.agregarSuperElementos(KCOLUMNA,FCOLUMNA,[9,10,11,3,4,5])\n",
    "estructura.agregarElemento(seccion=SECCION, nodoInicial=0, nodoFinal=2, tipo=Tipo.DOS, defCortante=False)\n",
    "estructura.solucionar(verbose=False,dibujar=True,guardar=True,carpeta='PUNTO2_RESULTADOS_ensamblado')\n",
    "superElementoTOTAL = estructura.hacerSuperElemento(gdlVisibles=[3,4],gdlInvisibles=[0,1,2,5])\n",
    "KGorroTOTAL = superElementoTOTAL[1]\n",
    "FGorroTOTAL = superElementoTOTAL[0]\n",
    "import os\n",
    "path = os.getcwd() + '/' + 'PUNTO2_RESULTADOS_ensamblado'\n",
    "np.savetxt(path+\"/KGorro.csv\", KGorroTOTAL, delimiter=\",\")\n",
    "np.savetxt(path+\"/FGorro.csv\", FGorroTOTAL, delimiter=\",\")\n",
    "print('Se guardo la matriz del resorte acoplado en lacarpeta: ' + 'PUNTO2_RESULTADOS_ensamblado')"
   ]
  },
  {
   "cell_type": "code",
   "execution_count": 46,
   "metadata": {},
   "outputs": [
    {
     "data": {
      "text/plain": [
       "Text(0, 0.5, 'Fuerza Axial [KN]')"
      ]
     },
     "execution_count": 46,
     "metadata": {},
     "output_type": "execute_result"
    },
    {
     "data": {
      "image/png": "[encoded data removed]",
      "text/plain": [
       "<Figure size 1080x1440 with 3 Axes>"
      ]
     },
     "metadata": {
      "needs_background": "light"
     },
     "output_type": "display_data"
    }
   ],
   "source": [
    "#FEM PARA DIAGRAMAS DE FUERZAS\n",
    "#Funcion que evalua la funcion de interpolacion requerida\n",
    "import matplotlib.pyplot as plt\n",
    "def fi(x,param):\n",
    "    i = param[0] #Reclasificacion de parametros para mejor lectura\n",
    "    n = param[1]\n",
    "    he = param[2]\n",
    "    h = he/n #Encuentra el tamañode paso\n",
    "    a = 'Parametros Incorrectos' #Valor por defectoen caso de un error en los parametros de entrada\n",
    "    if i<=n:\n",
    "        a = 1\n",
    "        for j in range(0,n+1): #Itera sobre cada uno de \n",
    "            if not j == i: #Evalua que no ocurra division por 0 siguiendo el metodo de lagrange\n",
    "                a = a*((x-j*h)/(i*h-j*h)) #Opera la formula multiplicatoria\n",
    "    return a\n",
    "def dndxfi(x,n,param,h=1/500):\n",
    "    if n <= 0:\n",
    "        return fi(x,param)\n",
    "    else:\n",
    "        return (dndxfi(x+h,n-1,param,h)-dndxfi(x-h,n-1,param,h))/(2*h)\n",
    "def fiz(z,param):\n",
    "    #Reclasificacion de parametros para mejor lectura\n",
    "    i = param[0] #Numero de funcion de interpolación\n",
    "    n = param[1] #Orden de interpolacion\n",
    "    he = param[2] #Tamaño del elemento\n",
    "    h = he/n #Encuentra el tamaño de paso\n",
    "    x = (1+z)*(he/2)\n",
    "    a = 'Parametros Incorrectos' #Valor por defecto en caso de un error en los parametros de entrada\n",
    "    if i<=n: #Evalua la condicion de la multiplicatoria\n",
    "        a = 1 #Se inicializa la variable en 1 para no alterar el valor de la multiplicatoria\n",
    "        for j in range(0,n+1): #Itera sobre cada uno de los ordenes de interpolacion. En Python la funcion\n",
    "            #range(xo,xf) itera desde x0 hasta xf-1, por tal razon se suma 1 en el ciclo\n",
    "            if not j == i: #Evalua que no ocurra division por 0 siguiendo el metodo de lagrange\n",
    "                a = a*((x-j*h)/(i*h-j*h)) #Opera la formula de la multiplicatoria\n",
    "    return a #Retorna el valor de la funcion\n",
    "def dndxfiz(x,n,param,h=1/500):\n",
    "    if n <= 0: #Comprueba si el orden de diferenciacion es 0 para retornar el valor de la funcion\n",
    "        return fiz(x,param) #Retorna el valor de la funcion\n",
    "    else: #Recurre cambiando el orden de diferenciacion\n",
    "        #Calcula diferencias finitas centradas de manera recursiva\n",
    "        return (dndxfiz(x+h,n-1,param,h)-dndxfiz(x-h,n-1,param,h))/(2*h)\n",
    "pesos = [0,0,0,0,0,0]\n",
    "pesos[0] = [2]\n",
    "pesos[1] = [1,1]\n",
    "pesos[2] = [5/9,8/9,5/9]\n",
    "pesos[3] = [(18+np.sqrt(30))/(36),(18+np.sqrt(30))/(36),(18-np.sqrt(30))/(36),(18-np.sqrt(30))/(36)]\n",
    "pesos[4] = [(322+13*np.sqrt(70))/(900),(322+13*np.sqrt(70))/(900),128/225,(322-13*np.sqrt(70))/(900),(322-13*np.sqrt(70))/(900)]\n",
    "pesos[5] = [0.4679139346,0.4679139346,0.3607615730,0.3607615730,0.1713244924,0.1713244924]\n",
    "\n",
    "puntos = [0,0,0,0,0,0]\n",
    "puntos[0] = [0]\n",
    "puntos[1] = [-np.sqrt(1/3),np.sqrt(1/3)]\n",
    "puntos[2] = [-np.sqrt(3/5),0,np.sqrt(3/5)]\n",
    "puntos[3] = [-np.sqrt(3/7-2/7*np.sqrt(6/5)),np.sqrt(3/7-2/7*np.sqrt(6/5)),-np.sqrt(3/7+2/7*np.sqrt(6/5)),np.sqrt(3/7+2/7*np.sqrt(6/5))]\n",
    "puntos[4] = [-1/3*np.sqrt(5-2*np.sqrt(10/7)),1/3*np.sqrt(5-2*np.sqrt(10/7)),0,-1/3*np.sqrt(5+2*np.sqrt(10/7)),1/3*np.sqrt(5+2*np.sqrt(10/7))]\n",
    "puntos[5] = [0.2386191861,-0.2386191861,0.6612093865,-0.6612093865,0.9324695142,-0.9324695142]\n",
    "def evaluarGauss(w,p,fx):\n",
    "    return np.dot(np.array(w),fx(np.array(p)))\n",
    "def integrarGauss(fx,n):\n",
    "    return evaluarGauss(pesos[n-1],puntos[n-1],fx)\n",
    "def ke(he,o,xa,h=1/500):\n",
    "    def kij(i,j):\n",
    "        fx = lambda z: (a(x(z,he,xa))*(dndxfiz(z,1,[i,o,he],h))*(dndxfiz(z,1,[j,o,he],h))*(2/he)*(2/he)+c(x(z,he,xa))*fiz(z,[i,o,he])*fiz(z,[j,o,he]))*he/2\n",
    "        return integrarGauss(fx,puntosGauss),fx\n",
    "    k = np.zeros([o+1,o+1])\n",
    "    for i in range(0,o+1):\n",
    "        for j in range(0,o+1):\n",
    "            k[i][j]=kij(i,j)[0]\n",
    "    return k\n",
    "def fe(he,o,xa,h=1/500):\n",
    "    def fi(i):\n",
    "        fx = lambda z: (f(x(z,he,xa))*fiz(z,[i,o,he]))*he/2\n",
    "        return integrarGauss(fx,puntosGauss),fx\n",
    "    fvect = np.zeros([o+1,1])\n",
    "    for i in range(0,o+1):\n",
    "        fvect[i]=fi(i)[0]\n",
    "    return fvect\n",
    "class ElementoFEM:\n",
    "    def __init__(this,he,gdl,xa,h):\n",
    "        this.he = he\n",
    "        this.Ke = ke(he,ordenAproximacion,xa,h)\n",
    "        this.gdl = gdl\n",
    "        this.Fe = fe(he,ordenAproximacion,xa,h)\n",
    "        this.xa = xa\n",
    "    def postProcesar(this,U):\n",
    "        this.Ue = U[this.gdl]\n",
    "        this.Qe = np.dot(this.Ke,this.Ue)-this.Fe\n",
    "        return this.Qe\n",
    "class FEM1D:\n",
    "    def __init__(this,config):\n",
    "        this.config = config\n",
    "        this.establecerParametros(this.config)\n",
    "    def establecerParametros(this,config):\n",
    "        this.config = config\n",
    "        this.numeroElementos = config['numeroElementos']\n",
    "        this.ordenAproximacion = config['ordenAproximacion']\n",
    "        this.puntosGauss = config['puntosGauss']\n",
    "    def definirCondicionesDeFrontera(this,cbe,cbn):\n",
    "        this.cbe = cbe\n",
    "        this.cbn = cbn\n",
    "ordenAproximacion = 2\n",
    "puntosGauss = 3\n",
    "a = lambda x: 1\n",
    "c = lambda x: 0\n",
    "f = lambda x: 0\n",
    "x = lambda z,xa,he: xa + he/2*(1+z)\n",
    "elemento = estructura.elementos[0]\n",
    "longitud = elemento.Longitud\n",
    "numeroElementos = 40\n",
    "he = longitud/numeroElementos\n",
    "ordenAproximacion = 2\n",
    "tamaño = (ordenAproximacion)*(numeroElementos)+1\n",
    "elementos = np.array([])\n",
    "K = np.zeros([tamaño,tamaño])\n",
    "K1 = np.zeros([tamaño,tamaño])\n",
    "F = np.zeros([tamaño,1])\n",
    "Q = np.zeros([tamaño,1])\n",
    "cbe = [[0,-estructura.elementos[0].p[2]],[-1,-estructura.elementos[0].p[5]]]\n",
    "cbn = []\n",
    "S = np.zeros([tamaño,1])\n",
    "for i in range(0,numeroElementos):\n",
    "    xa = i*he\n",
    "    elementos = np.append(elementos,ElementoFEM(he,np.arange(i*ordenAproximacion,(i+1)*ordenAproximacion+1,1),xa,1/10000))\n",
    "    Ki = np.zeros([tamaño,tamaño])\n",
    "    Ki[i*ordenAproximacion:(i+1)*ordenAproximacion+1:1,i*ordenAproximacion:(i+1)*ordenAproximacion+1:1] = elementos[i].Ke\n",
    "    K = K + Ki\n",
    "    K1 = K1 + Ki\n",
    "    Fi = np.zeros([tamaño,1])\n",
    "    Fi[i*ordenAproximacion:(i+1)*ordenAproximacion+1:1] = elementos[i].Fe\n",
    "    F = F + Fi\n",
    "for i in cbn:\n",
    "    Q[i[0]] = i[1]\n",
    "for i in cbe:\n",
    "    ui = np.zeros([tamaño,1])\n",
    "    ui[i[0]] = i[1]\n",
    "    vv = np.dot(K1,ui)\n",
    "    S = S - vv\n",
    "    K1[i[0],:] = 0\n",
    "    K1[:,i[0]] = 0\n",
    "    K1[i[0],i[0]] = 1\n",
    "S = S + F + Q\n",
    "for i in cbe:\n",
    "    S[i[0]] = i[1]\n",
    "U = np.dot(np.linalg.inv(K1),S)\n",
    "Q = np.dot(K,U) - F\n",
    "\n",
    "QGeneral = np.array([])\n",
    "for i in range(0,numeroElementos):\n",
    "    QGeneral = np.append(QGeneral,elementos[i].postProcesar(U)[0])\n",
    "QGeneral = np.append(QGeneral,-Q[-1])\n",
    "fig,axes =  plt.subplots(3,figsize=(15,20))\n",
    "axes[0].plot(np.arange(0,longitud+he/2,he/2),U)\n",
    "axes[0].set_title('Diagrama de momentos')\n",
    "axes[0].set_xlabel('Distancia [m]')\n",
    "axes[0].set_ylabel('Momento [KN-m]')\n",
    "axes[1].plot(np.arange(0,longitud+he,he),QGeneral)\n",
    "axes[1].set_title('Diagrama de cortante')\n",
    "axes[1].set_xlabel('Distancia [m]')\n",
    "axes[1].set_ylabel('Cortatne [KN]')\n",
    "\n",
    "axes[2].plot([0,longitud],[-estructura.elementos[0].p[0],estructura.elementos[0].p[3]])\n",
    "axes[2].set_title('Diagrama de fuerza Axial')\n",
    "axes[2].set_xlabel('Distancia [m]')\n",
    "axes[2].set_ylabel('Fuerza Axial [KN]')"
   ]
  },
  {
   "cell_type": "markdown",
   "metadata": {},
   "source": [
    "<h1>Punto 3</h1>"
   ]
  },
  {
   "cell_type": "code",
   "execution_count": 4,
   "metadata": {},
   "outputs": [],
   "source": [
    "CONCRETO = Material('CONCRETO', 20000000, 0.2, 9.9*10**-6, 23.54)\n",
    "factorVigas = 0.35\n",
    "factorColumnas = 0.7\n",
    "SECCIONVIGAS =Seccion('ELEMENTOS2', TipoSeccion.GENERAL, [10*10**20,factorVigas*0.3*0.75**3/12], CONCRETO)\n",
    "SECCIONCOLUMNAS = Seccion('ELEMENTOS2', TipoSeccion.GENERAL, [10*10**20,factorColumnas*0.3*1.2**3/12], CONCRETO)"
   ]
  },
  {
   "cell_type": "markdown",
   "metadata": {},
   "source": [
    "<h3>a</h3>"
   ]
  },
  {
   "cell_type": "code",
   "execution_count": 5,
   "metadata": {},
   "outputs": [
    {
     "name": "stdout",
     "output_type": "stream",
     "text": [
      "Se han guardado los resultados en: C:\\Users\\david\\Desktop\\Analisis Avanzado\\Python/PUNTO3A_RESULTADOS \n"
     ]
    }
   ],
   "source": [
    "estructuraa = Estructura()\n",
    "estructuraa.agregarNodo(x=0,y=0,fix=[False,False,False])\n",
    "estructuraa.agregarNodo(x=10,y=0,fix=[False,False,False])\n",
    "\n",
    "estructuraa.agregarNodo(x=0,y=5)\n",
    "estructuraa.agregarNodo(x=10,y=5)\n",
    "estructuraa.agregarNodo(x=0,y=10)\n",
    "estructuraa.agregarNodo(x=10,y=10)\n",
    "\n",
    "estructuraa.agregarElemento(seccion=SECCIONVIGAS, nodoInicial=2, nodoFinal=3, tipo=Tipo.UNO,defCortante=False)\n",
    "estructuraa.agregarElemento(seccion=SECCIONVIGAS, nodoInicial=4, nodoFinal=5, tipo=Tipo.UNO,defCortante=False)\n",
    "estructuraa.agregarElemento(seccion=SECCIONCOLUMNAS, nodoInicial=0, nodoFinal=2, tipo=Tipo.UNO,defCortante=False)\n",
    "estructuraa.agregarElemento(seccion=SECCIONCOLUMNAS, nodoInicial=2, nodoFinal=4, tipo=Tipo.UNO,defCortante=False)\n",
    "estructuraa.agregarElemento(seccion=SECCIONCOLUMNAS, nodoInicial=1, nodoFinal=3, tipo=Tipo.UNO,defCortante=False)\n",
    "estructuraa.agregarElemento(seccion=SECCIONCOLUMNAS, nodoInicial=3, nodoFinal=5, tipo=Tipo.UNO,defCortante=False)\n",
    "\n",
    "estructuraa.agregarCargaNodo(nodo=2, px=450)\n",
    "estructuraa.agregarCargaNodo(nodo=4, px=900)\n",
    "estructuraa.solucionar(verbose=False,dibujar=True,guardar=True,carpeta='PUNTO3A_RESULTADOS')\n",
    "derivasa = estructuraa.Ul[np.ix_([1,6])]/5*100"
   ]
  },
  {
   "cell_type": "markdown",
   "metadata": {},
   "source": [
    "<h3>b</h3>"
   ]
  },
  {
   "cell_type": "code",
   "execution_count": 6,
   "metadata": {},
   "outputs": [
    {
     "name": "stdout",
     "output_type": "stream",
     "text": [
      "Se han guardado los resultados en: C:\\Users\\david\\Desktop\\Analisis Avanzado\\Python/PUNTO3B_RESULTADOS \n"
     ]
    }
   ],
   "source": [
    "estructurab = Estructura()\n",
    "estructurab.agregarNodo(x=0,y=0,fix=[False,False,False])\n",
    "estructurab.agregarNodo(x=10,y=0,fix=[False,False,False])\n",
    "\n",
    "estructurab.agregarNodo(x=0,y=5)\n",
    "estructurab.agregarNodo(x=10,y=5)\n",
    "estructurab.agregarNodo(x=0,y=10)\n",
    "estructurab.agregarNodo(x=10,y=10)\n",
    "\n",
    "estructurab.agregarElemento(seccion=SECCIONVIGAS, nodoInicial=2, nodoFinal=3, tipo=Tipo.UNO,apoyoIzquierdo=1.2,za=0.5,apoyoDerecho=1.2,zb=0.5)\n",
    "estructurab.agregarElemento(seccion=SECCIONVIGAS, nodoInicial=4, nodoFinal=5, tipo=Tipo.UNO,apoyoIzquierdo=1.2,za=0.5,apoyoDerecho=1.2,zb=0.5)\n",
    "estructurab.agregarElemento(seccion=SECCIONCOLUMNAS, nodoInicial=0, nodoFinal=2, tipo=Tipo.UNO,apoyoIzquierdo=0,za=0,apoyoDerecho=0.75,zb=0.5)\n",
    "estructurab.agregarElemento(seccion=SECCIONCOLUMNAS, nodoInicial=2, nodoFinal=4, tipo=Tipo.UNO,apoyoIzquierdo=0.75,za=0.5,apoyoDerecho=0.75,zb=0.5)\n",
    "estructurab.agregarElemento(seccion=SECCIONCOLUMNAS, nodoInicial=1, nodoFinal=3, tipo=Tipo.UNO,apoyoIzquierdo=0,za=0,apoyoDerecho=0.75,zb=0.5)\n",
    "estructurab.agregarElemento(seccion=SECCIONCOLUMNAS, nodoInicial=3, nodoFinal=5, tipo=Tipo.UNO,apoyoIzquierdo=0.75,za=0.5,apoyoDerecho=0.75,zb=0.5)\n",
    "\n",
    "estructurab.agregarCargaNodo(nodo=2, px=450)\n",
    "estructurab.agregarCargaNodo(nodo=4, px=900)\n",
    "estructurab.solucionar(verbose=False,dibujar=True,guardar=True,carpeta='PUNTO3B_RESULTADOS')\n",
    "derivasb = estructurab.Ul[np.ix_([1,6])]/5*100"
   ]
  },
  {
   "cell_type": "markdown",
   "metadata": {},
   "source": [
    "<h3>c</h3>"
   ]
  },
  {
   "cell_type": "code",
   "execution_count": 7,
   "metadata": {},
   "outputs": [
    {
     "name": "stdout",
     "output_type": "stream",
     "text": [
      "Error por desplazamiento[%]: \n",
      "[[ 2.51400000e+00]\n",
      " [ 2.51400000e+00]\n",
      " [-1.66400000e+00]\n",
      " [ 2.51400000e+00]\n",
      " [ 2.51400000e+00]\n",
      " [-1.71100000e+00]\n",
      " [-6.81218340e+05]\n",
      " [-6.77857082e+05]\n",
      " [ 5.19500000e+00]\n",
      " [-6.81218340e+05]\n",
      " [-6.84613098e+05]\n",
      " [ 5.13000000e+00]]\n"
     ]
    }
   ],
   "source": [
    "#Porcentaje de error\n",
    "#Desplazamientos\n",
    "error=(estructuraa.Ul - estructurab.Ul)/estructurab.Ul\n",
    "print('Error por desplazamiento[%]: \\n'+format(np.round(error,3)))"
   ]
  },
  {
   "cell_type": "code",
   "execution_count": 8,
   "metadata": {},
   "outputs": [
    {
     "name": "stdout",
     "output_type": "stream",
     "text": [
      "Error por reacciones[%]: \n",
      "[[2.545]\n",
      " [4.565]\n",
      " [2.563]\n",
      " [2.491]\n",
      " [4.565]\n",
      " [2.526]]\n"
     ]
    }
   ],
   "source": [
    "#Porcentaje de error\n",
    "#Reacciones\n",
    "error=(estructuraa.Rn - estructurab.Rn)/estructurab.Rn\n",
    "print('Error por reacciones[%]: \\n'+format(np.round(error,3)))"
   ]
  },
  {
   "cell_type": "code",
   "execution_count": 9,
   "metadata": {},
   "outputs": [
    {
     "name": "stdout",
     "output_type": "stream",
     "text": [
      "Error en derivas: \n",
      "[[ 2.5140000e+00]\n",
      " [-6.8121834e+05]]\n"
     ]
    }
   ],
   "source": [
    "#Porcentaje de error\n",
    "#Derivas\n",
    "error=(derivasa - derivasb)/derivasb\n",
    "print('Error en derivas: \\n'+format(np.round(error,3)))"
   ]
  }
 ],
 "metadata": {
  "kernelspec": {
   "display_name": "Python 3",
   "language": "python",
   "name": "python3"
  },
  "language_info": {
   "codemirror_mode": {
    "name": "ipython",
    "version": 3
   },
   "file_extension": ".py",
   "mimetype": "text/x-python",
   "name": "python",
   "nbconvert_exporter": "python",
   "pygments_lexer": "ipython3",
   "version": "3.7.5"
  }
 },
 "nbformat": 4,
 "nbformat_minor": 4
}
